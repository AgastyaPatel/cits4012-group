{
  "nbformat": 4,
  "nbformat_minor": 0,
  "metadata": {
    "colab": {
      "provenance": [],
      "gpuType": "T4",
      "authorship_tag": "ABX9TyPEGZhrt457xHgC5Ei0sDyM",
      "include_colab_link": true
    },
    "kernelspec": {
      "name": "python3",
      "display_name": "Python 3"
    },
    "language_info": {
      "name": "python"
    },
    "accelerator": "GPU"
  },
  "cells": [
    {
      "cell_type": "markdown",
      "metadata": {
        "id": "view-in-github",
        "colab_type": "text"
      },
      "source": [
        "<a href=\"https://colab.research.google.com/github/AgastyaPatel/cits4012-group/blob/main/MODEL_2_Cross_Attention.ipynb\" target=\"_parent\"><img src=\"https://colab.research.google.com/assets/colab-badge.svg\" alt=\"Open In Colab\"/></a>"
      ]
    },
    {
      "cell_type": "code",
      "source": [
        "%env PYTORCH_CUDA_ALLOC_CONF=expandable_segments:True\n"
      ],
      "metadata": {
        "id": "S1lYpWgy-4dn",
        "colab": {
          "base_uri": "https://localhost:8080/"
        },
        "outputId": "e594658f-c888-417b-efc4-da6510cce750"
      },
      "execution_count": null,
      "outputs": [
        {
          "output_type": "stream",
          "name": "stdout",
          "text": [
            "env: PYTORCH_CUDA_ALLOC_CONF=expandable_segments:True\n"
          ]
        }
      ]
    },
    {
      "cell_type": "code",
      "source": [],
      "metadata": {
        "id": "pNClkX4uBQuW"
      },
      "execution_count": null,
      "outputs": []
    },
    {
      "cell_type": "code",
      "source": [
        "from google.colab import drive\n",
        "drive.mount('/content/drive')"
      ],
      "metadata": {
        "colab": {
          "base_uri": "https://localhost:8080/"
        },
        "id": "B-uZtP-bi2EA",
        "outputId": "69ce9698-51a5-4dc6-b220-993b1bbf4663"
      },
      "execution_count": null,
      "outputs": [
        {
          "output_type": "stream",
          "name": "stdout",
          "text": [
            "Mounted at /content/drive\n"
          ]
        }
      ]
    },
    {
      "cell_type": "code",
      "source": [
        "# Uncomment this if you have not downloaded glove in your colab notebook (or google drive)\n",
        "!wget http://nlp.stanford.edu/data/glove.6B.zip -O glove.6B.zip\n",
        "!unzip -q# glove.6B.zip -d glove\n"
      ],
      "metadata": {
        "colab": {
          "base_uri": "https://localhost:8080/"
        },
        "id": "wja30aGfl9qf",
        "outputId": "69072053-6d49-4d36-9d56-a6d4997d3f3a"
      },
      "execution_count": null,
      "outputs": [
        {
          "output_type": "stream",
          "name": "stdout",
          "text": [
            "--2025-10-16 08:45:44--  http://nlp.stanford.edu/data/glove.6B.zip\n",
            "Resolving nlp.stanford.edu (nlp.stanford.edu)... 171.64.67.140\n",
            "Connecting to nlp.stanford.edu (nlp.stanford.edu)|171.64.67.140|:80... connected.\n",
            "HTTP request sent, awaiting response... 302 Found\n",
            "Location: https://nlp.stanford.edu/data/glove.6B.zip [following]\n",
            "--2025-10-16 08:45:44--  https://nlp.stanford.edu/data/glove.6B.zip\n",
            "Connecting to nlp.stanford.edu (nlp.stanford.edu)|171.64.67.140|:443... connected.\n",
            "HTTP request sent, awaiting response... 301 Moved Permanently\n",
            "Location: https://downloads.cs.stanford.edu/nlp/data/glove.6B.zip [following]\n",
            "--2025-10-16 08:45:44--  https://downloads.cs.stanford.edu/nlp/data/glove.6B.zip\n",
            "Resolving downloads.cs.stanford.edu (downloads.cs.stanford.edu)... 171.64.64.22\n",
            "Connecting to downloads.cs.stanford.edu (downloads.cs.stanford.edu)|171.64.64.22|:443... connected.\n",
            "HTTP request sent, awaiting response... 200 OK\n",
            "Length: 862182613 (822M) [application/zip]\n",
            "Saving to: ‘glove.6B.zip’\n",
            "\n",
            "glove.6B.zip        100%[===================>] 822.24M  5.01MB/s    in 2m 38s  \n",
            "\n",
            "2025-10-16 08:48:23 (5.19 MB/s) - ‘glove.6B.zip’ saved [862182613/862182613]\n",
            "\n",
            "UnZip 6.00 of 20 April 2009, by Debian. Original by Info-ZIP.\n",
            "\n",
            "Usage: unzip [-Z] [-opts[modifiers]] file[.zip] [list] [-x xlist] [-d exdir]\n",
            "  Default action is to extract files in list, except those in xlist, to exdir;\n",
            "  file[.zip] may be a wildcard.  -Z => ZipInfo mode (\"unzip -Z\" for usage).\n",
            "\n",
            "  -p  extract files to pipe, no messages     -l  list files (short format)\n",
            "  -f  freshen existing files, create none    -t  test compressed archive data\n",
            "  -u  update files, create if necessary      -z  display archive comment only\n",
            "  -v  list verbosely/show version info       -T  timestamp archive to latest\n",
            "  -x  exclude files that follow (in xlist)   -d  extract files into exdir\n",
            "modifiers:\n",
            "  -n  never overwrite existing files         -q  quiet mode (-qq => quieter)\n",
            "  -o  overwrite files WITHOUT prompting      -a  auto-convert any text files\n",
            "  -j  junk paths (do not make directories)   -aa treat ALL files as text\n",
            "  -U  use escapes for all non-ASCII Unicode  -UU ignore any Unicode fields\n",
            "  -C  match filenames case-insensitively     -L  make (some) names lowercase\n",
            "  -X  restore UID/GID info                   -V  retain VMS version numbers\n",
            "  -K  keep setuid/setgid/tacky permissions   -M  pipe through \"more\" pager\n",
            "  -O CHARSET  specify a character encoding for DOS, Windows and OS/2 archives\n",
            "  -I CHARSET  specify a character encoding for UNIX and other archives\n",
            "\n",
            "See \"unzip -hh\" or unzip.txt for more help.  Examples:\n",
            "  unzip data1 -x joe   => extract all files except joe from zipfile data1.zip\n",
            "  unzip -p foo | more  => send contents of foo.zip via pipe into program more\n",
            "  unzip -fo foo ReadMe => quietly replace existing ReadMe if archive file newer\n"
          ]
        }
      ]
    },
    {
      "cell_type": "code",
      "source": [
        "import os\n",
        "print(\"Current working directory:\", os.getcwd())\n",
        "!ls -lh\n"
      ],
      "metadata": {
        "colab": {
          "base_uri": "https://localhost:8080/"
        },
        "id": "lYv4HBmbnxo2",
        "outputId": "24dc3be2-bad0-4fc7-ac53-34ce030615f5"
      },
      "execution_count": null,
      "outputs": [
        {
          "output_type": "stream",
          "name": "stdout",
          "text": [
            "Current working directory: /content\n",
            "total 823M\n",
            "drwx------ 5 root root 4.0K Oct 16 08:45 drive\n",
            "-rw-r--r-- 1 root root 823M Oct 25  2015 glove.6B.zip\n",
            "drwxr-xr-x 1 root root 4.0K Oct 14 13:41 sample_data\n"
          ]
        }
      ]
    },
    {
      "cell_type": "code",
      "source": [
        "!ls -lh glove | grep 100d\n"
      ],
      "metadata": {
        "colab": {
          "base_uri": "https://localhost:8080/"
        },
        "id": "XfQw0W8inNkR",
        "outputId": "b21909c3-4d42-4b81-a27b-5ce2fdae4bf8"
      },
      "execution_count": null,
      "outputs": [
        {
          "output_type": "stream",
          "name": "stdout",
          "text": [
            "-rw------- 1 root root 332M Aug  4  2014 glove.6B.100d.txt\n"
          ]
        }
      ]
    },
    {
      "cell_type": "code",
      "source": [
        "%cd /content/drive/MyDrive/DATASET/"
      ],
      "metadata": {
        "colab": {
          "base_uri": "https://localhost:8080/"
        },
        "id": "BJUYoD_Xi5qf",
        "outputId": "7253059c-36b1-485c-e5c5-73fe57baa8ca"
      },
      "execution_count": null,
      "outputs": [
        {
          "output_type": "stream",
          "name": "stdout",
          "text": [
            "/content/drive/MyDrive/DATASET\n"
          ]
        }
      ]
    },
    {
      "cell_type": "code",
      "source": [
        "!mkdir -p data models results utils"
      ],
      "metadata": {
        "id": "-4UkeQZci7iP"
      },
      "execution_count": null,
      "outputs": []
    },
    {
      "cell_type": "code",
      "source": [
        "import json\n",
        "import pandas as pd\n",
        "import re\n",
        "import nltk\n",
        "import matplotlib.pyplot as plt\n",
        "from collections import Counter\n",
        "import torch.nn.functional as F\n",
        "from tqdm import tqdm\n",
        "import seaborn as sns\n",
        "\n",
        "\n",
        "nltk.download(\"punkt\")\n",
        "nltk.download(\"wordnet\")\n",
        "nltk.download(\"all\")\n",
        "# Download the missing resource for word_tokenize\n",
        "nltk.download(\"punkt_tab\")\n",
        "\n",
        "from nltk.tokenize import word_tokenize\n",
        "from nltk.stem import WordNetLemmatizer"
      ],
      "metadata": {
        "id": "QmmUnftQi-ic",
        "colab": {
          "base_uri": "https://localhost:8080/"
        },
        "outputId": "8aa66419-fed4-432a-ad1d-a12547d248ca"
      },
      "execution_count": null,
      "outputs": [
        {
          "output_type": "stream",
          "name": "stderr",
          "text": [
            "[nltk_data] Downloading package punkt to /root/nltk_data...\n",
            "[nltk_data]   Unzipping tokenizers/punkt.zip.\n",
            "[nltk_data] Downloading package wordnet to /root/nltk_data...\n",
            "[nltk_data] Downloading collection 'all'\n",
            "[nltk_data]    | \n",
            "[nltk_data]    | Downloading package abc to /root/nltk_data...\n",
            "[nltk_data]    |   Unzipping corpora/abc.zip.\n",
            "[nltk_data]    | Downloading package alpino to /root/nltk_data...\n",
            "[nltk_data]    |   Unzipping corpora/alpino.zip.\n",
            "[nltk_data]    | Downloading package averaged_perceptron_tagger to\n",
            "[nltk_data]    |     /root/nltk_data...\n",
            "[nltk_data]    |   Unzipping taggers/averaged_perceptron_tagger.zip.\n",
            "[nltk_data]    | Downloading package averaged_perceptron_tagger_eng to\n",
            "[nltk_data]    |     /root/nltk_data...\n",
            "[nltk_data]    |   Unzipping\n",
            "[nltk_data]    |       taggers/averaged_perceptron_tagger_eng.zip.\n",
            "[nltk_data]    | Downloading package averaged_perceptron_tagger_ru to\n",
            "[nltk_data]    |     /root/nltk_data...\n",
            "[nltk_data]    |   Unzipping\n",
            "[nltk_data]    |       taggers/averaged_perceptron_tagger_ru.zip.\n",
            "[nltk_data]    | Downloading package averaged_perceptron_tagger_rus to\n",
            "[nltk_data]    |     /root/nltk_data...\n",
            "[nltk_data]    |   Unzipping\n",
            "[nltk_data]    |       taggers/averaged_perceptron_tagger_rus.zip.\n",
            "[nltk_data]    | Downloading package basque_grammars to\n",
            "[nltk_data]    |     /root/nltk_data...\n",
            "[nltk_data]    |   Unzipping grammars/basque_grammars.zip.\n",
            "[nltk_data]    | Downloading package bcp47 to /root/nltk_data...\n",
            "[nltk_data]    | Downloading package biocreative_ppi to\n",
            "[nltk_data]    |     /root/nltk_data...\n",
            "[nltk_data]    |   Unzipping corpora/biocreative_ppi.zip.\n",
            "[nltk_data]    | Downloading package bllip_wsj_no_aux to\n",
            "[nltk_data]    |     /root/nltk_data...\n",
            "[nltk_data]    |   Unzipping models/bllip_wsj_no_aux.zip.\n",
            "[nltk_data]    | Downloading package book_grammars to\n",
            "[nltk_data]    |     /root/nltk_data...\n",
            "[nltk_data]    |   Unzipping grammars/book_grammars.zip.\n",
            "[nltk_data]    | Downloading package brown to /root/nltk_data...\n",
            "[nltk_data]    |   Unzipping corpora/brown.zip.\n",
            "[nltk_data]    | Downloading package brown_tei to /root/nltk_data...\n",
            "[nltk_data]    |   Unzipping corpora/brown_tei.zip.\n",
            "[nltk_data]    | Downloading package cess_cat to /root/nltk_data...\n",
            "[nltk_data]    |   Unzipping corpora/cess_cat.zip.\n",
            "[nltk_data]    | Downloading package cess_esp to /root/nltk_data...\n",
            "[nltk_data]    |   Unzipping corpora/cess_esp.zip.\n",
            "[nltk_data]    | Downloading package chat80 to /root/nltk_data...\n",
            "[nltk_data]    |   Unzipping corpora/chat80.zip.\n",
            "[nltk_data]    | Downloading package city_database to\n",
            "[nltk_data]    |     /root/nltk_data...\n",
            "[nltk_data]    |   Unzipping corpora/city_database.zip.\n",
            "[nltk_data]    | Downloading package cmudict to /root/nltk_data...\n",
            "[nltk_data]    |   Unzipping corpora/cmudict.zip.\n",
            "[nltk_data]    | Downloading package comparative_sentences to\n",
            "[nltk_data]    |     /root/nltk_data...\n",
            "[nltk_data]    |   Unzipping corpora/comparative_sentences.zip.\n",
            "[nltk_data]    | Downloading package comtrans to /root/nltk_data...\n",
            "[nltk_data]    | Downloading package conll2000 to /root/nltk_data...\n",
            "[nltk_data]    |   Unzipping corpora/conll2000.zip.\n",
            "[nltk_data]    | Downloading package conll2002 to /root/nltk_data...\n",
            "[nltk_data]    |   Unzipping corpora/conll2002.zip.\n",
            "[nltk_data]    | Downloading package conll2007 to /root/nltk_data...\n",
            "[nltk_data]    | Downloading package crubadan to /root/nltk_data...\n",
            "[nltk_data]    |   Unzipping corpora/crubadan.zip.\n",
            "[nltk_data]    | Downloading package dependency_treebank to\n",
            "[nltk_data]    |     /root/nltk_data...\n",
            "[nltk_data]    |   Unzipping corpora/dependency_treebank.zip.\n",
            "[nltk_data]    | Downloading package dolch to /root/nltk_data...\n",
            "[nltk_data]    |   Unzipping corpora/dolch.zip.\n",
            "[nltk_data]    | Downloading package english_wordnet to\n",
            "[nltk_data]    |     /root/nltk_data...\n",
            "[nltk_data]    |   Unzipping corpora/english_wordnet.zip.\n",
            "[nltk_data]    | Downloading package europarl_raw to\n",
            "[nltk_data]    |     /root/nltk_data...\n",
            "[nltk_data]    |   Unzipping corpora/europarl_raw.zip.\n",
            "[nltk_data]    | Downloading package extended_omw to\n",
            "[nltk_data]    |     /root/nltk_data...\n",
            "[nltk_data]    | Downloading package floresta to /root/nltk_data...\n",
            "[nltk_data]    |   Unzipping corpora/floresta.zip.\n",
            "[nltk_data]    | Downloading package framenet_v15 to\n",
            "[nltk_data]    |     /root/nltk_data...\n",
            "[nltk_data]    |   Unzipping corpora/framenet_v15.zip.\n",
            "[nltk_data]    | Downloading package framenet_v17 to\n",
            "[nltk_data]    |     /root/nltk_data...\n",
            "[nltk_data]    |   Unzipping corpora/framenet_v17.zip.\n",
            "[nltk_data]    | Downloading package gazetteers to /root/nltk_data...\n",
            "[nltk_data]    |   Unzipping corpora/gazetteers.zip.\n",
            "[nltk_data]    | Downloading package genesis to /root/nltk_data...\n",
            "[nltk_data]    |   Unzipping corpora/genesis.zip.\n",
            "[nltk_data]    | Downloading package gutenberg to /root/nltk_data...\n",
            "[nltk_data]    |   Unzipping corpora/gutenberg.zip.\n",
            "[nltk_data]    | Downloading package ieer to /root/nltk_data...\n",
            "[nltk_data]    |   Unzipping corpora/ieer.zip.\n",
            "[nltk_data]    | Downloading package inaugural to /root/nltk_data...\n",
            "[nltk_data]    |   Unzipping corpora/inaugural.zip.\n",
            "[nltk_data]    | Downloading package indian to /root/nltk_data...\n",
            "[nltk_data]    |   Unzipping corpora/indian.zip.\n",
            "[nltk_data]    | Downloading package jeita to /root/nltk_data...\n",
            "[nltk_data]    | Downloading package kimmo to /root/nltk_data...\n",
            "[nltk_data]    |   Unzipping corpora/kimmo.zip.\n",
            "[nltk_data]    | Downloading package knbc to /root/nltk_data...\n",
            "[nltk_data]    | Downloading package large_grammars to\n",
            "[nltk_data]    |     /root/nltk_data...\n",
            "[nltk_data]    |   Unzipping grammars/large_grammars.zip.\n",
            "[nltk_data]    | Downloading package lin_thesaurus to\n",
            "[nltk_data]    |     /root/nltk_data...\n",
            "[nltk_data]    |   Unzipping corpora/lin_thesaurus.zip.\n",
            "[nltk_data]    | Downloading package mac_morpho to /root/nltk_data...\n",
            "[nltk_data]    |   Unzipping corpora/mac_morpho.zip.\n",
            "[nltk_data]    | Downloading package machado to /root/nltk_data...\n",
            "[nltk_data]    | Downloading package masc_tagged to /root/nltk_data...\n",
            "[nltk_data]    | Downloading package maxent_ne_chunker to\n",
            "[nltk_data]    |     /root/nltk_data...\n",
            "[nltk_data]    |   Unzipping chunkers/maxent_ne_chunker.zip.\n",
            "[nltk_data]    | Downloading package maxent_ne_chunker_tab to\n",
            "[nltk_data]    |     /root/nltk_data...\n",
            "[nltk_data]    |   Unzipping chunkers/maxent_ne_chunker_tab.zip.\n",
            "[nltk_data]    | Downloading package maxent_treebank_pos_tagger to\n",
            "[nltk_data]    |     /root/nltk_data...\n",
            "[nltk_data]    |   Unzipping taggers/maxent_treebank_pos_tagger.zip.\n",
            "[nltk_data]    | Downloading package maxent_treebank_pos_tagger_tab to\n",
            "[nltk_data]    |     /root/nltk_data...\n",
            "[nltk_data]    |   Unzipping\n",
            "[nltk_data]    |       taggers/maxent_treebank_pos_tagger_tab.zip.\n",
            "[nltk_data]    | Downloading package mock_corpus to /root/nltk_data...\n",
            "[nltk_data]    |   Unzipping corpora/mock_corpus.zip.\n",
            "[nltk_data]    | Downloading package moses_sample to\n",
            "[nltk_data]    |     /root/nltk_data...\n",
            "[nltk_data]    |   Unzipping models/moses_sample.zip.\n",
            "[nltk_data]    | Downloading package movie_reviews to\n",
            "[nltk_data]    |     /root/nltk_data...\n",
            "[nltk_data]    |   Unzipping corpora/movie_reviews.zip.\n",
            "[nltk_data]    | Downloading package mte_teip5 to /root/nltk_data...\n",
            "[nltk_data]    |   Unzipping corpora/mte_teip5.zip.\n",
            "[nltk_data]    | Downloading package mwa_ppdb to /root/nltk_data...\n",
            "[nltk_data]    |   Unzipping misc/mwa_ppdb.zip.\n",
            "[nltk_data]    | Downloading package names to /root/nltk_data...\n",
            "[nltk_data]    |   Unzipping corpora/names.zip.\n",
            "[nltk_data]    | Downloading package nombank.1.0 to /root/nltk_data...\n",
            "[nltk_data]    | Downloading package nonbreaking_prefixes to\n",
            "[nltk_data]    |     /root/nltk_data...\n",
            "[nltk_data]    |   Unzipping corpora/nonbreaking_prefixes.zip.\n",
            "[nltk_data]    | Downloading package nps_chat to /root/nltk_data...\n",
            "[nltk_data]    |   Unzipping corpora/nps_chat.zip.\n",
            "[nltk_data]    | Downloading package omw to /root/nltk_data...\n",
            "[nltk_data]    | Downloading package omw-1.4 to /root/nltk_data...\n",
            "[nltk_data]    | Downloading package opinion_lexicon to\n",
            "[nltk_data]    |     /root/nltk_data...\n",
            "[nltk_data]    |   Unzipping corpora/opinion_lexicon.zip.\n",
            "[nltk_data]    | Downloading package panlex_swadesh to\n",
            "[nltk_data]    |     /root/nltk_data...\n",
            "[nltk_data]    | Downloading package paradigms to /root/nltk_data...\n",
            "[nltk_data]    |   Unzipping corpora/paradigms.zip.\n",
            "[nltk_data]    | Downloading package pe08 to /root/nltk_data...\n",
            "[nltk_data]    |   Unzipping corpora/pe08.zip.\n",
            "[nltk_data]    | Downloading package perluniprops to\n",
            "[nltk_data]    |     /root/nltk_data...\n",
            "[nltk_data]    |   Unzipping misc/perluniprops.zip.\n",
            "[nltk_data]    | Downloading package pil to /root/nltk_data...\n",
            "[nltk_data]    |   Unzipping corpora/pil.zip.\n",
            "[nltk_data]    | Downloading package pl196x to /root/nltk_data...\n",
            "[nltk_data]    |   Unzipping corpora/pl196x.zip.\n",
            "[nltk_data]    | Downloading package porter_test to /root/nltk_data...\n",
            "[nltk_data]    |   Unzipping stemmers/porter_test.zip.\n",
            "[nltk_data]    | Downloading package ppattach to /root/nltk_data...\n",
            "[nltk_data]    |   Unzipping corpora/ppattach.zip.\n",
            "[nltk_data]    | Downloading package problem_reports to\n",
            "[nltk_data]    |     /root/nltk_data...\n",
            "[nltk_data]    |   Unzipping corpora/problem_reports.zip.\n",
            "[nltk_data]    | Downloading package product_reviews_1 to\n",
            "[nltk_data]    |     /root/nltk_data...\n",
            "[nltk_data]    |   Unzipping corpora/product_reviews_1.zip.\n",
            "[nltk_data]    | Downloading package product_reviews_2 to\n",
            "[nltk_data]    |     /root/nltk_data...\n",
            "[nltk_data]    |   Unzipping corpora/product_reviews_2.zip.\n",
            "[nltk_data]    | Downloading package propbank to /root/nltk_data...\n",
            "[nltk_data]    | Downloading package pros_cons to /root/nltk_data...\n",
            "[nltk_data]    |   Unzipping corpora/pros_cons.zip.\n",
            "[nltk_data]    | Downloading package ptb to /root/nltk_data...\n",
            "[nltk_data]    |   Unzipping corpora/ptb.zip.\n",
            "[nltk_data]    | Downloading package punkt to /root/nltk_data...\n",
            "[nltk_data]    |   Package punkt is already up-to-date!\n",
            "[nltk_data]    | Downloading package punkt_tab to /root/nltk_data...\n",
            "[nltk_data]    |   Unzipping tokenizers/punkt_tab.zip.\n",
            "[nltk_data]    | Downloading package qc to /root/nltk_data...\n",
            "[nltk_data]    |   Unzipping corpora/qc.zip.\n",
            "[nltk_data]    | Downloading package reuters to /root/nltk_data...\n",
            "[nltk_data]    | Downloading package rslp to /root/nltk_data...\n",
            "[nltk_data]    |   Unzipping stemmers/rslp.zip.\n",
            "[nltk_data]    | Downloading package rte to /root/nltk_data...\n",
            "[nltk_data]    |   Unzipping corpora/rte.zip.\n",
            "[nltk_data]    | Downloading package sample_grammars to\n",
            "[nltk_data]    |     /root/nltk_data...\n",
            "[nltk_data]    |   Unzipping grammars/sample_grammars.zip.\n",
            "[nltk_data]    | Downloading package semcor to /root/nltk_data...\n",
            "[nltk_data]    | Downloading package senseval to /root/nltk_data...\n",
            "[nltk_data]    |   Unzipping corpora/senseval.zip.\n",
            "[nltk_data]    | Downloading package sentence_polarity to\n",
            "[nltk_data]    |     /root/nltk_data...\n",
            "[nltk_data]    |   Unzipping corpora/sentence_polarity.zip.\n",
            "[nltk_data]    | Downloading package sentiwordnet to\n",
            "[nltk_data]    |     /root/nltk_data...\n",
            "[nltk_data]    |   Unzipping corpora/sentiwordnet.zip.\n",
            "[nltk_data]    | Downloading package shakespeare to /root/nltk_data...\n",
            "[nltk_data]    |   Unzipping corpora/shakespeare.zip.\n",
            "[nltk_data]    | Downloading package sinica_treebank to\n",
            "[nltk_data]    |     /root/nltk_data...\n",
            "[nltk_data]    |   Unzipping corpora/sinica_treebank.zip.\n",
            "[nltk_data]    | Downloading package smultron to /root/nltk_data...\n",
            "[nltk_data]    |   Unzipping corpora/smultron.zip.\n",
            "[nltk_data]    | Downloading package snowball_data to\n",
            "[nltk_data]    |     /root/nltk_data...\n",
            "[nltk_data]    | Downloading package spanish_grammars to\n",
            "[nltk_data]    |     /root/nltk_data...\n",
            "[nltk_data]    |   Unzipping grammars/spanish_grammars.zip.\n",
            "[nltk_data]    | Downloading package state_union to /root/nltk_data...\n",
            "[nltk_data]    |   Unzipping corpora/state_union.zip.\n",
            "[nltk_data]    | Downloading package stopwords to /root/nltk_data...\n",
            "[nltk_data]    |   Unzipping corpora/stopwords.zip.\n",
            "[nltk_data]    | Downloading package subjectivity to\n",
            "[nltk_data]    |     /root/nltk_data...\n",
            "[nltk_data]    |   Unzipping corpora/subjectivity.zip.\n",
            "[nltk_data]    | Downloading package swadesh to /root/nltk_data...\n",
            "[nltk_data]    |   Unzipping corpora/swadesh.zip.\n",
            "[nltk_data]    | Downloading package switchboard to /root/nltk_data...\n",
            "[nltk_data]    |   Unzipping corpora/switchboard.zip.\n",
            "[nltk_data]    | Downloading package tagsets to /root/nltk_data...\n",
            "[nltk_data]    |   Unzipping help/tagsets.zip.\n",
            "[nltk_data]    | Downloading package tagsets_json to\n",
            "[nltk_data]    |     /root/nltk_data...\n",
            "[nltk_data]    |   Unzipping help/tagsets_json.zip.\n",
            "[nltk_data]    | Downloading package timit to /root/nltk_data...\n",
            "[nltk_data]    |   Unzipping corpora/timit.zip.\n",
            "[nltk_data]    | Downloading package toolbox to /root/nltk_data...\n",
            "[nltk_data]    |   Unzipping corpora/toolbox.zip.\n",
            "[nltk_data]    | Downloading package treebank to /root/nltk_data...\n",
            "[nltk_data]    |   Unzipping corpora/treebank.zip.\n",
            "[nltk_data]    | Downloading package twitter_samples to\n",
            "[nltk_data]    |     /root/nltk_data...\n",
            "[nltk_data]    |   Unzipping corpora/twitter_samples.zip.\n",
            "[nltk_data]    | Downloading package udhr to /root/nltk_data...\n",
            "[nltk_data]    |   Unzipping corpora/udhr.zip.\n",
            "[nltk_data]    | Downloading package udhr2 to /root/nltk_data...\n",
            "[nltk_data]    |   Unzipping corpora/udhr2.zip.\n",
            "[nltk_data]    | Downloading package unicode_samples to\n",
            "[nltk_data]    |     /root/nltk_data...\n",
            "[nltk_data]    |   Unzipping corpora/unicode_samples.zip.\n",
            "[nltk_data]    | Downloading package universal_tagset to\n",
            "[nltk_data]    |     /root/nltk_data...\n",
            "[nltk_data]    |   Unzipping taggers/universal_tagset.zip.\n",
            "[nltk_data]    | Downloading package universal_treebanks_v20 to\n",
            "[nltk_data]    |     /root/nltk_data...\n",
            "[nltk_data]    | Downloading package vader_lexicon to\n",
            "[nltk_data]    |     /root/nltk_data...\n",
            "[nltk_data]    | Downloading package verbnet to /root/nltk_data...\n",
            "[nltk_data]    |   Unzipping corpora/verbnet.zip.\n",
            "[nltk_data]    | Downloading package verbnet3 to /root/nltk_data...\n",
            "[nltk_data]    |   Unzipping corpora/verbnet3.zip.\n",
            "[nltk_data]    | Downloading package webtext to /root/nltk_data...\n",
            "[nltk_data]    |   Unzipping corpora/webtext.zip.\n",
            "[nltk_data]    | Downloading package wmt15_eval to /root/nltk_data...\n",
            "[nltk_data]    |   Unzipping models/wmt15_eval.zip.\n",
            "[nltk_data]    | Downloading package word2vec_sample to\n",
            "[nltk_data]    |     /root/nltk_data...\n",
            "[nltk_data]    |   Unzipping models/word2vec_sample.zip.\n",
            "[nltk_data]    | Downloading package wordnet to /root/nltk_data...\n",
            "[nltk_data]    |   Package wordnet is already up-to-date!\n",
            "[nltk_data]    | Downloading package wordnet2021 to /root/nltk_data...\n",
            "[nltk_data]    | Downloading package wordnet2022 to /root/nltk_data...\n",
            "[nltk_data]    |   Unzipping corpora/wordnet2022.zip.\n",
            "[nltk_data]    | Downloading package wordnet31 to /root/nltk_data...\n",
            "[nltk_data]    | Downloading package wordnet_ic to /root/nltk_data...\n",
            "[nltk_data]    |   Unzipping corpora/wordnet_ic.zip.\n",
            "[nltk_data]    | Downloading package words to /root/nltk_data...\n",
            "[nltk_data]    |   Unzipping corpora/words.zip.\n",
            "[nltk_data]    | Downloading package ycoe to /root/nltk_data...\n",
            "[nltk_data]    |   Unzipping corpora/ycoe.zip.\n",
            "[nltk_data]    | \n",
            "[nltk_data]  Done downloading collection all\n",
            "[nltk_data] Downloading package punkt_tab to /root/nltk_data...\n",
            "[nltk_data]   Package punkt_tab is already up-to-date!\n"
          ]
        }
      ]
    },
    {
      "cell_type": "markdown",
      "source": [
        "# Dataset Description and Preprocessing.\n",
        "The provided NLI dataset consists of premise–hypothesis–label triplets sourced from science exam questions.\n",
        "\n",
        "After removing duplicates and null entries, we obtained N = X training samples, Y validation samples, and Z test samples.\n",
        "\n",
        "Texts were normalised (lowercased, punctuation removed) and tokenised using NLTK. Each token was lemmatised via WordNetLemmatizer.\n",
        "\n",
        "The final vocabulary contained V = {len(vocab)} unique tokens, with sentence lengths averaging A ± B tokens (see Figure 1). Class distribution was approximately balanced (Figure 2)."
      ],
      "metadata": {
        "id": "0c1RNysXjHYE"
      }
    },
    {
      "cell_type": "code",
      "execution_count": null,
      "metadata": {
        "id": "jc14xOhCizoe",
        "colab": {
          "base_uri": "https://localhost:8080/",
          "height": 1000
        },
        "outputId": "ffdb74c1-bd20-47be-f53d-1f8fbb293a2e"
      },
      "outputs": [
        {
          "output_type": "stream",
          "name": "stdout",
          "text": [
            "Train sample:\n",
            "                                             premise  \\\n",
            "0  Pluto rotates once on its axis every 6.39 Eart...   \n",
            "1  ---Glenn =====================================...   \n",
            "2  geysers - periodic gush of hot water at the su...   \n",
            "3  Facts: Liquid water droplets can be changed in...   \n",
            "4  By comparison, the earth rotates on its axis o...   \n",
            "\n",
            "                                          hypothesis    label  \n",
            "0   Earth rotates on its axis once times in one day.  neutral  \n",
            "1   Earth rotates on its axis once times in one day.  entails  \n",
            "2  The surface of the sun is much hotter than alm...  neutral  \n",
            "3  Evaporation is responsible for changing liquid...  entails  \n",
            "4   Earth rotates on its axis once times in one day.  entails  \n",
            "\n",
            "Tokenised example:\n",
            "                                      premise_tokens  \\\n",
            "0  [pluto, rotates, once, on, it, axis, every, 63...   \n",
            "\n",
            "                                   hypothesis_tokens  \n",
            "0  [earth, rotates, on, it, axis, once, time, in,...  \n",
            "\n",
            "Vocabulary size: 20116\n",
            "\n",
            "Class distribution (train):\n",
            "label\n",
            "neutral    14600\n",
            "entails     8468\n",
            "Name: count, dtype: int64\n"
          ]
        },
        {
          "output_type": "display_data",
          "data": {
            "text/plain": [
              "<Figure size 640x480 with 1 Axes>"
            ],
            "image/png": "[encoded data removed]"
          },
          "metadata": {}
        },
        {
          "output_type": "display_data",
          "data": {
            "text/plain": [
              "<Figure size 640x480 with 1 Axes>"
            ],
            "image/png": "[encoded data removed]"
          },
          "metadata": {}
        },
        {
          "output_type": "stream",
          "name": "stdout",
          "text": [
            "Average premise length: 18.01\n",
            "Average hypothesis length: 11.74\n",
            "\n",
            " Preprocessing complete. Cleaned datasets saved to /data/\n"
          ]
        }
      ],
      "source": [
        "from itertools import chain\n",
        "\n",
        "# Step 1: Load datasets\n",
        "def load_json_to_df(path):\n",
        "    with open(path, \"r\") as f:\n",
        "        data = json.load(f)\n",
        "    return pd.DataFrame(data)\n",
        "\n",
        "train_df = load_json_to_df(\"train_formatted.json\")\n",
        "val_df = load_json_to_df(\"validation_formatted.json\")\n",
        "test_df = load_json_to_df(\"test_formatted.json\")\n",
        "\n",
        "print(\"Train sample:\")\n",
        "print(train_df.head())\n",
        "\n",
        "# Step 2: Clean and normalise text\n",
        "def normalize_text(text):\n",
        "    text = text.lower()\n",
        "    text = re.sub(r\"[^a-z0-9\\s]\", \"\", text)  # remove punctuation\n",
        "    text = re.sub(r\"\\s+\", \" \", text).strip()\n",
        "    return text\n",
        "\n",
        "for df in [train_df, val_df, test_df]:\n",
        "    df.dropna(subset=[\"premise\", \"hypothesis\", \"label\"], inplace=True)\n",
        "    df.drop_duplicates(inplace=True)\n",
        "    df[\"premise\"] = df[\"premise\"].apply(normalize_text)\n",
        "    df[\"hypothesis\"] = df[\"hypothesis\"].apply(normalize_text)\n",
        "\n",
        "# Step 3: Tokenise and lemmatise\n",
        "lemmatizer = WordNetLemmatizer()\n",
        "\n",
        "def tokenize_and_lemmatize(text):\n",
        "    tokens = word_tokenize(text, language='english')\n",
        "    lemmas = [lemmatizer.lemmatize(tok) for tok in tokens]\n",
        "    return lemmas\n",
        "\n",
        "for df in [train_df, val_df, test_df]:\n",
        "    df[\"premise_tokens\"] = df[\"premise\"].apply(tokenize_and_lemmatize)\n",
        "    df[\"hypothesis_tokens\"] = df[\"hypothesis\"].apply(tokenize_and_lemmatize)\n",
        "\n",
        "print(\"\\nTokenised example:\")\n",
        "print(train_df[[\"premise_tokens\", \"hypothesis_tokens\"]].head(1))\n",
        "\n",
        "#  Step 4: Encode labels\n",
        "label_map = {\"entails\": 1, \"neutral\": 0}\n",
        "for df in [train_df, val_df, test_df]:\n",
        "    df[\"label_id\"] = df[\"label\"].map(label_map)\n",
        "\n",
        "# Step 5: Vocabulary construction\n",
        "all_tokens = list(chain.from_iterable(train_df[\"premise_tokens\"])) + \\\n",
        "             list(chain.from_iterable(train_df[\"hypothesis_tokens\"]))\n",
        "vocab = sorted(set(all_tokens))\n",
        "print(f\"\\nVocabulary size: {len(vocab)}\")\n",
        "\n",
        "# Build word→index mapping\n",
        "word2idx = {word: idx + 1 for idx, word in enumerate(vocab)}  # +1 reserve 0 for padding\n",
        "idx2word = {idx: word for word, idx in word2idx.items()}\n",
        "\n",
        "# Step 6: Exploratory analysis\n",
        "label_counts = train_df[\"label\"].value_counts()\n",
        "print(\"\\nClass distribution (train):\")\n",
        "print(label_counts)\n",
        "\n",
        "label_counts.plot(kind=\"bar\", title=\"Training Set Class Balance\")\n",
        "plt.show()\n",
        "\n",
        "premise_lens = train_df[\"premise_tokens\"].apply(len)\n",
        "hypothesis_lens = train_df[\"hypothesis_tokens\"].apply(len)\n",
        "\n",
        "plt.hist(premise_lens, bins=50, alpha=0.7, label=\"Premise\")\n",
        "plt.hist(hypothesis_lens, bins=50, alpha=0.7, label=\"Hypothesis\")\n",
        "plt.legend()\n",
        "plt.title(\"Sentence Length Distribution\")\n",
        "plt.xlabel(\"Token count\")\n",
        "plt.ylabel(\"Frequency\")\n",
        "plt.show()\n",
        "\n",
        "print(f\"Average premise length: {premise_lens.mean():.2f}\")\n",
        "print(f\"Average hypothesis length: {hypothesis_lens.mean():.2f}\")\n",
        "\n",
        "# Step 7: Save processed files\n",
        "train_df.to_csv(\"data/train_preprocessed.csv\", index=False)\n",
        "val_df.to_csv(\"data/val_preprocessed.csv\", index=False)\n",
        "test_df.to_csv(\"data/test_preprocessed.csv\", index=False)\n",
        "\n",
        "print(\"\\n Preprocessing complete. Cleaned datasets saved to /data/\")\n"
      ]
    },
    {
      "cell_type": "code",
      "source": [
        "from collections import defaultdict\n",
        "import torch\n",
        "from torch.utils.data import Dataset, DataLoader\n",
        "from torch.nn.utils.rnn import pad_sequence\n",
        "import numpy as np\n",
        "\n",
        "# Step 1: Build vocabulary from training data\n",
        "\n",
        "all_tokens = [tok for toks in train_df[\"premise_tokens\"] for tok in toks] + \\\n",
        "             [tok for toks in train_df[\"hypothesis_tokens\"] for tok in toks]\n",
        "\n",
        "vocab = {\"<pad>\": 0, \"<unk>\": 1}\n",
        "for tok in all_tokens:\n",
        "    if tok not in vocab:\n",
        "        vocab[tok] = len(vocab)\n",
        "\n",
        "inv_vocab = {i: w for w, i in vocab.items()}\n",
        "print(f\" Vocabulary built. Size: {len(vocab)}\")\n",
        "\n",
        "# Step 2: Token → Index conversion function\n",
        "def encode_tokens(tokens, vocab):\n",
        "    return [vocab.get(tok, vocab[\"<unk>\"]) for tok in tokens]\n",
        "\n",
        "train_df[\"premise_ids\"] = train_df[\"premise_tokens\"].apply(lambda x: encode_tokens(x, vocab))\n",
        "train_df[\"hypothesis_ids\"] = train_df[\"hypothesis_tokens\"].apply(lambda x: encode_tokens(x, vocab))\n",
        "val_df[\"premise_ids\"] = val_df[\"premise_tokens\"].apply(lambda x: encode_tokens(x, vocab))\n",
        "val_df[\"hypothesis_ids\"] = val_df[\"hypothesis_tokens\"].apply(lambda x: encode_tokens(x, vocab))\n",
        "test_df[\"premise_ids\"] = test_df[\"premise_tokens\"].apply(lambda x: encode_tokens(x, vocab))\n",
        "test_df[\"hypothesis_ids\"] = test_df[\"hypothesis_tokens\"].apply(lambda x: encode_tokens(x, vocab))\n",
        "\n",
        "print(\"Sample encoded example:\")\n",
        "print(train_df[[\"premise_ids\", \"hypothesis_ids\"]].head(1))\n",
        "\n",
        "# Step 3: Custom Dataset class for PyTorch\n",
        "class NLIDataset(Dataset):\n",
        "    def __init__(self, dataframe):\n",
        "        self.premises = dataframe[\"premise_ids\"].tolist()\n",
        "        self.hypotheses = dataframe[\"hypothesis_ids\"].tolist()\n",
        "        self.labels = dataframe[\"label_id\"].tolist()\n",
        "\n",
        "    def __len__(self):\n",
        "        return len(self.labels)\n",
        "\n",
        "    def __getitem__(self, idx):\n",
        "        premise = torch.tensor(self.premises[idx], dtype=torch.long)\n",
        "        hypothesis = torch.tensor(self.hypotheses[idx], dtype=torch.long)\n",
        "        label = torch.tensor(self.labels[idx], dtype=torch.long)\n",
        "        return premise, hypothesis, label\n",
        "\n",
        "# Step 4: Collate function for dynamic padding\n",
        "def collate_fn(batch):\n",
        "    premises, hypotheses, labels = zip(*batch)\n",
        "    premises_padded = pad_sequence(premises, batch_first=True, padding_value=vocab[\"<pad>\"])\n",
        "    hypotheses_padded = pad_sequence(hypotheses, batch_first=True, padding_value=vocab[\"<pad>\"])\n",
        "    labels = torch.stack(labels)\n",
        "    return premises_padded, hypotheses_padded, labels\n",
        "\n",
        "# Step 5: Create DataLoaders\n",
        "MAX_LEN = 80  # cap sentence length for efficiency\n",
        "def truncate_ids(ids): return ids[:MAX_LEN]\n",
        "for df_ in [train_df, val_df, test_df]:\n",
        "    df_[\"premise_ids\"] = df_[\"premise_ids\"].apply(truncate_ids)\n",
        "    df_[\"hypothesis_ids\"] = df_[\"hypothesis_ids\"].apply(truncate_ids)\n",
        "\n",
        "BATCH_SIZE = 16  # use smaller batch if you hit CUDA OOM\n",
        "\n",
        "\n",
        "train_dataset = NLIDataset(train_df)\n",
        "val_dataset = NLIDataset(val_df)\n",
        "test_dataset = NLIDataset(test_df)\n",
        "\n",
        "train_loader = DataLoader(train_dataset, batch_size=BATCH_SIZE, shuffle=True, collate_fn=collate_fn)\n",
        "val_loader = DataLoader(val_dataset, batch_size=BATCH_SIZE, shuffle=False, collate_fn=collate_fn)\n",
        "test_loader = DataLoader(test_dataset, batch_size=BATCH_SIZE, shuffle=False, collate_fn=collate_fn)\n",
        "\n",
        "print(f\"DataLoaders ready. Train batches: {len(train_loader)}, Val batches: {len(val_loader)}\")\n",
        "\n",
        "# Step 6 (Optional): Quick sanity check\n",
        "prem_batch, hyp_batch, lbl_batch = next(iter(train_loader))\n",
        "print(f\"\\nPremise batch shape: {prem_batch.shape}\")\n",
        "print(f\"Hypothesis batch shape: {hyp_batch.shape}\")\n",
        "print(f\"Label batch shape: {lbl_batch.shape}\")\n"
      ],
      "metadata": {
        "id": "0uPziWqCj8zT",
        "colab": {
          "base_uri": "https://localhost:8080/"
        },
        "outputId": "2d27a1b8-3f45-4829-e5df-af592b067277"
      },
      "execution_count": null,
      "outputs": [
        {
          "output_type": "stream",
          "name": "stdout",
          "text": [
            " Vocabulary built. Size: 20118\n",
            "Sample encoded example:\n",
            "                        premise_ids                       hypothesis_ids\n",
            "0  [2, 3, 4, 5, 6, 7, 8, 9, 10, 11]  [10, 3, 5, 6, 7, 4, 47, 75, 57, 11]\n",
            "DataLoaders ready. Train batches: 1442, Val batches: 82\n",
            "\n",
            "Premise batch shape: torch.Size([16, 34])\n",
            "Hypothesis batch shape: torch.Size([16, 24])\n",
            "Label batch shape: torch.Size([16])\n"
          ]
        }
      ]
    },
    {
      "cell_type": "code",
      "source": [
        "# Encode tokens and labels\n",
        "def encode_tokens(tokens, vocab):\n",
        "    return [vocab.get(tok, vocab[\"<unk>\"]) for tok in tokens]\n",
        "\n",
        "for df in [train_df, val_df, test_df]:\n",
        "    df[\"premise_ids\"] = df[\"premise_tokens\"].apply(lambda t: encode_tokens(t, vocab))\n",
        "    df[\"hypothesis_ids\"] = df[\"hypothesis_tokens\"].apply(lambda t: encode_tokens(t, vocab))\n",
        "    df[\"label_id\"] = df[\"label\"].map(label_map)   # keep consistent mapping\n",
        "\n",
        "#  Save vocab and labels\n",
        "import json, os\n",
        "os.makedirs(\"utils\", exist_ok=True)\n",
        "\n",
        "with open(\"utils/vocab.json\", \"w\") as f:\n",
        "    json.dump(vocab, f)\n",
        "with open(\"utils/labels.json\", \"w\") as f:\n",
        "    json.dump(label_map, f)\n",
        "\n",
        "print(\" Saved vocab and label maps to utils/\")\n",
        "\n",
        "\n",
        "#  Sanity check\n",
        "prem, hyp, lbl = next(iter(train_loader))\n",
        "print(f\"Premise batch: {prem.shape}, Hypothesis batch: {hyp.shape}, Labels: {lbl.shape}\")\n"
      ],
      "metadata": {
        "id": "DWqY-2KTkpiG",
        "colab": {
          "base_uri": "https://localhost:8080/"
        },
        "outputId": "8c68eb5b-a022-4e22-9c17-070ec60836c7"
      },
      "execution_count": null,
      "outputs": [
        {
          "output_type": "stream",
          "name": "stdout",
          "text": [
            " Saved vocab and label maps to utils/\n",
            "Premise batch: torch.Size([16, 31]), Hypothesis batch: torch.Size([16, 24]), Labels: torch.Size([16])\n"
          ]
        }
      ]
    },
    {
      "cell_type": "markdown",
      "source": [
        "# Models"
      ],
      "metadata": {
        "id": "VG4CUjbRliQf"
      }
    },
    {
      "cell_type": "code",
      "source": [
        "import torch, random, numpy as np\n",
        "\n",
        "SEED = 42\n",
        "torch.manual_seed(SEED)\n",
        "torch.cuda.manual_seed(SEED)\n",
        "np.random.seed(SEED)\n",
        "random.seed(SEED)\n",
        "torch.backends.cudnn.deterministic = True\n",
        "torch.backends.cudnn.benchmark = False\n"
      ],
      "metadata": {
        "id": "gtV9JYZ3llgb"
      },
      "execution_count": null,
      "outputs": []
    },
    {
      "cell_type": "code",
      "source": [
        "import numpy as np\n",
        "import torch.nn as nn\n",
        "\n",
        "EMB_DIM = 100  # 50, 100, or 300 depending on GloVe file used\n",
        "GLOVE_PATH = \"/content/drive/MyDrive/DATASET/glove/glove.6B.100d.txt\"\n",
        "\n",
        "\n",
        "# 1. Load glove vectors\n",
        "glove_vectors = {}\n",
        "with open(GLOVE_PATH, \"r\", encoding=\"utf8\") as f:\n",
        "    for line in f:\n",
        "        parts = line.strip().split()\n",
        "        word = parts[0]\n",
        "        vector = np.array(parts[1:], dtype=np.float32)\n",
        "        glove_vectors[word] = vector\n",
        "\n",
        "print(f\"Loaded {len(glove_vectors):,} GloVe word vectors.\")\n",
        "\n",
        "# 2. Build embedding matrix for your vocab\n",
        "embedding_matrix = np.zeros((len(vocab), EMB_DIM), dtype=np.float32)\n",
        "\n",
        "for word, idx in vocab.items():\n",
        "    if word in glove_vectors:\n",
        "        embedding_matrix[idx] = glove_vectors[word]\n",
        "    else:\n",
        "        embedding_matrix[idx] = np.random.normal(scale=0.6, size=(EMB_DIM,))\n",
        "\n",
        "embedding_matrix = torch.tensor(embedding_matrix)\n",
        "print(f\" Embedding matrix shape: {embedding_matrix.shape}\")\n"
      ],
      "metadata": {
        "id": "79yad-LolqvS",
        "colab": {
          "base_uri": "https://localhost:8080/"
        },
        "outputId": "c4d9e140-4fdd-4a5d-c80b-6aa319648788"
      },
      "execution_count": null,
      "outputs": [
        {
          "output_type": "stream",
          "name": "stdout",
          "text": [
            "Loaded 400,000 GloVe word vectors.\n",
            " Embedding matrix shape: torch.Size([20118, 100])\n"
          ]
        }
      ]
    },
    {
      "cell_type": "code",
      "source": [
        "embedding_layer = nn.Embedding.from_pretrained(\n",
        "    embedding_matrix,\n",
        "    freeze=False,            # False = fine-tune embeddings during training\n",
        "    padding_idx=vocab[\"<pad>\"]\n",
        ")\n",
        "\n",
        "print(\"Embedding layer ready.\")\n"
      ],
      "metadata": {
        "id": "mfHcDOvul4HD",
        "colab": {
          "base_uri": "https://localhost:8080/"
        },
        "outputId": "221d83e0-2d27-49a1-8208-3121191007f6"
      },
      "execution_count": null,
      "outputs": [
        {
          "output_type": "stream",
          "name": "stdout",
          "text": [
            "Embedding layer ready.\n"
          ]
        }
      ]
    },
    {
      "cell_type": "code",
      "source": [
        "DEVICE = torch.device(\"cuda\" if torch.cuda.is_available() else \"cpu\")\n",
        "print(\"Using device:\", DEVICE)\n",
        "\n",
        "criterion = nn.CrossEntropyLoss()\n",
        "def accuracy(preds, labels):\n",
        "    _, predicted = torch.max(preds, 1)\n",
        "    return (predicted == labels).float().mean()\n"
      ],
      "metadata": {
        "id": "vfF3FA9LlvKR",
        "colab": {
          "base_uri": "https://localhost:8080/"
        },
        "outputId": "7cff179c-184d-46c3-b311-b496de1c115f"
      },
      "execution_count": null,
      "outputs": [
        {
          "output_type": "stream",
          "name": "stdout",
          "text": [
            "Using device: cuda\n"
          ]
        }
      ]
    },
    {
      "cell_type": "code",
      "source": [
        "!mkdir -p models logs results\n"
      ],
      "metadata": {
        "id": "ghzrJ_AllxCd"
      },
      "execution_count": null,
      "outputs": []
    },
    {
      "cell_type": "code",
      "source": [
        "for name, df in zip([\"train\", \"val\", \"test\"], [train_df, val_df, test_df]):\n",
        "    print(name, \"labels:\", df[\"label_id\"].unique())\n"
      ],
      "metadata": {
        "id": "KxfSeaOsoqZJ",
        "colab": {
          "base_uri": "https://localhost:8080/"
        },
        "outputId": "a27db45b-b67e-4e67-947e-569f6e940185"
      },
      "execution_count": null,
      "outputs": [
        {
          "output_type": "stream",
          "name": "stdout",
          "text": [
            "train labels: [0 1]\n",
            "val labels: [0 1]\n",
            "test labels: [0 1]\n"
          ]
        }
      ]
    },
    {
      "cell_type": "markdown",
      "source": [
        "# Model 2 – BiLSTM + Cross-Attention  \n",
        "This model extends the baseline BiLSTM + Pooling by introducing *cross-attention* between the premise and the hypothesis.  \n",
        "Instead of treating both sentences independently, the hypothesis learns to attend to informative tokens in the premise, enabling word-level alignment for Natural Language Inference.\n"
      ],
      "metadata": {
        "id": "GZLMLTwyBW9c"
      }
    },
    {
      "cell_type": "code",
      "source": [
        "import gc, torch\n",
        "gc.collect()\n",
        "torch.cuda.empty_cache()\n",
        "torch.cuda.reset_peak_memory_stats()\n"
      ],
      "metadata": {
        "id": "NdBMGve7_H5D"
      },
      "execution_count": null,
      "outputs": []
    },
    {
      "cell_type": "markdown",
      "source": [
        "### Cross-Attention Explanation\n",
        "For each word in the hypothesis (`Q`), we compute similarity with every word in the premise (`K`).  \n",
        "The softmax-normalised weights form an alignment matrix `α`, which is used to build a weighted context vector `C = α × V`.  \n",
        "Thus each hypothesis token receives a contextualised representation of the premise.\n"
      ],
      "metadata": {
        "id": "237mAp81CDQm"
      }
    },
    {
      "cell_type": "code",
      "source": [
        "class CrossAttention(nn.Module):\n",
        "    \"\"\"\n",
        "    Cross-Attention: lets the hypothesis attend to the premise.\n",
        "    premise_enc: (B, Lp, D)\n",
        "    hypo_enc:    (B, Lh, D)\n",
        "    \"\"\"\n",
        "    def __init__(self, hidden_dim, dropout=0.1):\n",
        "        super().__init__()\n",
        "        self.scale = hidden_dim ** -0.5\n",
        "        self.dropout = nn.Dropout(dropout)\n",
        "        self.Wq = nn.Linear(hidden_dim, hidden_dim, bias=False)\n",
        "        self.Wk = nn.Linear(hidden_dim, hidden_dim, bias=False)\n",
        "        self.Wv = nn.Linear(hidden_dim, hidden_dim, bias=False)\n",
        "\n",
        "    def forward(self, premise_enc, hypo_enc, mask=None):\n",
        "        Q = self.Wq(hypo_enc)                     # (B, Lh, D)\n",
        "        K = self.Wk(premise_enc)                  # (B, Lp, D)\n",
        "        V = self.Wv(premise_enc)                  # (B, Lp, D)\n",
        "\n",
        "        # scaled dot-product attention\n",
        "        attn_logits = torch.matmul(Q, K.transpose(1, 2)) * self.scale  # (B, Lh, Lp)\n",
        "        if mask is not None:\n",
        "            attn_logits = attn_logits.masked_fill(mask == 0, -1e9)\n",
        "        attn_weights = F.softmax(attn_logits, dim=-1)                  # (B, Lh, Lp)\n",
        "        attn_weights = self.dropout(attn_weights)\n",
        "        context = torch.matmul(attn_weights, V)                        # (B, Lh, D)\n",
        "        return context, attn_weights\n"
      ],
      "metadata": {
        "id": "EvVn3VGrCGa-"
      },
      "execution_count": null,
      "outputs": []
    },
    {
      "cell_type": "markdown",
      "source": [
        "### Model Forward Flow\n",
        "1. Encode premise and hypothesis separately with BiLSTMs.  \n",
        "2. Compute cross-attention (`hypothesis → premise`).  \n",
        "3. Pool both the hypothesis encoding and its attended context.  \n",
        "4. Concatenate `[H, C, |H−C|, H⊙C]` and classify via MLP.\n"
      ],
      "metadata": {
        "id": "I_yt9LHzCS9s"
      }
    },
    {
      "cell_type": "code",
      "source": [
        "class BiLSTMCrossAttention(nn.Module):\n",
        "    def __init__(self, embedding_matrix, hidden_dim=128, num_classes=2, dropout=0.3):\n",
        "        super().__init__()\n",
        "        num_embeddings, embed_dim = embedding_matrix.size()\n",
        "        self.embedding = nn.Embedding.from_pretrained(\n",
        "            embedding_matrix, freeze=False, padding_idx=vocab[\"<pad>\"]\n",
        "        )\n",
        "        self.bilstm = nn.LSTM(embed_dim, hidden_dim, batch_first=True, bidirectional=True)\n",
        "        self.cross_attn = CrossAttention(hidden_dim*2, dropout=dropout)\n",
        "        self.pool = nn.AdaptiveMaxPool1d(1)\n",
        "        self.fc = nn.Sequential(\n",
        "            nn.Dropout(dropout),\n",
        "            nn.Linear(hidden_dim*8, 128),\n",
        "            nn.ReLU(),\n",
        "            nn.Linear(128, num_classes)\n",
        "        )\n",
        "\n",
        "    def encode(self, x):\n",
        "        H, _ = self.bilstm(self.embedding(x))       # (B, L, 2H)\n",
        "        return H\n",
        "\n",
        "    def forward(self, premise, hypothesis):\n",
        "        P = self.encode(premise)                    # (B, Lp, 2H)\n",
        "        H = self.encode(hypothesis)                 # (B, Lh, 2H)\n",
        "        C, attn = self.cross_attn(P, H)             # (B, Lh, 2H)\n",
        "        # Pool along sequence dimension\n",
        "        H_pool = self.pool(H.transpose(1, 2)).squeeze(-1)\n",
        "        C_pool = self.pool(C.transpose(1, 2)).squeeze(-1)\n",
        "        diff = torch.abs(H_pool - C_pool)\n",
        "        prod = H_pool * C_pool\n",
        "        combined = torch.cat([H_pool, C_pool, diff, prod], dim=1)\n",
        "        logits = self.fc(combined)\n",
        "        return logits, attn\n"
      ],
      "metadata": {
        "id": "qumYX022CLnr"
      },
      "execution_count": null,
      "outputs": []
    },
    {
      "cell_type": "code",
      "source": [
        "model2 = BiLSTMCrossAttention(embedding_matrix, hidden_dim=128).to(DEVICE)\n",
        "prem, hyp, lbl = next(iter(train_loader))\n",
        "prem, hyp = prem.to(DEVICE), hyp.to(DEVICE)\n",
        "with torch.no_grad():\n",
        "    logits, attn = model2(prem, hyp)\n",
        "print(\"logits:\", logits.shape, \"attention:\", attn.shape)\n"
      ],
      "metadata": {
        "colab": {
          "base_uri": "https://localhost:8080/"
        },
        "id": "_dXKUq-lCZK0",
        "outputId": "30cb961a-3d17-490d-f385-37ac3b532715"
      },
      "execution_count": null,
      "outputs": [
        {
          "output_type": "stream",
          "name": "stdout",
          "text": [
            "logits: torch.Size([16, 2]) attention: torch.Size([16, 18, 26])\n"
          ]
        }
      ]
    },
    {
      "cell_type": "markdown",
      "source": [
        "We verify that the model outputs:\n",
        "- `logits`: (batch, num_classes)  \n",
        "- `attention`: (batch, len_hypothesis, len_premise) — for later heat-map visualisation.\n"
      ],
      "metadata": {
        "id": "fbRsDsSnCbIn"
      }
    },
    {
      "cell_type": "code",
      "source": [
        "logits, _ = model2(prem, hyp)\n"
      ],
      "metadata": {
        "id": "7GPy9QZuCey-"
      },
      "execution_count": null,
      "outputs": []
    },
    {
      "cell_type": "code",
      "source": [
        "prem, hyp, lbl = next(iter(train_loader))\n",
        "prem, hyp = prem.to(DEVICE), hyp.to(DEVICE)\n",
        "with torch.no_grad():\n",
        "    logits, attn = model2(prem, hyp)\n",
        "print(\"✓ Forward pass OK:\", logits.shape, attn.shape)\n"
      ],
      "metadata": {
        "colab": {
          "base_uri": "https://localhost:8080/"
        },
        "id": "6ozixMRsMAHh",
        "outputId": "ccfc3eed-e894-4d64-c150-b34c91868e21"
      },
      "execution_count": null,
      "outputs": [
        {
          "output_type": "stream",
          "name": "stdout",
          "text": [
            "✓ Forward pass OK: torch.Size([16, 2]) torch.Size([16, 20, 37])\n"
          ]
        }
      ]
    },
    {
      "cell_type": "markdown",
      "source": [
        "### Cross-Attention Heatmap\n",
        "Rows = hypothesis tokens.  \n",
        "Columns = premise tokens.  \n",
        "Brighter cells indicate stronger attention weights—i.e., which premise words each hypothesis word relied on for entailment reasoning.\n"
      ],
      "metadata": {
        "id": "MG5vShxpCi38"
      }
    },
    {
      "cell_type": "markdown",
      "source": [],
      "metadata": {
        "id": "7hXhnurYbhG6"
      }
    },
    {
      "cell_type": "code",
      "source": [
        "def visualize_cross_attention(model, premise, hypothesis, vocab):\n",
        "    model.eval()\n",
        "    prem_tokens = re.sub(r\"[^a-z0-9\\s]\", \"\", premise.lower()).split()\n",
        "    hyp_tokens  = re.sub(r\"[^a-z0-9\\s]\", \"\", hypothesis.lower()).split()\n",
        "    prem_ids = torch.tensor([[vocab.get(t, vocab[\"<unk>\"]) for t in prem_tokens]]).to(DEVICE)\n",
        "    hyp_ids  = torch.tensor([[vocab.get(t, vocab[\"<unk>\"]) for t in hyp_tokens]]).to(DEVICE)\n",
        "    with torch.no_grad():\n",
        "        _, attn = model(prem_ids, hyp_ids)\n",
        "    attn = attn.squeeze(0).cpu().numpy()\n",
        "    plt.figure(figsize=(8,6))\n",
        "    sns.heatmap(attn, xticklabels=prem_tokens, yticklabels=hyp_tokens, cmap=\"YlGnBu\")\n",
        "    plt.xlabel(\"Premise words\"); plt.ylabel(\"Hypothesis words\")\n",
        "    plt.title(\"Cross-Attention Heatmap (Hypothesis → Premise)\")\n",
        "    plt.show()\n"
      ],
      "metadata": {
        "id": "jGiGz_o3Chn-"
      },
      "execution_count": null,
      "outputs": []
    },
    {
      "cell_type": "markdown",
      "source": [
        "## 7. Training and Validation Loop  \n",
        "We reuse the same optimisation pipeline as the previous model but adapt it for the new output signature:  \n",
        "`logits, attn = model2(premise, hypothesis)`.  \n",
        "Only the logits are used for loss and accuracy; the attention matrix is saved later for visualisation.\n"
      ],
      "metadata": {
        "id": "wVor5dxKC8sh"
      }
    },
    {
      "cell_type": "code",
      "source": [
        "\n",
        "# Training + Validation for BiLSTM + Cross-Attention\n",
        "\n",
        "model2 = BiLSTMCrossAttention(embedding_matrix, hidden_dim=128).to(DEVICE)\n",
        "\n",
        "criterion = nn.CrossEntropyLoss()\n",
        "optimizer = torch.optim.Adam(model2.parameters(), lr=1e-3)\n",
        "scaler = torch.cuda.amp.GradScaler()\n",
        "\n",
        "EPOCHS = 5\n",
        "train_losses, val_losses, train_accs, val_accs = [], [], [], []\n",
        "best_val_acc = 0.0\n",
        "\n",
        "def accuracy(preds, labels):\n",
        "    return (preds.argmax(1) == labels).float().mean().item()\n",
        "\n",
        "for epoch in range(EPOCHS):\n",
        "    print(f\"\\n===== Epoch {epoch+1}/{EPOCHS} =====\")\n",
        "    # --------------------- TRAIN ---------------------\n",
        "    model2.train()\n",
        "    total_loss, total_acc, total_samples = 0, 0, 0\n",
        "    for prem, hyp, lbl in tqdm(train_loader, desc=\"Training\", leave=False):\n",
        "        prem, hyp, lbl = prem.to(DEVICE), hyp.to(DEVICE), lbl.to(DEVICE)\n",
        "        optimizer.zero_grad(set_to_none=True)\n",
        "        with torch.cuda.amp.autocast():\n",
        "            logits, _ = model2(prem, hyp)\n",
        "            loss = criterion(logits, lbl)\n",
        "        # Gradient clipping to stabilise training\n",
        "        torch.nn.utils.clip_grad_norm_(model2.parameters(), max_norm=5)\n",
        "\n",
        "        scaler.scale(loss).backward()\n",
        "        scaler.step(optimizer)\n",
        "        scaler.update()\n",
        "\n",
        "        total_loss += loss.item()\n",
        "        total_acc += accuracy(logits, lbl) * lbl.size(0)\n",
        "        total_samples += lbl.size(0)\n",
        "\n",
        "    train_loss = total_loss / len(train_loader)\n",
        "    train_acc = total_acc / total_samples\n",
        "    train_losses.append(train_loss)\n",
        "    train_accs.append(train_acc)\n",
        "\n",
        "    # --------------------- VALIDATE ---------------------\n",
        "    model2.eval()\n",
        "    val_loss, val_acc, val_samples = 0, 0, 0\n",
        "    with torch.no_grad(), torch.cuda.amp.autocast():\n",
        "        for prem, hyp, lbl in tqdm(val_loader, desc=\"Validation\", leave=False):\n",
        "            prem, hyp, lbl = prem.to(DEVICE), hyp.to(DEVICE), lbl.to(DEVICE)\n",
        "            logits, _ = model2(prem, hyp)\n",
        "            loss = criterion(logits, lbl)\n",
        "            val_loss += loss.item()\n",
        "            val_acc += accuracy(logits, lbl) * lbl.size(0)\n",
        "            val_samples += lbl.size(0)\n",
        "    val_loss /= len(val_loader)\n",
        "    val_acc /= val_samples\n",
        "    val_losses.append(val_loss)\n",
        "    val_accs.append(val_acc)\n",
        "\n",
        "    print(f\"Train Loss={train_loss:.4f} Acc={train_acc:.3f} | Val Loss={val_loss:.4f} Acc={val_acc:.3f}\")\n",
        "\n",
        "    if val_acc > best_val_acc:\n",
        "        best_val_acc = val_acc\n",
        "        torch.save(model2.state_dict(), \"models/bilstm_crossattn_best.pt\")\n",
        "        print(f\"Saved new best model (Val Acc = {val_acc:.3f})\")\n",
        "\n",
        "torch.save(model2.state_dict(), \"models/bilstm_crossattn_last.pt\")\n",
        "print(f\"\\nTraining complete. Best Val Acc = {best_val_acc:.3f}\")\n"
      ],
      "metadata": {
        "colab": {
          "base_uri": "https://localhost:8080/"
        },
        "id": "bPxjTC9GC8Sv",
        "outputId": "338349af-0980-4623-b1b9-71cc8fe4c3e7"
      },
      "execution_count": null,
      "outputs": [
        {
          "output_type": "stream",
          "name": "stderr",
          "text": [
            "/tmp/ipython-input-4082061711.py:9: FutureWarning: `torch.cuda.amp.GradScaler(args...)` is deprecated. Please use `torch.amp.GradScaler('cuda', args...)` instead.\n",
            "  scaler = torch.cuda.amp.GradScaler()\n"
          ]
        },
        {
          "output_type": "stream",
          "name": "stdout",
          "text": [
            "\n",
            "===== Epoch 1/5 =====\n"
          ]
        },
        {
          "output_type": "stream",
          "name": "stderr",
          "text": [
            "\rTraining:   0%|          | 0/1442 [00:00<?, ?it/s]/tmp/ipython-input-4082061711.py:26: FutureWarning: `torch.cuda.amp.autocast(args...)` is deprecated. Please use `torch.amp.autocast('cuda', args...)` instead.\n",
            "  with torch.cuda.amp.autocast():\n",
            "/tmp/ipython-input-4082061711.py:48: FutureWarning: `torch.cuda.amp.autocast(args...)` is deprecated. Please use `torch.amp.autocast('cuda', args...)` instead.\n",
            "  with torch.no_grad(), torch.cuda.amp.autocast():\n"
          ]
        },
        {
          "output_type": "stream",
          "name": "stdout",
          "text": [
            "Train Loss=0.4874 Acc=0.761 | Val Loss=0.5434 Acc=0.716\n",
            "💾 Saved new best model (Val Acc = 0.716)\n",
            "\n",
            "===== Epoch 2/5 =====\n"
          ]
        },
        {
          "output_type": "stream",
          "name": "stderr",
          "text": []
        },
        {
          "output_type": "stream",
          "name": "stdout",
          "text": [
            "Train Loss=0.3073 Acc=0.867 | Val Loss=0.5932 Acc=0.715\n",
            "\n",
            "===== Epoch 3/5 =====\n"
          ]
        },
        {
          "output_type": "stream",
          "name": "stderr",
          "text": []
        },
        {
          "output_type": "stream",
          "name": "stdout",
          "text": [
            "Train Loss=0.2081 Acc=0.916 | Val Loss=0.6713 Acc=0.732\n",
            "💾 Saved new best model (Val Acc = 0.732)\n",
            "\n",
            "===== Epoch 4/5 =====\n"
          ]
        },
        {
          "output_type": "stream",
          "name": "stderr",
          "text": []
        },
        {
          "output_type": "stream",
          "name": "stdout",
          "text": [
            "Train Loss=0.1348 Acc=0.948 | Val Loss=0.9543 Acc=0.725\n",
            "\n",
            "===== Epoch 5/5 =====\n"
          ]
        },
        {
          "output_type": "stream",
          "name": "stderr",
          "text": []
        },
        {
          "output_type": "stream",
          "name": "stdout",
          "text": [
            "Train Loss=0.0921 Acc=0.965 | Val Loss=0.9134 Acc=0.719\n",
            "\n",
            "✅ Training complete. Best Val Acc = 0.732\n"
          ]
        }
      ]
    },
    {
      "cell_type": "markdown",
      "source": [
        "## 8. Training Curves  \n",
        "Visualising loss and accuracy across epochs helps detect overfitting or underfitting.\n"
      ],
      "metadata": {
        "id": "GP4A08chDDO_"
      }
    },
    {
      "cell_type": "code",
      "source": [
        "plt.figure(figsize=(8,4))\n",
        "plt.plot(train_losses, label=\"Train Loss\", marker=\"o\")\n",
        "plt.plot(val_losses, label=\"Val Loss\", marker=\"o\")\n",
        "plt.legend(); plt.title(\"BiLSTM + Cross-Attention Loss Curves\")\n",
        "plt.xlabel(\"Epoch\"); plt.ylabel(\"Loss\"); plt.grid(True)\n",
        "plt.show()\n",
        "\n",
        "plt.figure(figsize=(8,4))\n",
        "plt.plot(train_accs, label=\"Train Acc\", marker=\"o\")\n",
        "plt.plot(val_accs, label=\"Val Acc\", marker=\"o\")\n",
        "plt.legend(); plt.title(\"BiLSTM + Cross-Attention Accuracy Curves\")\n",
        "plt.xlabel(\"Epoch\"); plt.ylabel(\"Accuracy\"); plt.grid(True)\n",
        "plt.show()\n"
      ],
      "metadata": {
        "colab": {
          "base_uri": "https://localhost:8080/",
          "height": 803
        },
        "id": "Q3RSjU6bDF5l",
        "outputId": "18f4bc06-8d8b-45c2-b72b-22877c422a15"
      },
      "execution_count": null,
      "outputs": [
        {
          "output_type": "display_data",
          "data": {
            "text/plain": [
              "<Figure size 800x400 with 1 Axes>"
            ],
            "image/png": "[encoded data removed]"
          },
          "metadata": {}
        },
        {
          "output_type": "display_data",
          "data": {
            "text/plain": [
              "<Figure size 800x400 with 1 Axes>"
            ],
            "image/png": "[encoded data removed]"
          },
          "metadata": {}
        }
      ]
    },
    {
      "cell_type": "markdown",
      "source": [
        "## 9. Evaluation and Classification Reports  \n",
        "We evaluate the best checkpoint on validation and test sets and produce confusion matrices and metrics.\n"
      ],
      "metadata": {
        "id": "Ulk4dzWIDH93"
      }
    },
    {
      "cell_type": "code",
      "source": [
        "from sklearn.metrics import classification_report, confusion_matrix, ConfusionMatrixDisplay\n",
        "\n",
        "def evaluate_model(model, loader):\n",
        "    model.eval()\n",
        "    preds, labels_all = [], []\n",
        "    with torch.no_grad():\n",
        "        for prem, hyp, lbl in loader:\n",
        "            prem, hyp, lbl = prem.to(DEVICE), hyp.to(DEVICE), lbl.to(DEVICE)\n",
        "            logits, _ = model(prem, hyp)\n",
        "            preds.extend(logits.argmax(1).cpu().numpy())\n",
        "            labels_all.extend(lbl.cpu().numpy())\n",
        "    return np.array(preds), np.array(labels_all)\n",
        "\n",
        "# Load best checkpoint\n",
        "best_model_path = \"models/bilstm_crossattn_best.pt\"\n",
        "model2.load_state_dict(torch.load(best_model_path))\n",
        "\n",
        "for name, loader in [(\"Validation\", val_loader), (\"Test\", test_loader)]:\n",
        "    preds, labels = evaluate_model(model2, loader)\n",
        "    print(f\"\\n{name} Classification Report:\")\n",
        "    print(classification_report(labels, preds, target_names=[\"neutral\",\"entails\"]))\n",
        "    cm = confusion_matrix(labels, preds)\n",
        "    ConfusionMatrixDisplay(confusion_matrix=cm, display_labels=[\"neutral\",\"entails\"]).plot(cmap=\"PuBu\")\n",
        "    plt.title(f\"{name} – Confusion Matrix\")\n",
        "    plt.show()\n"
      ],
      "metadata": {
        "colab": {
          "base_uri": "https://localhost:8080/",
          "height": 1000
        },
        "id": "hqqbwYzpDLT7",
        "outputId": "9d5202fa-5373-4ae0-9d5b-32f17ccd557a"
      },
      "execution_count": null,
      "outputs": [
        {
          "output_type": "stream",
          "name": "stdout",
          "text": [
            "\n",
            "Validation Classification Report:\n",
            "              precision    recall  f1-score   support\n",
            "\n",
            "     neutral       0.71      0.79      0.74       647\n",
            "     entails       0.76      0.68      0.72       657\n",
            "\n",
            "    accuracy                           0.73      1304\n",
            "   macro avg       0.74      0.73      0.73      1304\n",
            "weighted avg       0.74      0.73      0.73      1304\n",
            "\n"
          ]
        },
        {
          "output_type": "display_data",
          "data": {
            "text/plain": [
              "<Figure size 640x480 with 2 Axes>"
            ],
            "image/png": "[encoded data removed]"
          },
          "metadata": {}
        },
        {
          "output_type": "stream",
          "name": "stdout",
          "text": [
            "\n",
            "Test Classification Report:\n",
            "              precision    recall  f1-score   support\n",
            "\n",
            "     neutral       0.74      0.79      0.77      1284\n",
            "     entails       0.65      0.58      0.61       842\n",
            "\n",
            "    accuracy                           0.71      2126\n",
            "   macro avg       0.69      0.68      0.69      2126\n",
            "weighted avg       0.70      0.71      0.70      2126\n",
            "\n"
          ]
        },
        {
          "output_type": "display_data",
          "data": {
            "text/plain": [
              "<Figure size 640x480 with 2 Axes>"
            ],
            "image/png": "[encoded data removed]"
          },
          "metadata": {}
        }
      ]
    },
    {
      "cell_type": "markdown",
      "source": [
        "## 10. Attention Visualisation  \n",
        "The cross-attention matrix (`len_hypothesis × len_premise`) shows which premise tokens each hypothesis token focused on.  \n",
        "We use a heatmap to interpret the model’s reasoning.\n"
      ],
      "metadata": {
        "id": "iUpy8qiODN13"
      }
    },
    {
      "cell_type": "code",
      "source": [
        "visualize_cross_attention(\n",
        "    model2,\n",
        "    premise=\"Beats occur when waves of similar frequencies interfere.\",\n",
        "    hypothesis=\"Waves of two frequencies cause beats.\",\n",
        "    vocab=vocab\n",
        ")\n"
      ],
      "metadata": {
        "colab": {
          "base_uri": "https://localhost:8080/",
          "height": 631
        },
        "id": "is43LR5FDNk9",
        "outputId": "4b3144e8-c5cd-4042-c2ec-e07e8f67eb08"
      },
      "execution_count": null,
      "outputs": [
        {
          "output_type": "display_data",
          "data": {
            "text/plain": [
              "<Figure size 800x600 with 2 Axes>"
            ],
            "image/png": "[encoded data removed]"
          },
          "metadata": {}
        }
      ]
    },
    {
      "cell_type": "code",
      "source": [
        "import zipfile\n",
        "best_path = \"models/bilstm_crossattn_best.pt\"\n",
        "zip_path  = \"models/bilstm_crossattn_best.zip\"\n",
        "with zipfile.ZipFile(zip_path, \"w\", zipfile.ZIP_DEFLATED) as zipf:\n",
        "    zipf.write(best_path, arcname=os.path.basename(best_path))\n",
        "print(f\" Best model zipped for download → {zip_path}\")\n"
      ],
      "metadata": {
        "id": "oZpAlphLLyTz"
      },
      "execution_count": null,
      "outputs": []
    }
  ]
}