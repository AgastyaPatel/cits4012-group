{
  "nbformat": 4,
  "nbformat_minor": 0,
  "metadata": {
    "colab": {
      "provenance": [],
      "gpuType": "T4"
    },
    "kernelspec": {
      "name": "python3",
      "display_name": "Python 3"
    },
    "language_info": {
      "name": "python"
    },
    "accelerator": "GPU"
  },
  "cells": [
    {
      "cell_type": "code",
      "source": [
        "%env PYTORCH_CUDA_ALLOC_CONF=expandable_segments:True\n"
      ],
      "metadata": {
        "id": "S1lYpWgy-4dn"
      },
      "execution_count": null,
      "outputs": []
    },
    {
      "cell_type": "code",
      "source": [
        "from google.colab import drive\n",
        "drive.mount('/content/drive')"
      ],
      "metadata": {
        "colab": {
          "base_uri": "https://localhost:8080/"
        },
        "id": "B-uZtP-bi2EA",
        "outputId": "4fd679c8-77ba-4434-80cf-73c2c800aeca"
      },
      "execution_count": null,
      "outputs": [
        {
          "output_type": "stream",
          "name": "stdout",
          "text": [
            "Mounted at /content/drive\n"
          ]
        }
      ]
    },
    {
      "cell_type": "code",
      "source": [
        "# Uncomment this if you have not downloaded glove in your colab notebook (or google drive)\n",
        "!wget http://nlp.stanford.edu/data/glove.6B.zip -O glove.6B.zip\n",
        "!unzip -q glove.6B.zip -d glove\n"
      ],
      "metadata": {
        "colab": {
          "base_uri": "https://localhost:8080/"
        },
        "id": "wja30aGfl9qf",
        "outputId": "6c829c81-16b1-45b2-e761-08932a9390e2"
      },
      "execution_count": null,
      "outputs": [
        {
          "output_type": "stream",
          "name": "stdout",
          "text": [
            "--2025-10-13 14:12:46--  http://nlp.stanford.edu/data/glove.6B.zip\n",
            "Resolving nlp.stanford.edu (nlp.stanford.edu)... 171.64.67.140\n",
            "Connecting to nlp.stanford.edu (nlp.stanford.edu)|171.64.67.140|:80... connected.\n",
            "HTTP request sent, awaiting response... 302 Found\n",
            "Location: https://nlp.stanford.edu/data/glove.6B.zip [following]\n",
            "--2025-10-13 14:12:46--  https://nlp.stanford.edu/data/glove.6B.zip\n",
            "Connecting to nlp.stanford.edu (nlp.stanford.edu)|171.64.67.140|:443... connected.\n",
            "HTTP request sent, awaiting response... 301 Moved Permanently\n",
            "Location: https://downloads.cs.stanford.edu/nlp/data/glove.6B.zip [following]\n",
            "--2025-10-13 14:12:47--  https://downloads.cs.stanford.edu/nlp/data/glove.6B.zip\n",
            "Resolving downloads.cs.stanford.edu (downloads.cs.stanford.edu)... 171.64.64.22\n",
            "Connecting to downloads.cs.stanford.edu (downloads.cs.stanford.edu)|171.64.64.22|:443... connected.\n",
            "HTTP request sent, awaiting response... 200 OK\n",
            "Length: 862182613 (822M) [application/zip]\n",
            "Saving to: ‘glove.6B.zip’\n",
            "\n",
            "glove.6B.zip        100%[===================>] 822.24M  5.01MB/s    in 3m 19s  \n",
            "\n",
            "2025-10-13 14:16:07 (4.13 MB/s) - ‘glove.6B.zip’ saved [862182613/862182613]\n",
            "\n"
          ]
        }
      ]
    },
    {
      "cell_type": "code",
      "source": [
        "import os\n",
        "print(\"Current working directory:\", os.getcwd())\n",
        "!ls -lh\n"
      ],
      "metadata": {
        "colab": {
          "base_uri": "https://localhost:8080/"
        },
        "id": "lYv4HBmbnxo2",
        "outputId": "60b5fdff-ad1f-4151-9933-3a22b63c6552"
      },
      "execution_count": null,
      "outputs": [
        {
          "output_type": "stream",
          "name": "stdout",
          "text": [
            "Current working directory: /content\n",
            "total 823M\n",
            "drwx------ 5 root root 4.0K Oct 13 14:12 drive\n",
            "drwxr-xr-x 2 root root 4.0K Oct 13 14:16 glove\n",
            "-rw-r--r-- 1 root root 823M Oct 25  2015 glove.6B.zip\n",
            "drwxr-xr-x 1 root root 4.0K Oct  9 13:36 sample_data\n"
          ]
        }
      ]
    },
    {
      "cell_type": "code",
      "source": [
        "!ls -lh glove | grep 100d\n"
      ],
      "metadata": {
        "colab": {
          "base_uri": "https://localhost:8080/"
        },
        "id": "XfQw0W8inNkR",
        "outputId": "0ab93a6a-84bc-4846-ec14-4101b709c23a"
      },
      "execution_count": null,
      "outputs": [
        {
          "output_type": "stream",
          "name": "stdout",
          "text": [
            "-rw-rw-r-- 1 root root 332M Aug  4  2014 glove.6B.100d.txt\n"
          ]
        }
      ]
    },
    {
      "cell_type": "code",
      "source": [
        "%cd /content/drive/MyDrive/DATASET/"
      ],
      "metadata": {
        "colab": {
          "base_uri": "https://localhost:8080/"
        },
        "id": "BJUYoD_Xi5qf",
        "outputId": "34bbcf09-0a2b-4b90-c5fb-a28212611cfe"
      },
      "execution_count": null,
      "outputs": [
        {
          "output_type": "stream",
          "name": "stdout",
          "text": [
            "/content/drive/MyDrive/DATASET\n"
          ]
        }
      ]
    },
    {
      "cell_type": "code",
      "source": [
        "!mkdir -p data models results utils"
      ],
      "metadata": {
        "id": "-4UkeQZci7iP"
      },
      "execution_count": null,
      "outputs": []
    },
    {
      "cell_type": "code",
      "source": [
        "import json\n",
        "import pandas as pd\n",
        "import re\n",
        "import nltk\n",
        "import matplotlib.pyplot as plt\n",
        "from collections import Counter\n",
        "\n",
        "\n",
        "nltk.download(\"punkt\")\n",
        "nltk.download(\"wordnet\")\n",
        "nltk.download(\"all\")\n",
        "from nltk.tokenize import word_tokenize\n",
        "from nltk.stem import WordNetLemmatizer"
      ],
      "metadata": {
        "colab": {
          "base_uri": "https://localhost:8080/"
        },
        "id": "QmmUnftQi-ic",
        "outputId": "3f224d3b-3842-47db-c98f-181a3bbd87d8"
      },
      "execution_count": null,
      "outputs": [
        {
          "output_type": "stream",
          "name": "stderr",
          "text": [
            "[nltk_data] Downloading package punkt to /root/nltk_data...\n",
            "[nltk_data]   Unzipping tokenizers/punkt.zip.\n",
            "[nltk_data] Downloading package wordnet to /root/nltk_data...\n",
            "[nltk_data] Downloading collection 'all'\n",
            "[nltk_data]    | \n",
            "[nltk_data]    | Downloading package abc to /root/nltk_data...\n",
            "[nltk_data]    |   Unzipping corpora/abc.zip.\n",
            "[nltk_data]    | Downloading package alpino to /root/nltk_data...\n",
            "[nltk_data]    |   Unzipping corpora/alpino.zip.\n",
            "[nltk_data]    | Downloading package averaged_perceptron_tagger to\n",
            "[nltk_data]    |     /root/nltk_data...\n",
            "[nltk_data]    |   Unzipping taggers/averaged_perceptron_tagger.zip.\n",
            "[nltk_data]    | Downloading package averaged_perceptron_tagger_eng to\n",
            "[nltk_data]    |     /root/nltk_data...\n",
            "[nltk_data]    |   Unzipping\n",
            "[nltk_data]    |       taggers/averaged_perceptron_tagger_eng.zip.\n",
            "[nltk_data]    | Downloading package averaged_perceptron_tagger_ru to\n",
            "[nltk_data]    |     /root/nltk_data...\n",
            "[nltk_data]    |   Unzipping\n",
            "[nltk_data]    |       taggers/averaged_perceptron_tagger_ru.zip.\n",
            "[nltk_data]    | Downloading package averaged_perceptron_tagger_rus to\n",
            "[nltk_data]    |     /root/nltk_data...\n",
            "[nltk_data]    |   Unzipping\n",
            "[nltk_data]    |       taggers/averaged_perceptron_tagger_rus.zip.\n",
            "[nltk_data]    | Downloading package basque_grammars to\n",
            "[nltk_data]    |     /root/nltk_data...\n",
            "[nltk_data]    |   Unzipping grammars/basque_grammars.zip.\n",
            "[nltk_data]    | Downloading package bcp47 to /root/nltk_data...\n",
            "[nltk_data]    | Downloading package biocreative_ppi to\n",
            "[nltk_data]    |     /root/nltk_data...\n",
            "[nltk_data]    |   Unzipping corpora/biocreative_ppi.zip.\n",
            "[nltk_data]    | Downloading package bllip_wsj_no_aux to\n",
            "[nltk_data]    |     /root/nltk_data...\n",
            "[nltk_data]    |   Unzipping models/bllip_wsj_no_aux.zip.\n",
            "[nltk_data]    | Downloading package book_grammars to\n",
            "[nltk_data]    |     /root/nltk_data...\n",
            "[nltk_data]    |   Unzipping grammars/book_grammars.zip.\n",
            "[nltk_data]    | Downloading package brown to /root/nltk_data...\n",
            "[nltk_data]    |   Unzipping corpora/brown.zip.\n",
            "[nltk_data]    | Downloading package brown_tei to /root/nltk_data...\n",
            "[nltk_data]    |   Unzipping corpora/brown_tei.zip.\n",
            "[nltk_data]    | Downloading package cess_cat to /root/nltk_data...\n",
            "[nltk_data]    |   Unzipping corpora/cess_cat.zip.\n",
            "[nltk_data]    | Downloading package cess_esp to /root/nltk_data...\n",
            "[nltk_data]    |   Unzipping corpora/cess_esp.zip.\n",
            "[nltk_data]    | Downloading package chat80 to /root/nltk_data...\n",
            "[nltk_data]    |   Unzipping corpora/chat80.zip.\n",
            "[nltk_data]    | Downloading package city_database to\n",
            "[nltk_data]    |     /root/nltk_data...\n",
            "[nltk_data]    |   Unzipping corpora/city_database.zip.\n",
            "[nltk_data]    | Downloading package cmudict to /root/nltk_data...\n",
            "[nltk_data]    |   Unzipping corpora/cmudict.zip.\n",
            "[nltk_data]    | Downloading package comparative_sentences to\n",
            "[nltk_data]    |     /root/nltk_data...\n",
            "[nltk_data]    |   Unzipping corpora/comparative_sentences.zip.\n",
            "[nltk_data]    | Downloading package comtrans to /root/nltk_data...\n",
            "[nltk_data]    | Downloading package conll2000 to /root/nltk_data...\n",
            "[nltk_data]    |   Unzipping corpora/conll2000.zip.\n",
            "[nltk_data]    | Downloading package conll2002 to /root/nltk_data...\n",
            "[nltk_data]    |   Unzipping corpora/conll2002.zip.\n",
            "[nltk_data]    | Downloading package conll2007 to /root/nltk_data...\n",
            "[nltk_data]    | Downloading package crubadan to /root/nltk_data...\n",
            "[nltk_data]    |   Unzipping corpora/crubadan.zip.\n",
            "[nltk_data]    | Downloading package dependency_treebank to\n",
            "[nltk_data]    |     /root/nltk_data...\n",
            "[nltk_data]    |   Unzipping corpora/dependency_treebank.zip.\n",
            "[nltk_data]    | Downloading package dolch to /root/nltk_data...\n",
            "[nltk_data]    |   Unzipping corpora/dolch.zip.\n",
            "[nltk_data]    | Downloading package english_wordnet to\n",
            "[nltk_data]    |     /root/nltk_data...\n",
            "[nltk_data]    |   Unzipping corpora/english_wordnet.zip.\n",
            "[nltk_data]    | Downloading package europarl_raw to\n",
            "[nltk_data]    |     /root/nltk_data...\n",
            "[nltk_data]    |   Unzipping corpora/europarl_raw.zip.\n",
            "[nltk_data]    | Downloading package extended_omw to\n",
            "[nltk_data]    |     /root/nltk_data...\n",
            "[nltk_data]    | Downloading package floresta to /root/nltk_data...\n",
            "[nltk_data]    |   Unzipping corpora/floresta.zip.\n",
            "[nltk_data]    | Downloading package framenet_v15 to\n",
            "[nltk_data]    |     /root/nltk_data...\n",
            "[nltk_data]    |   Unzipping corpora/framenet_v15.zip.\n",
            "[nltk_data]    | Downloading package framenet_v17 to\n",
            "[nltk_data]    |     /root/nltk_data...\n",
            "[nltk_data]    |   Unzipping corpora/framenet_v17.zip.\n",
            "[nltk_data]    | Downloading package gazetteers to /root/nltk_data...\n",
            "[nltk_data]    |   Unzipping corpora/gazetteers.zip.\n",
            "[nltk_data]    | Downloading package genesis to /root/nltk_data...\n",
            "[nltk_data]    |   Unzipping corpora/genesis.zip.\n",
            "[nltk_data]    | Downloading package gutenberg to /root/nltk_data...\n",
            "[nltk_data]    |   Unzipping corpora/gutenberg.zip.\n",
            "[nltk_data]    | Downloading package ieer to /root/nltk_data...\n",
            "[nltk_data]    |   Unzipping corpora/ieer.zip.\n",
            "[nltk_data]    | Downloading package inaugural to /root/nltk_data...\n",
            "[nltk_data]    |   Unzipping corpora/inaugural.zip.\n",
            "[nltk_data]    | Downloading package indian to /root/nltk_data...\n",
            "[nltk_data]    |   Unzipping corpora/indian.zip.\n",
            "[nltk_data]    | Downloading package jeita to /root/nltk_data...\n",
            "[nltk_data]    | Downloading package kimmo to /root/nltk_data...\n",
            "[nltk_data]    |   Unzipping corpora/kimmo.zip.\n",
            "[nltk_data]    | Downloading package knbc to /root/nltk_data...\n",
            "[nltk_data]    | Downloading package large_grammars to\n",
            "[nltk_data]    |     /root/nltk_data...\n",
            "[nltk_data]    |   Unzipping grammars/large_grammars.zip.\n",
            "[nltk_data]    | Downloading package lin_thesaurus to\n",
            "[nltk_data]    |     /root/nltk_data...\n",
            "[nltk_data]    |   Unzipping corpora/lin_thesaurus.zip.\n",
            "[nltk_data]    | Downloading package mac_morpho to /root/nltk_data...\n",
            "[nltk_data]    |   Unzipping corpora/mac_morpho.zip.\n",
            "[nltk_data]    | Downloading package machado to /root/nltk_data...\n",
            "[nltk_data]    | Downloading package masc_tagged to /root/nltk_data...\n",
            "[nltk_data]    | Downloading package maxent_ne_chunker to\n",
            "[nltk_data]    |     /root/nltk_data...\n",
            "[nltk_data]    |   Unzipping chunkers/maxent_ne_chunker.zip.\n",
            "[nltk_data]    | Downloading package maxent_ne_chunker_tab to\n",
            "[nltk_data]    |     /root/nltk_data...\n",
            "[nltk_data]    |   Unzipping chunkers/maxent_ne_chunker_tab.zip.\n",
            "[nltk_data]    | Downloading package maxent_treebank_pos_tagger to\n",
            "[nltk_data]    |     /root/nltk_data...\n",
            "[nltk_data]    |   Unzipping taggers/maxent_treebank_pos_tagger.zip.\n",
            "[nltk_data]    | Downloading package maxent_treebank_pos_tagger_tab to\n",
            "[nltk_data]    |     /root/nltk_data...\n",
            "[nltk_data]    |   Unzipping\n",
            "[nltk_data]    |       taggers/maxent_treebank_pos_tagger_tab.zip.\n",
            "[nltk_data]    | Downloading package mock_corpus to /root/nltk_data...\n",
            "[nltk_data]    |   Unzipping corpora/mock_corpus.zip.\n",
            "[nltk_data]    | Downloading package moses_sample to\n",
            "[nltk_data]    |     /root/nltk_data...\n",
            "[nltk_data]    |   Unzipping models/moses_sample.zip.\n",
            "[nltk_data]    | Downloading package movie_reviews to\n",
            "[nltk_data]    |     /root/nltk_data...\n",
            "[nltk_data]    |   Unzipping corpora/movie_reviews.zip.\n",
            "[nltk_data]    | Downloading package mte_teip5 to /root/nltk_data...\n",
            "[nltk_data]    |   Unzipping corpora/mte_teip5.zip.\n",
            "[nltk_data]    | Downloading package mwa_ppdb to /root/nltk_data...\n",
            "[nltk_data]    |   Unzipping misc/mwa_ppdb.zip.\n",
            "[nltk_data]    | Downloading package names to /root/nltk_data...\n",
            "[nltk_data]    |   Unzipping corpora/names.zip.\n",
            "[nltk_data]    | Downloading package nombank.1.0 to /root/nltk_data...\n",
            "[nltk_data]    | Downloading package nonbreaking_prefixes to\n",
            "[nltk_data]    |     /root/nltk_data...\n",
            "[nltk_data]    |   Unzipping corpora/nonbreaking_prefixes.zip.\n",
            "[nltk_data]    | Downloading package nps_chat to /root/nltk_data...\n",
            "[nltk_data]    |   Unzipping corpora/nps_chat.zip.\n",
            "[nltk_data]    | Downloading package omw to /root/nltk_data...\n",
            "[nltk_data]    | Downloading package omw-1.4 to /root/nltk_data...\n",
            "[nltk_data]    | Downloading package opinion_lexicon to\n",
            "[nltk_data]    |     /root/nltk_data...\n",
            "[nltk_data]    |   Unzipping corpora/opinion_lexicon.zip.\n",
            "[nltk_data]    | Downloading package panlex_swadesh to\n",
            "[nltk_data]    |     /root/nltk_data...\n",
            "[nltk_data]    | Downloading package paradigms to /root/nltk_data...\n",
            "[nltk_data]    |   Unzipping corpora/paradigms.zip.\n",
            "[nltk_data]    | Downloading package pe08 to /root/nltk_data...\n",
            "[nltk_data]    |   Unzipping corpora/pe08.zip.\n",
            "[nltk_data]    | Downloading package perluniprops to\n",
            "[nltk_data]    |     /root/nltk_data...\n",
            "[nltk_data]    |   Unzipping misc/perluniprops.zip.\n",
            "[nltk_data]    | Downloading package pil to /root/nltk_data...\n",
            "[nltk_data]    |   Unzipping corpora/pil.zip.\n",
            "[nltk_data]    | Downloading package pl196x to /root/nltk_data...\n",
            "[nltk_data]    |   Unzipping corpora/pl196x.zip.\n",
            "[nltk_data]    | Downloading package porter_test to /root/nltk_data...\n",
            "[nltk_data]    |   Unzipping stemmers/porter_test.zip.\n",
            "[nltk_data]    | Downloading package ppattach to /root/nltk_data...\n",
            "[nltk_data]    |   Unzipping corpora/ppattach.zip.\n",
            "[nltk_data]    | Downloading package problem_reports to\n",
            "[nltk_data]    |     /root/nltk_data...\n",
            "[nltk_data]    |   Unzipping corpora/problem_reports.zip.\n",
            "[nltk_data]    | Downloading package product_reviews_1 to\n",
            "[nltk_data]    |     /root/nltk_data...\n",
            "[nltk_data]    |   Unzipping corpora/product_reviews_1.zip.\n",
            "[nltk_data]    | Downloading package product_reviews_2 to\n",
            "[nltk_data]    |     /root/nltk_data...\n",
            "[nltk_data]    |   Unzipping corpora/product_reviews_2.zip.\n",
            "[nltk_data]    | Downloading package propbank to /root/nltk_data...\n",
            "[nltk_data]    | Downloading package pros_cons to /root/nltk_data...\n",
            "[nltk_data]    |   Unzipping corpora/pros_cons.zip.\n",
            "[nltk_data]    | Downloading package ptb to /root/nltk_data...\n",
            "[nltk_data]    |   Unzipping corpora/ptb.zip.\n",
            "[nltk_data]    | Downloading package punkt to /root/nltk_data...\n",
            "[nltk_data]    |   Package punkt is already up-to-date!\n",
            "[nltk_data]    | Downloading package punkt_tab to /root/nltk_data...\n",
            "[nltk_data]    |   Unzipping tokenizers/punkt_tab.zip.\n",
            "[nltk_data]    | Downloading package qc to /root/nltk_data...\n",
            "[nltk_data]    |   Unzipping corpora/qc.zip.\n",
            "[nltk_data]    | Downloading package reuters to /root/nltk_data...\n",
            "[nltk_data]    | Downloading package rslp to /root/nltk_data...\n",
            "[nltk_data]    |   Unzipping stemmers/rslp.zip.\n",
            "[nltk_data]    | Downloading package rte to /root/nltk_data...\n",
            "[nltk_data]    |   Unzipping corpora/rte.zip.\n",
            "[nltk_data]    | Downloading package sample_grammars to\n",
            "[nltk_data]    |     /root/nltk_data...\n",
            "[nltk_data]    |   Unzipping grammars/sample_grammars.zip.\n",
            "[nltk_data]    | Downloading package semcor to /root/nltk_data...\n",
            "[nltk_data]    | Downloading package senseval to /root/nltk_data...\n",
            "[nltk_data]    |   Unzipping corpora/senseval.zip.\n",
            "[nltk_data]    | Downloading package sentence_polarity to\n",
            "[nltk_data]    |     /root/nltk_data...\n",
            "[nltk_data]    |   Unzipping corpora/sentence_polarity.zip.\n",
            "[nltk_data]    | Downloading package sentiwordnet to\n",
            "[nltk_data]    |     /root/nltk_data...\n",
            "[nltk_data]    |   Unzipping corpora/sentiwordnet.zip.\n",
            "[nltk_data]    | Downloading package shakespeare to /root/nltk_data...\n",
            "[nltk_data]    |   Unzipping corpora/shakespeare.zip.\n",
            "[nltk_data]    | Downloading package sinica_treebank to\n",
            "[nltk_data]    |     /root/nltk_data...\n",
            "[nltk_data]    |   Unzipping corpora/sinica_treebank.zip.\n",
            "[nltk_data]    | Downloading package smultron to /root/nltk_data...\n",
            "[nltk_data]    |   Unzipping corpora/smultron.zip.\n",
            "[nltk_data]    | Downloading package snowball_data to\n",
            "[nltk_data]    |     /root/nltk_data...\n",
            "[nltk_data]    | Downloading package spanish_grammars to\n",
            "[nltk_data]    |     /root/nltk_data...\n",
            "[nltk_data]    |   Unzipping grammars/spanish_grammars.zip.\n",
            "[nltk_data]    | Downloading package state_union to /root/nltk_data...\n",
            "[nltk_data]    |   Unzipping corpora/state_union.zip.\n",
            "[nltk_data]    | Downloading package stopwords to /root/nltk_data...\n",
            "[nltk_data]    |   Unzipping corpora/stopwords.zip.\n",
            "[nltk_data]    | Downloading package subjectivity to\n",
            "[nltk_data]    |     /root/nltk_data...\n",
            "[nltk_data]    |   Unzipping corpora/subjectivity.zip.\n",
            "[nltk_data]    | Downloading package swadesh to /root/nltk_data...\n",
            "[nltk_data]    |   Unzipping corpora/swadesh.zip.\n",
            "[nltk_data]    | Downloading package switchboard to /root/nltk_data...\n",
            "[nltk_data]    |   Unzipping corpora/switchboard.zip.\n",
            "[nltk_data]    | Downloading package tagsets to /root/nltk_data...\n",
            "[nltk_data]    |   Unzipping help/tagsets.zip.\n",
            "[nltk_data]    | Downloading package tagsets_json to\n",
            "[nltk_data]    |     /root/nltk_data...\n",
            "[nltk_data]    |   Unzipping help/tagsets_json.zip.\n",
            "[nltk_data]    | Downloading package timit to /root/nltk_data...\n",
            "[nltk_data]    |   Unzipping corpora/timit.zip.\n",
            "[nltk_data]    | Downloading package toolbox to /root/nltk_data...\n",
            "[nltk_data]    |   Unzipping corpora/toolbox.zip.\n",
            "[nltk_data]    | Downloading package treebank to /root/nltk_data...\n",
            "[nltk_data]    |   Unzipping corpora/treebank.zip.\n",
            "[nltk_data]    | Downloading package twitter_samples to\n",
            "[nltk_data]    |     /root/nltk_data...\n",
            "[nltk_data]    |   Unzipping corpora/twitter_samples.zip.\n",
            "[nltk_data]    | Downloading package udhr to /root/nltk_data...\n",
            "[nltk_data]    |   Unzipping corpora/udhr.zip.\n",
            "[nltk_data]    | Downloading package udhr2 to /root/nltk_data...\n",
            "[nltk_data]    |   Unzipping corpora/udhr2.zip.\n",
            "[nltk_data]    | Downloading package unicode_samples to\n",
            "[nltk_data]    |     /root/nltk_data...\n",
            "[nltk_data]    |   Unzipping corpora/unicode_samples.zip.\n",
            "[nltk_data]    | Downloading package universal_tagset to\n",
            "[nltk_data]    |     /root/nltk_data...\n",
            "[nltk_data]    |   Unzipping taggers/universal_tagset.zip.\n",
            "[nltk_data]    | Downloading package universal_treebanks_v20 to\n",
            "[nltk_data]    |     /root/nltk_data...\n",
            "[nltk_data]    | Downloading package vader_lexicon to\n",
            "[nltk_data]    |     /root/nltk_data...\n",
            "[nltk_data]    | Downloading package verbnet to /root/nltk_data...\n",
            "[nltk_data]    |   Unzipping corpora/verbnet.zip.\n",
            "[nltk_data]    | Downloading package verbnet3 to /root/nltk_data...\n",
            "[nltk_data]    |   Unzipping corpora/verbnet3.zip.\n",
            "[nltk_data]    | Downloading package webtext to /root/nltk_data...\n",
            "[nltk_data]    |   Unzipping corpora/webtext.zip.\n",
            "[nltk_data]    | Downloading package wmt15_eval to /root/nltk_data...\n",
            "[nltk_data]    |   Unzipping models/wmt15_eval.zip.\n",
            "[nltk_data]    | Downloading package word2vec_sample to\n",
            "[nltk_data]    |     /root/nltk_data...\n",
            "[nltk_data]    |   Unzipping models/word2vec_sample.zip.\n",
            "[nltk_data]    | Downloading package wordnet to /root/nltk_data...\n",
            "[nltk_data]    |   Package wordnet is already up-to-date!\n",
            "[nltk_data]    | Downloading package wordnet2021 to /root/nltk_data...\n",
            "[nltk_data]    | Downloading package wordnet2022 to /root/nltk_data...\n",
            "[nltk_data]    |   Unzipping corpora/wordnet2022.zip.\n",
            "[nltk_data]    | Downloading package wordnet31 to /root/nltk_data...\n",
            "[nltk_data]    | Downloading package wordnet_ic to /root/nltk_data...\n",
            "[nltk_data]    |   Unzipping corpora/wordnet_ic.zip.\n",
            "[nltk_data]    | Downloading package words to /root/nltk_data...\n",
            "[nltk_data]    |   Unzipping corpora/words.zip.\n",
            "[nltk_data]    | Downloading package ycoe to /root/nltk_data...\n",
            "[nltk_data]    |   Unzipping corpora/ycoe.zip.\n",
            "[nltk_data]    | \n",
            "[nltk_data]  Done downloading collection all\n"
          ]
        }
      ]
    },
    {
      "cell_type": "markdown",
      "source": [
        "# Dataset Description and Preprocessing.\n",
        "The provided NLI dataset consists of premise–hypothesis–label triplets sourced from science exam questions.\n",
        "\n",
        "After removing duplicates and null entries, we obtained N = X training samples, Y validation samples, and Z test samples.\n",
        "\n",
        "Texts were normalised (lowercased, punctuation removed) and tokenised using NLTK. Each token was lemmatised via WordNetLemmatizer.\n",
        "\n",
        "The final vocabulary contained V = {len(vocab)} unique tokens, with sentence lengths averaging A ± B tokens (see Figure 1). Class distribution was approximately balanced (Figure 2)."
      ],
      "metadata": {
        "id": "0c1RNysXjHYE"
      }
    },
    {
      "cell_type": "code",
      "execution_count": null,
      "metadata": {
        "colab": {
          "base_uri": "https://localhost:8080/",
          "height": 1000
        },
        "id": "jc14xOhCizoe",
        "outputId": "fc0fa3db-46d4-4d89-a46a-6e41ea87723e"
      },
      "outputs": [
        {
          "output_type": "stream",
          "name": "stdout",
          "text": [
            "Train sample:\n",
            "                                             premise  \\\n",
            "0  Pluto rotates once on its axis every 6.39 Eart...   \n",
            "1  ---Glenn =====================================...   \n",
            "2  geysers - periodic gush of hot water at the su...   \n",
            "3  Facts: Liquid water droplets can be changed in...   \n",
            "4  By comparison, the earth rotates on its axis o...   \n",
            "\n",
            "                                          hypothesis    label  \n",
            "0   Earth rotates on its axis once times in one day.  neutral  \n",
            "1   Earth rotates on its axis once times in one day.  entails  \n",
            "2  The surface of the sun is much hotter than alm...  neutral  \n",
            "3  Evaporation is responsible for changing liquid...  entails  \n",
            "4   Earth rotates on its axis once times in one day.  entails  \n",
            "\n",
            "Tokenised example:\n",
            "                                      premise_tokens  \\\n",
            "0  [pluto, rotates, once, on, it, axis, every, 63...   \n",
            "\n",
            "                                   hypothesis_tokens  \n",
            "0  [earth, rotates, on, it, axis, once, time, in,...  \n",
            "\n",
            "Vocabulary size: 20116\n",
            "\n",
            "Class distribution (train):\n",
            "label\n",
            "neutral    14600\n",
            "entails     8468\n",
            "Name: count, dtype: int64\n"
          ]
        },
        {
          "output_type": "display_data",
          "data": {
            "text/plain": [
              "<Figure size 640x480 with 1 Axes>"
            ],
            "image/png": "[encoded data removed]"
          },
          "metadata": {}
        },
        {
          "output_type": "display_data",
          "data": {
            "text/plain": [
              "<Figure size 640x480 with 1 Axes>"
            ],
            "image/png": "[encoded data removed]"
          },
          "metadata": {}
        },
        {
          "output_type": "stream",
          "name": "stdout",
          "text": [
            "Average premise length: 18.01\n",
            "Average hypothesis length: 11.74\n",
            "\n",
            "✅ Preprocessing complete. Cleaned datasets saved to /data/\n"
          ]
        }
      ],
      "source": [
        "from itertools import chain\n",
        "\n",
        "# Step 1: Load datasets\n",
        "def load_json_to_df(path):\n",
        "    with open(path, \"r\") as f:\n",
        "        data = json.load(f)\n",
        "    return pd.DataFrame(data)\n",
        "\n",
        "train_df = load_json_to_df(\"train_formatted.json\")\n",
        "val_df = load_json_to_df(\"validation_formatted.json\")\n",
        "test_df = load_json_to_df(\"test_formatted.json\")\n",
        "\n",
        "print(\"Train sample:\")\n",
        "print(train_df.head())\n",
        "\n",
        "# Step 2: Clean and normalise text\n",
        "def normalize_text(text):\n",
        "    text = text.lower()\n",
        "    text = re.sub(r\"[^a-z0-9\\s]\", \"\", text)  # remove punctuation\n",
        "    text = re.sub(r\"\\s+\", \" \", text).strip()\n",
        "    return text\n",
        "\n",
        "for df in [train_df, val_df, test_df]:\n",
        "    df.dropna(subset=[\"premise\", \"hypothesis\", \"label\"], inplace=True)\n",
        "    df.drop_duplicates(inplace=True)\n",
        "    df[\"premise\"] = df[\"premise\"].apply(normalize_text)\n",
        "    df[\"hypothesis\"] = df[\"hypothesis\"].apply(normalize_text)\n",
        "\n",
        "# Step 3: Tokenise and lemmatise\n",
        "lemmatizer = WordNetLemmatizer()\n",
        "\n",
        "def tokenize_and_lemmatize(text):\n",
        "    tokens = word_tokenize(text, language='english')\n",
        "    lemmas = [lemmatizer.lemmatize(tok) for tok in tokens]\n",
        "    return lemmas\n",
        "\n",
        "for df in [train_df, val_df, test_df]:\n",
        "    df[\"premise_tokens\"] = df[\"premise\"].apply(tokenize_and_lemmatize)\n",
        "    df[\"hypothesis_tokens\"] = df[\"hypothesis\"].apply(tokenize_and_lemmatize)\n",
        "\n",
        "print(\"\\nTokenised example:\")\n",
        "print(train_df[[\"premise_tokens\", \"hypothesis_tokens\"]].head(1))\n",
        "\n",
        "#  Step 4: Encode labels\n",
        "label_map = {\"entails\": 1, \"neutral\": 0}\n",
        "for df in [train_df, val_df, test_df]:\n",
        "    df[\"label_id\"] = df[\"label\"].map(label_map)\n",
        "\n",
        "# Step 5: Vocabulary construction\n",
        "all_tokens = list(chain.from_iterable(train_df[\"premise_tokens\"])) + \\\n",
        "             list(chain.from_iterable(train_df[\"hypothesis_tokens\"]))\n",
        "vocab = sorted(set(all_tokens))\n",
        "print(f\"\\nVocabulary size: {len(vocab)}\")\n",
        "\n",
        "# Build word→index mapping\n",
        "word2idx = {word: idx + 1 for idx, word in enumerate(vocab)}  # +1 reserve 0 for padding\n",
        "idx2word = {idx: word for word, idx in word2idx.items()}\n",
        "\n",
        "# Step 6: Exploratory analysis\n",
        "label_counts = train_df[\"label\"].value_counts()\n",
        "print(\"\\nClass distribution (train):\")\n",
        "print(label_counts)\n",
        "\n",
        "label_counts.plot(kind=\"bar\", title=\"Training Set Class Balance\")\n",
        "plt.show()\n",
        "\n",
        "premise_lens = train_df[\"premise_tokens\"].apply(len)\n",
        "hypothesis_lens = train_df[\"hypothesis_tokens\"].apply(len)\n",
        "\n",
        "plt.hist(premise_lens, bins=50, alpha=0.7, label=\"Premise\")\n",
        "plt.hist(hypothesis_lens, bins=50, alpha=0.7, label=\"Hypothesis\")\n",
        "plt.legend()\n",
        "plt.title(\"Sentence Length Distribution\")\n",
        "plt.xlabel(\"Token count\")\n",
        "plt.ylabel(\"Frequency\")\n",
        "plt.show()\n",
        "\n",
        "print(f\"Average premise length: {premise_lens.mean():.2f}\")\n",
        "print(f\"Average hypothesis length: {hypothesis_lens.mean():.2f}\")\n",
        "\n",
        "# Step 7: Save processed files\n",
        "train_df.to_csv(\"data/train_preprocessed.csv\", index=False)\n",
        "val_df.to_csv(\"data/val_preprocessed.csv\", index=False)\n",
        "test_df.to_csv(\"data/test_preprocessed.csv\", index=False)\n",
        "\n",
        "print(\"\\n Preprocessing complete. Cleaned datasets saved to /data/\")\n"
      ]
    },
    {
      "cell_type": "code",
      "source": [
        "from collections import defaultdict\n",
        "import torch\n",
        "from torch.utils.data import Dataset, DataLoader\n",
        "from torch.nn.utils.rnn import pad_sequence\n",
        "import numpy as np\n",
        "\n",
        "# Step 1: Build vocabulary from training data\n",
        "\n",
        "all_tokens = [tok for toks in train_df[\"premise_tokens\"] for tok in toks] + \\\n",
        "             [tok for toks in train_df[\"hypothesis_tokens\"] for tok in toks]\n",
        "\n",
        "vocab = {\"<pad>\": 0, \"<unk>\": 1}\n",
        "for tok in all_tokens:\n",
        "    if tok not in vocab:\n",
        "        vocab[tok] = len(vocab)\n",
        "\n",
        "inv_vocab = {i: w for w, i in vocab.items()}\n",
        "print(f\" Vocabulary built. Size: {len(vocab)}\")\n",
        "\n",
        "# Step 2: Token → Index conversion function\n",
        "def encode_tokens(tokens, vocab):\n",
        "    return [vocab.get(tok, vocab[\"<unk>\"]) for tok in tokens]\n",
        "\n",
        "train_df[\"premise_ids\"] = train_df[\"premise_tokens\"].apply(lambda x: encode_tokens(x, vocab))\n",
        "train_df[\"hypothesis_ids\"] = train_df[\"hypothesis_tokens\"].apply(lambda x: encode_tokens(x, vocab))\n",
        "val_df[\"premise_ids\"] = val_df[\"premise_tokens\"].apply(lambda x: encode_tokens(x, vocab))\n",
        "val_df[\"hypothesis_ids\"] = val_df[\"hypothesis_tokens\"].apply(lambda x: encode_tokens(x, vocab))\n",
        "test_df[\"premise_ids\"] = test_df[\"premise_tokens\"].apply(lambda x: encode_tokens(x, vocab))\n",
        "test_df[\"hypothesis_ids\"] = test_df[\"hypothesis_tokens\"].apply(lambda x: encode_tokens(x, vocab))\n",
        "\n",
        "print(\"Sample encoded example:\")\n",
        "print(train_df[[\"premise_ids\", \"hypothesis_ids\"]].head(1))\n",
        "\n",
        "# Step 3: Custom Dataset class for PyTorch\n",
        "class NLIDataset(Dataset):\n",
        "    def __init__(self, dataframe):\n",
        "        self.premises = dataframe[\"premise_ids\"].tolist()\n",
        "        self.hypotheses = dataframe[\"hypothesis_ids\"].tolist()\n",
        "        self.labels = dataframe[\"label_id\"].tolist()\n",
        "\n",
        "    def __len__(self):\n",
        "        return len(self.labels)\n",
        "\n",
        "    def __getitem__(self, idx):\n",
        "        premise = torch.tensor(self.premises[idx], dtype=torch.long)\n",
        "        hypothesis = torch.tensor(self.hypotheses[idx], dtype=torch.long)\n",
        "        label = torch.tensor(self.labels[idx], dtype=torch.long)\n",
        "        return premise, hypothesis, label\n",
        "\n",
        "# Step 4: Collate function for dynamic padding\n",
        "def collate_fn(batch):\n",
        "    premises, hypotheses, labels = zip(*batch)\n",
        "    premises_padded = pad_sequence(premises, batch_first=True, padding_value=vocab[\"<pad>\"])\n",
        "    hypotheses_padded = pad_sequence(hypotheses, batch_first=True, padding_value=vocab[\"<pad>\"])\n",
        "    labels = torch.stack(labels)\n",
        "    return premises_padded, hypotheses_padded, labels\n",
        "\n",
        "# Step 5: Create DataLoaders\n",
        "BATCH_SIZE = 32\n",
        "\n",
        "train_dataset = NLIDataset(train_df)\n",
        "val_dataset = NLIDataset(val_df)\n",
        "test_dataset = NLIDataset(test_df)\n",
        "\n",
        "train_loader = DataLoader(train_dataset, batch_size=BATCH_SIZE, shuffle=True, collate_fn=collate_fn)\n",
        "val_loader = DataLoader(val_dataset, batch_size=BATCH_SIZE, shuffle=False, collate_fn=collate_fn)\n",
        "test_loader = DataLoader(test_dataset, batch_size=BATCH_SIZE, shuffle=False, collate_fn=collate_fn)\n",
        "\n",
        "print(f\"DataLoaders ready. Train batches: {len(train_loader)}, Val batches: {len(val_loader)}\")\n",
        "\n",
        "# Step 6 (Optional): Quick sanity check\n",
        "prem_batch, hyp_batch, lbl_batch = next(iter(train_loader))\n",
        "print(f\"\\nPremise batch shape: {prem_batch.shape}\")\n",
        "print(f\"Hypothesis batch shape: {hyp_batch.shape}\")\n",
        "print(f\"Label batch shape: {lbl_batch.shape}\")\n"
      ],
      "metadata": {
        "colab": {
          "base_uri": "https://localhost:8080/"
        },
        "id": "0uPziWqCj8zT",
        "outputId": "e568557e-ec98-48f0-cb7a-276b4dd99085"
      },
      "execution_count": null,
      "outputs": [
        {
          "output_type": "stream",
          "name": "stdout",
          "text": [
            "✅ Vocabulary built. Size: 20118\n",
            "Sample encoded example:\n",
            "                        premise_ids                       hypothesis_ids\n",
            "0  [2, 3, 4, 5, 6, 7, 8, 9, 10, 11]  [10, 3, 5, 6, 7, 4, 47, 75, 57, 11]\n",
            "✅ DataLoaders ready. Train batches: 721, Val batches: 41\n",
            "\n",
            "Premise batch shape: torch.Size([32, 34])\n",
            "Hypothesis batch shape: torch.Size([32, 24])\n",
            "Label batch shape: torch.Size([32])\n"
          ]
        }
      ]
    },
    {
      "cell_type": "code",
      "source": [
        "# Encode tokens and labels\n",
        "def encode_tokens(tokens, vocab):\n",
        "    return [vocab.get(tok, vocab[\"<unk>\"]) for tok in tokens]\n",
        "\n",
        "for df in [train_df, val_df, test_df]:\n",
        "    df[\"premise_ids\"] = df[\"premise_tokens\"].apply(lambda t: encode_tokens(t, vocab))\n",
        "    df[\"hypothesis_ids\"] = df[\"hypothesis_tokens\"].apply(lambda t: encode_tokens(t, vocab))\n",
        "    df[\"label_id\"] = df[\"label\"].map(label_map)   # keep consistent mapping\n",
        "\n",
        "#  Save vocab and labels\n",
        "import json, os\n",
        "os.makedirs(\"utils\", exist_ok=True)\n",
        "\n",
        "with open(\"utils/vocab.json\", \"w\") as f:\n",
        "    json.dump(vocab, f)\n",
        "with open(\"utils/labels.json\", \"w\") as f:\n",
        "    json.dump(label_map, f)\n",
        "\n",
        "print(\" Saved vocab and label maps to utils/\")\n",
        "\n",
        "\n",
        "#  Sanity check\n",
        "prem, hyp, lbl = next(iter(train_loader))\n",
        "print(f\"Premise batch: {prem.shape}, Hypothesis batch: {hyp.shape}, Labels: {lbl.shape}\")\n"
      ],
      "metadata": {
        "colab": {
          "base_uri": "https://localhost:8080/"
        },
        "id": "DWqY-2KTkpiG",
        "outputId": "223000a6-7098-467c-b294-56bd2016b574"
      },
      "execution_count": null,
      "outputs": [
        {
          "output_type": "stream",
          "name": "stdout",
          "text": [
            "✅ Saved vocab and label maps to utils/\n",
            "Premise batch: torch.Size([32, 38]), Hypothesis batch: torch.Size([32, 19]), Labels: torch.Size([32])\n"
          ]
        }
      ]
    },
    {
      "cell_type": "markdown",
      "source": [
        "# Models"
      ],
      "metadata": {
        "id": "VG4CUjbRliQf"
      }
    },
    {
      "cell_type": "code",
      "source": [
        "import torch, random, numpy as np\n",
        "\n",
        "SEED = 42\n",
        "torch.manual_seed(SEED)\n",
        "torch.cuda.manual_seed(SEED)\n",
        "np.random.seed(SEED)\n",
        "random.seed(SEED)\n",
        "torch.backends.cudnn.deterministic = True\n",
        "torch.backends.cudnn.benchmark = False\n"
      ],
      "metadata": {
        "id": "gtV9JYZ3llgb"
      },
      "execution_count": null,
      "outputs": []
    },
    {
      "cell_type": "code",
      "source": [
        "import numpy as np\n",
        "import torch.nn as nn\n",
        "\n",
        "EMB_DIM = 100  # 50, 100, or 300 depending on GloVe file used\n",
        "GLOVE_PATH = \"/content/drive/MyDrive/DATASET/glove/glove.6B.100d.txt\"\n",
        "\n",
        "\n",
        "# 1. Load glove vectors\n",
        "glove_vectors = {}\n",
        "with open(GLOVE_PATH, \"r\", encoding=\"utf8\") as f:\n",
        "    for line in f:\n",
        "        parts = line.strip().split()\n",
        "        word = parts[0]\n",
        "        vector = np.array(parts[1:], dtype=np.float32)\n",
        "        glove_vectors[word] = vector\n",
        "\n",
        "print(f\"Loaded {len(glove_vectors):,} GloVe word vectors.\")\n",
        "\n",
        "# 2. Build embedding matrix for your vocab\n",
        "embedding_matrix = np.zeros((len(vocab), EMB_DIM), dtype=np.float32)\n",
        "\n",
        "for word, idx in vocab.items():\n",
        "    if word in glove_vectors:\n",
        "        embedding_matrix[idx] = glove_vectors[word]\n",
        "    else:\n",
        "        embedding_matrix[idx] = np.random.normal(scale=0.6, size=(EMB_DIM,))\n",
        "\n",
        "embedding_matrix = torch.tensor(embedding_matrix)\n",
        "print(f\" Embedding matrix shape: {embedding_matrix.shape}\")\n"
      ],
      "metadata": {
        "colab": {
          "base_uri": "https://localhost:8080/"
        },
        "id": "79yad-LolqvS",
        "outputId": "2ea0630f-55f8-4785-88b5-c487ee270f1d"
      },
      "execution_count": null,
      "outputs": [
        {
          "output_type": "stream",
          "name": "stdout",
          "text": [
            "Loaded 400,000 GloVe word vectors.\n",
            "✅ Embedding matrix shape: torch.Size([20118, 100])\n"
          ]
        }
      ]
    },
    {
      "cell_type": "code",
      "source": [
        "embedding_layer = nn.Embedding.from_pretrained(\n",
        "    embedding_matrix,\n",
        "    freeze=False,            # False = fine-tune embeddings during training\n",
        "    padding_idx=vocab[\"<pad>\"]\n",
        ")\n",
        "\n",
        "print(\"Embedding layer ready.\")\n"
      ],
      "metadata": {
        "colab": {
          "base_uri": "https://localhost:8080/"
        },
        "id": "mfHcDOvul4HD",
        "outputId": "c05f189b-6663-4a6e-95c5-f790a050484f"
      },
      "execution_count": null,
      "outputs": [
        {
          "output_type": "stream",
          "name": "stdout",
          "text": [
            "✅ Embedding layer ready.\n"
          ]
        }
      ]
    },
    {
      "cell_type": "code",
      "source": [
        "DEVICE = torch.device(\"cuda\" if torch.cuda.is_available() else \"cpu\")\n",
        "print(\"Using device:\", DEVICE)\n",
        "\n",
        "criterion = nn.CrossEntropyLoss()\n",
        "def accuracy(preds, labels):\n",
        "    _, predicted = torch.max(preds, 1)\n",
        "    return (predicted == labels).float().mean()\n"
      ],
      "metadata": {
        "colab": {
          "base_uri": "https://localhost:8080/"
        },
        "id": "vfF3FA9LlvKR",
        "outputId": "e97b0236-1741-413e-b565-1801e546aafc"
      },
      "execution_count": null,
      "outputs": [
        {
          "output_type": "stream",
          "name": "stdout",
          "text": [
            "Using device: cuda\n"
          ]
        }
      ]
    },
    {
      "cell_type": "code",
      "source": [
        "!mkdir -p models logs results\n"
      ],
      "metadata": {
        "id": "ghzrJ_AllxCd"
      },
      "execution_count": null,
      "outputs": []
    },
    {
      "cell_type": "code",
      "source": [
        "for name, df in zip([\"train\", \"val\", \"test\"], [train_df, val_df, test_df]):\n",
        "    print(name, \"labels:\", df[\"label_id\"].unique())\n"
      ],
      "metadata": {
        "colab": {
          "base_uri": "https://localhost:8080/"
        },
        "id": "KxfSeaOsoqZJ",
        "outputId": "8b744257-df6d-4bc5-facf-9a42538d4964"
      },
      "execution_count": null,
      "outputs": [
        {
          "output_type": "stream",
          "name": "stdout",
          "text": [
            "train labels: [0 1]\n",
            "val labels: [0 1]\n",
            "test labels: [0 1]\n"
          ]
        }
      ]
    },
    {
      "cell_type": "code",
      "source": [
        "\n",
        "# BiLSTM Baseline Model (Model 1)\n",
        "\n",
        "import torch\n",
        "import torch.nn as nn\n",
        "from torch.optim import Adam\n",
        "from tqdm import tqdm\n",
        "import zipfile\n",
        "import os\n",
        "\n",
        "# Step 1: Model Definition\n",
        "class BiLSTMBase(nn.Module):\n",
        "    def __init__(self, embedding_matrix, hidden_dim, num_classes, pad_idx, dropout=0.3):\n",
        "        super().__init__()\n",
        "        num_embeddings, embed_dim = embedding_matrix.size()\n",
        "\n",
        "        # Pretrained embedding layer (GloVe)\n",
        "        self.embedding = nn.Embedding.from_pretrained(\n",
        "            embedding_matrix, freeze=False, padding_idx=pad_idx\n",
        "        )\n",
        "\n",
        "        self.bilstm = nn.LSTM(embed_dim, hidden_dim,\n",
        "                              batch_first=True, bidirectional=True)\n",
        "        self.dropout = nn.Dropout(dropout)\n",
        "        self.pool = nn.AdaptiveMaxPool1d(1)   # variable-length seq → fixed vector\n",
        "        self.fc = nn.Sequential(\n",
        "            nn.Linear(hidden_dim * 2 * 3, hidden_dim),\n",
        "            nn.ReLU(),\n",
        "            nn.Linear(hidden_dim, num_classes)\n",
        "        )\n",
        "\n",
        "    def encode(self, x):\n",
        "        emb = self.embedding(x)               # (B, L, E)\n",
        "        out, _ = self.bilstm(emb)             # (B, L, 2H)\n",
        "        out = out.permute(0, 2, 1)            # (B, 2H, L)\n",
        "        pooled = self.pool(out).squeeze(-1)   # (B, 2H)\n",
        "        return self.dropout(pooled)\n",
        "\n",
        "    def forward(self, premise, hypothesis):\n",
        "        p_vec = self.encode(premise)\n",
        "        h_vec = self.encode(hypothesis)\n",
        "        combined = torch.cat([p_vec, h_vec, torch.abs(p_vec - h_vec)], dim=1)\n",
        "        logits = self.fc(combined)\n",
        "        return logits\n",
        "\n",
        "\n",
        "#  Step 2: Initialise Model\n",
        "vocab_size = len(vocab)\n",
        "hidden_dim = 128\n",
        "num_classes = 2\n",
        "pad_idx = vocab[\"<pad>\"]\n",
        "\n",
        "model = BiLSTMBase(embedding_matrix, hidden_dim, num_classes, pad_idx).to(DEVICE)\n",
        "\n",
        "criterion = nn.CrossEntropyLoss()\n",
        "optimizer = Adam(model.parameters(), lr=1e-3)\n",
        "epochs = 5\n",
        "# For logging\n",
        "train_losses, val_losses = [], []\n",
        "train_accs, val_accs = [], []\n",
        "\n",
        "# Step 3: Training + Validation Loop\n",
        "for epoch in range(epochs):\n",
        "    model.train()\n",
        "    train_loss, train_correct, train_total = 0, 0, 0\n",
        "    loop = tqdm(train_loader, desc=f\"Epoch {epoch+1}/{epochs}\")\n",
        "\n",
        "    for premises, hypotheses, labels in loop:\n",
        "        premises, hypotheses, labels = premises.to(DEVICE), hypotheses.to(DEVICE), labels.to(DEVICE)\n",
        "\n",
        "        optimizer.zero_grad()\n",
        "        logits = model(premises, hypotheses)\n",
        "        loss = criterion(logits, labels)\n",
        "        loss.backward()\n",
        "        optimizer.step()\n",
        "\n",
        "        preds = torch.argmax(logits, dim=1)\n",
        "        train_loss += loss.item() * labels.size(0)\n",
        "        train_correct += (preds == labels).sum().item()\n",
        "        train_total += labels.size(0)\n",
        "\n",
        "        loop.set_postfix(loss=train_loss/train_total, acc=train_correct/train_total)\n",
        "\n",
        "    # Validation\n",
        "    model.eval()\n",
        "    val_loss, val_correct, val_total = 0, 0, 0\n",
        "    with torch.no_grad():\n",
        "        for premises, hypotheses, labels in val_loader:\n",
        "            premises, hypotheses, labels = premises.to(DEVICE), hypotheses.to(DEVICE), labels.to(DEVICE)\n",
        "            logits = model(premises, hypotheses)\n",
        "            loss = criterion(logits, labels)\n",
        "            preds = torch.argmax(logits, dim=1)\n",
        "\n",
        "            val_loss += loss.item() * labels.size(0)\n",
        "            val_correct += (preds == labels).sum().item()\n",
        "            val_total += labels.size(0)\n",
        "\n",
        "    print(f\"Epoch {epoch+1}: \"\n",
        "          f\"Train Loss={train_loss/train_total:.4f}, Train Acc={train_correct/train_total:.4f}, \"\n",
        "          f\"Val Loss={val_loss/val_total:.4f}, Val Acc={val_correct/val_total:.4f}\")\n",
        "train_losses.append(train_loss / train_total)\n",
        "train_accs.append(train_correct / train_total)\n",
        "val_losses.append(val_loss / val_total)\n",
        "val_accs.append(val_correct / val_total)\n",
        "\n",
        "# Step 4: Save Model Weights\n",
        "model_path = \"models/bilstm_baseline.pt\"\n",
        "torch.save(model.state_dict(), model_path)\n",
        "print(f\"Model saved to {model_path}\")\n",
        "\n",
        "# Step 5: Create Zip for Download\n",
        "zip_path = \"models/bilstm_baseline.zip\"\n",
        "with zipfile.ZipFile(zip_path, 'w', zipfile.ZIP_DEFLATED) as zipf:\n",
        "    zipf.write(model_path, arcname=os.path.basename(model_path))\n",
        "\n",
        "print(f\" Model zipped and ready for download: {zip_path}\")\n",
        "\n",
        "#Step 6: Make Downloadable (Colab)\n",
        "from google.colab import files\n",
        "files.download(zip_path)\n"
      ],
      "metadata": {
        "colab": {
          "base_uri": "https://localhost:8080/",
          "height": 221
        },
        "id": "18-SB_Vjo6ZG",
        "outputId": "305e4145-9389-41c2-877e-d98379d347c4"
      },
      "execution_count": null,
      "outputs": [
        {
          "output_type": "stream",
          "name": "stderr",
          "text": [
            "Epoch 1/5: 100%|██████████| 721/721 [00:07<00:00, 91.83it/s, acc=0.765, loss=0.478] \n"
          ]
        },
        {
          "output_type": "stream",
          "name": "stdout",
          "text": [
            "Epoch 1: Train Loss=0.4780, Train Acc=0.7647, Val Loss=0.6921, Val Acc=0.6449\n"
          ]
        },
        {
          "output_type": "stream",
          "name": "stderr",
          "text": [
            "Epoch 2/5: 100%|██████████| 721/721 [00:06<00:00, 108.87it/s, acc=0.867, loss=0.311]\n"
          ]
        },
        {
          "output_type": "stream",
          "name": "stdout",
          "text": [
            "Epoch 2: Train Loss=0.3106, Train Acc=0.8673, Val Loss=0.7694, Val Acc=0.6825\n"
          ]
        },
        {
          "output_type": "stream",
          "name": "stderr",
          "text": [
            "Epoch 3/5: 100%|██████████| 721/721 [00:06<00:00, 105.07it/s, acc=0.907, loss=0.229]\n"
          ]
        },
        {
          "output_type": "stream",
          "name": "stdout",
          "text": [
            "Epoch 3: Train Loss=0.2287, Train Acc=0.9072, Val Loss=0.6388, Val Acc=0.7416\n"
          ]
        },
        {
          "output_type": "stream",
          "name": "stderr",
          "text": [
            "Epoch 4/5: 100%|██████████| 721/721 [00:06<00:00, 116.38it/s, acc=0.935, loss=0.165]\n"
          ]
        },
        {
          "output_type": "stream",
          "name": "stdout",
          "text": [
            "Epoch 4: Train Loss=0.1646, Train Acc=0.9354, Val Loss=0.8197, Val Acc=0.7232\n"
          ]
        },
        {
          "output_type": "stream",
          "name": "stderr",
          "text": [
            "Epoch 5/5: 100%|██████████| 721/721 [00:07<00:00, 100.66it/s, acc=0.951, loss=0.124]\n"
          ]
        },
        {
          "output_type": "stream",
          "name": "stdout",
          "text": [
            "Epoch 5: Train Loss=0.1245, Train Acc=0.9512, Val Loss=0.7146, Val Acc=0.7592\n",
            "✅ Model saved to models/bilstm_baseline.pt\n",
            "✅ Model zipped and ready for download: models/bilstm_baseline.zip\n"
          ]
        },
        {
          "output_type": "display_data",
          "data": {
            "text/plain": [
              "<IPython.core.display.Javascript object>"
            ],
            "application/javascript": [
              "\n",
              "    async function download(id, filename, size) {\n",
              "      if (!google.colab.kernel.accessAllowed) {\n",
              "        return;\n",
              "      }\n",
              "      const div = document.createElement('div');\n",
              "      const label = document.createElement('label');\n",
              "      label.textContent = `Downloading \"${filename}\": `;\n",
              "      div.appendChild(label);\n",
              "      const progress = document.createElement('progress');\n",
              "      progress.max = size;\n",
              "      div.appendChild(progress);\n",
              "      document.body.appendChild(div);\n",
              "\n",
              "      const buffers = [];\n",
              "      let downloaded = 0;\n",
              "\n",
              "      const channel = await google.colab.kernel.comms.open(id);\n",
              "      // Send a message to notify the kernel that we're ready.\n",
              "      channel.send({})\n",
              "\n",
              "      for await (const message of channel.messages) {\n",
              "        // Send a message to notify the kernel that we're ready.\n",
              "        channel.send({})\n",
              "        if (message.buffers) {\n",
              "          for (const buffer of message.buffers) {\n",
              "            buffers.push(buffer);\n",
              "            downloaded += buffer.byteLength;\n",
              "            progress.value = downloaded;\n",
              "          }\n",
              "        }\n",
              "      }\n",
              "      const blob = new Blob(buffers, {type: 'application/binary'});\n",
              "      const a = document.createElement('a');\n",
              "      a.href = window.URL.createObjectURL(blob);\n",
              "      a.download = filename;\n",
              "      div.appendChild(a);\n",
              "      a.click();\n",
              "      div.remove();\n",
              "    }\n",
              "  "
            ]
          },
          "metadata": {}
        },
        {
          "output_type": "display_data",
          "data": {
            "text/plain": [
              "<IPython.core.display.Javascript object>"
            ],
            "application/javascript": [
              "download(\"download_39a956e6-c0e6-43e5-af7c-ab2a0873833f\", \"bilstm_baseline.zip\", 8724444)"
            ]
          },
          "metadata": {}
        }
      ]
    },
    {
      "cell_type": "code",
      "source": [
        "\n",
        "from sklearn.metrics import classification_report, confusion_matrix, ConfusionMatrixDisplay\n",
        "import matplotlib.pyplot as plt\n",
        "\n",
        "# Evaluation helper\n",
        "def evaluate_model(model, loader, device):\n",
        "    model.eval()\n",
        "    preds, labels_all = [], []\n",
        "    with torch.no_grad():\n",
        "        for premises, hypotheses, labels in loader:\n",
        "            premises, hypotheses, labels = premises.to(device), hypotheses.to(device), labels.to(device)\n",
        "            logits = model(premises, hypotheses)\n",
        "            pred = torch.argmax(logits, dim=1)\n",
        "            preds.extend(pred.cpu().numpy())\n",
        "            labels_all.extend(labels.cpu().numpy())\n",
        "    return preds, labels_all\n",
        "\n",
        "# Validation metrics\n",
        "val_preds, val_labels = evaluate_model(model, val_loader, DEVICE)\n",
        "print(\"Validation Classification Report:\")\n",
        "print(classification_report(val_labels, val_preds, target_names=[\"neutral\", \"entails\"]))\n",
        "\n",
        "# Test metrics\n",
        "test_preds, test_labels = evaluate_model(model, test_loader, DEVICE)\n",
        "print(\"Test Classification Report:\")\n",
        "print(classification_report(test_labels, test_preds, target_names=[\"neutral\", \"entails\"]))\n"
      ],
      "metadata": {
        "colab": {
          "base_uri": "https://localhost:8080/"
        },
        "id": "WLq_lOOIufJf",
        "outputId": "660bc11f-ca83-4501-c6c1-137b32a94d04"
      },
      "execution_count": null,
      "outputs": [
        {
          "output_type": "stream",
          "name": "stdout",
          "text": [
            "Validation Classification Report:\n",
            "              precision    recall  f1-score   support\n",
            "\n",
            "     neutral       0.88      0.59      0.71       647\n",
            "     entails       0.70      0.92      0.79       657\n",
            "\n",
            "    accuracy                           0.76      1304\n",
            "   macro avg       0.79      0.76      0.75      1304\n",
            "weighted avg       0.79      0.76      0.75      1304\n",
            "\n",
            "Test Classification Report:\n",
            "              precision    recall  f1-score   support\n",
            "\n",
            "     neutral       0.86      0.61      0.72      1284\n",
            "     entails       0.59      0.84      0.69       842\n",
            "\n",
            "    accuracy                           0.71      2126\n",
            "   macro avg       0.72      0.73      0.71      2126\n",
            "weighted avg       0.75      0.71      0.71      2126\n",
            "\n"
          ]
        }
      ]
    },
    {
      "cell_type": "code",
      "source": [
        "cm = confusion_matrix(test_labels, test_preds)\n",
        "disp = ConfusionMatrixDisplay(confusion_matrix=cm, display_labels=[\"neutral\", \"entails\"])\n",
        "disp.plot(cmap=\"Blues\", values_format=\"d\")\n",
        "plt.title(\"Confusion Matrix – BiLSTM Baseline (Test Set)\")\n",
        "plt.show()\n"
      ],
      "metadata": {
        "colab": {
          "base_uri": "https://localhost:8080/",
          "height": 472
        },
        "id": "3oiPjtOXuhXU",
        "outputId": "88e6311b-cdec-4872-d9a0-ae9e043eca14"
      },
      "execution_count": null,
      "outputs": [
        {
          "output_type": "display_data",
          "data": {
            "text/plain": [
              "<Figure size 640x480 with 2 Axes>"
            ],
            "image/png": "[encoded data removed]"
          },
          "metadata": {}
        }
      ]
    },
    {
      "cell_type": "code",
      "source": [
        "# --- Plot Loss Curves ---\n",
        "plt.figure(figsize=(8,4))\n",
        "plt.plot(train_losses, label=\"Train Loss\", marker='o')\n",
        "plt.plot(val_losses, label=\"Validation Loss\", marker='o')\n",
        "plt.legend()\n",
        "plt.title(\"BiLSTM: Training vs Validation Loss\")\n",
        "plt.xlabel(\"Epoch\")\n",
        "plt.ylabel(\"Loss\")\n",
        "plt.grid(True)\n",
        "plt.show()\n",
        "\n",
        "# --- Plot Accuracy Curves ---\n",
        "plt.figure(figsize=(8,4))\n",
        "plt.plot(train_accs, label=\"Train Accuracy\", marker='o')\n",
        "plt.plot(val_accs, label=\"Validation Accuracy\", marker='o')\n",
        "plt.legend()\n",
        "plt.title(\"BiLSTM: Training vs Validation Accuracy\")\n",
        "plt.xlabel(\"Epoch\")\n",
        "plt.ylabel(\"Accuracy\")\n",
        "plt.grid(True)\n",
        "plt.show()\n",
        "\n"
      ],
      "metadata": {
        "colab": {
          "base_uri": "https://localhost:8080/",
          "height": 803
        },
        "id": "Mcx4mzgMul0o",
        "outputId": "4855db56-7996-4d4c-e944-a65817a0b725"
      },
      "execution_count": null,
      "outputs": [
        {
          "output_type": "display_data",
          "data": {
            "text/plain": [
              "<Figure size 800x400 with 1 Axes>"
            ],
            "image/png": "[encoded data removed]"
          },
          "metadata": {}
        },
        {
          "output_type": "display_data",
          "data": {
            "text/plain": [
              "<Figure size 800x400 with 1 Axes>"
            ],
            "image/png": "[encoded data removed]"
          },
          "metadata": {}
        }
      ]
    },
    {
      "cell_type": "code",
      "source": [
        "import torch.nn.functional as F\n",
        "import seaborn as sns\n",
        "\n",
        "# Collect model confidences on validation set\n",
        "model.eval()\n",
        "confidences = []\n",
        "with torch.no_grad():\n",
        "    for premises, hypotheses, labels in val_loader:\n",
        "        premises, hypotheses = premises.to(DEVICE), hypotheses.to(DEVICE)\n",
        "        logits = model(premises, hypotheses)\n",
        "        probs = F.softmax(logits, dim=1)\n",
        "        confidences.extend(probs.max(dim=1)[0].cpu().numpy())\n",
        "\n",
        "plt.figure(figsize=(6,4))\n",
        "sns.histplot(confidences, bins=20, kde=True, color=\"teal\")\n",
        "plt.title(\"Model Confidence Distribution (Validation Set)\")\n",
        "plt.xlabel(\"Prediction Confidence\")\n",
        "plt.ylabel(\"Frequency\")\n",
        "plt.show()\n"
      ],
      "metadata": {
        "colab": {
          "base_uri": "https://localhost:8080/",
          "height": 410
        },
        "id": "VgPFM4_ExdP9",
        "outputId": "a088e3a1-abe4-4231-a501-6fd1312b7f97"
      },
      "execution_count": null,
      "outputs": [
        {
          "output_type": "display_data",
          "data": {
            "text/plain": [
              "<Figure size 600x400 with 1 Axes>"
            ],
            "image/png": "[encoded data removed]"
          },
          "metadata": {}
        }
      ]
    },
    {
      "cell_type": "code",
      "source": [
        "plt.savefig(\"results/bilstm_loss_curve.png\", dpi=300)\n",
        "plt.savefig(\"results/bilstm_accuracy_curve.png\", dpi=300)\n",
        "plt.savefig(\"results/bilstm_confidence_hist.png\", dpi=300)\n"
      ],
      "metadata": {
        "colab": {
          "base_uri": "https://localhost:8080/",
          "height": 34
        },
        "id": "-YQm8cRlxgVm",
        "outputId": "142cce03-8040-4536-ce1b-6388546c673f"
      },
      "execution_count": null,
      "outputs": [
        {
          "output_type": "display_data",
          "data": {
            "text/plain": [
              "<Figure size 640x480 with 0 Axes>"
            ]
          },
          "metadata": {}
        }
      ]
    },
    {
      "cell_type": "markdown",
      "source": [
        "# Model 2"
      ],
      "metadata": {
        "id": "wfXWtJWe3fQl"
      }
    },
    {
      "cell_type": "code",
      "source": [
        "import gc, torch\n",
        "gc.collect()\n",
        "torch.cuda.empty_cache()\n",
        "torch.cuda.reset_peak_memory_stats()\n"
      ],
      "metadata": {
        "id": "NdBMGve7_H5D"
      },
      "execution_count": null,
      "outputs": []
    },
    {
      "cell_type": "code",
      "source": [
        "# =========================================================\n",
        "# MODEL 2 — BiLSTM + Global Query Attention (Optimized)\n",
        "# =========================================================\n",
        "\n",
        "import torch, torch.nn as nn, torch.nn.functional as F\n",
        "import math, os, zipfile, re\n",
        "import matplotlib.pyplot as plt\n",
        "import seaborn as sns\n",
        "from tqdm import tqdm\n",
        "from sklearn.metrics import classification_report, confusion_matrix, ConfusionMatrixDisplay\n",
        "\n",
        "# =========================================================\n",
        "# 1️⃣ Memory controls — truncate long sequences + smaller batch\n",
        "# =========================================================\n",
        "MAX_LEN = 80        # Cap sequence length (based on histograms)\n",
        "BATCH_SIZE = 16     # Half previous batch size\n",
        "\n",
        "def truncate_ids(ids): return ids[:MAX_LEN]\n",
        "for df_ in [train_df, val_df, test_df]:\n",
        "    df_[\"premise_ids\"] = df_[\"premise_ids\"].apply(truncate_ids)\n",
        "    df_[\"hypothesis_ids\"] = df_[\"hypothesis_ids\"].apply(truncate_ids)\n",
        "\n",
        "# =========================================================\n",
        "# 2️⃣ Global Query Attention (O(T) instead of O(T²))\n",
        "# =========================================================\n",
        "class GlobalQueryAttention(nn.Module):\n",
        "    \"\"\"Single-query scaled dot-product attention\"\"\"\n",
        "    def __init__(self, d_model, d_k, dropout=0.1):\n",
        "        super().__init__()\n",
        "        self.q_proj = nn.Linear(d_model, d_k, bias=False)\n",
        "        self.k_proj = nn.Linear(d_model, d_k, bias=False)\n",
        "        self.v_proj = nn.Linear(d_model, d_k, bias=False)\n",
        "        self.dropout = nn.Dropout(dropout)\n",
        "\n",
        "    def forward(self, H):\n",
        "        # H: (B, T, D)\n",
        "        Q = self.q_proj(H.mean(dim=1, keepdim=True))  # (B,1,d_k)\n",
        "        K = self.k_proj(H)                            # (B,T,d_k)\n",
        "        V = self.v_proj(H)                            # (B,T,d_k)\n",
        "        attn_logits = torch.matmul(Q, K.transpose(-2, -1)).squeeze(1) / math.sqrt(K.size(-1))  # (B,T)\n",
        "        weights = torch.softmax(attn_logits, dim=-1)\n",
        "        weights = self.dropout(weights)\n",
        "        context = torch.matmul(weights.unsqueeze(1), V).squeeze(1)  # (B,d_k)\n",
        "        return context, weights\n",
        "\n",
        "# =========================================================\n",
        "# 3️⃣ BiLSTM + Global Attention Model\n",
        "# =========================================================\n",
        "class BiLSTMGlobalAttn(nn.Module):\n",
        "    def __init__(self, embedding_matrix, hidden_dim=128, d_k=64, num_classes=2, dropout=0.3):\n",
        "        super().__init__()\n",
        "        num_embeddings, embed_dim = embedding_matrix.size()\n",
        "        self.embedding = nn.Embedding.from_pretrained(\n",
        "            embedding_matrix, freeze=False, padding_idx=vocab[\"<pad>\"]\n",
        "        )\n",
        "        self.bilstm = nn.LSTM(embed_dim, hidden_dim, batch_first=True, bidirectional=True)\n",
        "        self.attn = GlobalQueryAttention(d_model=hidden_dim*2, d_k=d_k)\n",
        "        self.fc = nn.Sequential(\n",
        "            nn.Dropout(dropout),\n",
        "            nn.Linear(d_k*3, 128),\n",
        "            nn.ReLU(),\n",
        "            nn.Linear(128, num_classes)\n",
        "        )\n",
        "\n",
        "    def encode(self, x):\n",
        "        H, _ = self.bilstm(self.embedding(x))\n",
        "        ctx, _ = self.attn(H)\n",
        "        return ctx\n",
        "\n",
        "    def forward(self, premise, hypothesis):\n",
        "        p_vec = self.encode(premise)\n",
        "        h_vec = self.encode(hypothesis)\n",
        "        combined = torch.cat([p_vec, h_vec, torch.abs(p_vec - h_vec)], dim=1)\n",
        "        return self.fc(combined)\n",
        "\n",
        "# =========================================================\n",
        "# 4️⃣ Training setup with mixed precision\n",
        "# =========================================================\n",
        "DEVICE = torch.device(\"cuda\" if torch.cuda.is_available() else \"cpu\")\n",
        "model2 = BiLSTMGlobalAttn(embedding_matrix, hidden_dim=128, d_k=64).to(DEVICE)\n",
        "criterion = nn.CrossEntropyLoss()\n",
        "optimizer = torch.optim.Adam(model2.parameters(), lr=1e-3)\n",
        "scaler = torch.cuda.amp.GradScaler()\n",
        "epochs = 5\n",
        "train_losses, val_losses, train_accs, val_accs = [], [], [], []\n",
        "best_val_acc = 0.0\n",
        "\n",
        "print(model2)\n",
        "\n",
        "# =========================================================\n",
        "# 5️⃣ Training + Validation\n",
        "# =========================================================\n",
        "for epoch in range(epochs):\n",
        "    print(f\"\\n===== Epoch {epoch+1}/{epochs} =====\")\n",
        "    model2.train()\n",
        "    total_loss, correct, total = 0, 0, 0\n",
        "    for prem, hyp, lbl in tqdm(train_loader, desc=\"Training\", leave=False):\n",
        "        prem, hyp, lbl = prem.to(DEVICE), hyp.to(DEVICE), lbl.to(DEVICE)\n",
        "        optimizer.zero_grad(set_to_none=True)\n",
        "        with torch.cuda.amp.autocast():\n",
        "            logits = model2(prem, hyp)\n",
        "            loss = criterion(logits, lbl)\n",
        "        scaler.scale(loss).backward()\n",
        "        scaler.step(optimizer)\n",
        "        scaler.update()\n",
        "\n",
        "        total_loss += loss.item()\n",
        "        preds = torch.argmax(logits, dim=1)\n",
        "        correct += (preds == lbl).sum().item()\n",
        "        total += lbl.size(0)\n",
        "\n",
        "    train_loss, train_acc = total_loss/len(train_loader), correct/total\n",
        "    train_losses.append(train_loss); train_accs.append(train_acc)\n",
        "\n",
        "    # --- Validation ---\n",
        "    model2.eval(); vloss, vcorrect, vtotal = 0, 0, 0\n",
        "    with torch.no_grad(), torch.cuda.amp.autocast():\n",
        "        for prem, hyp, lbl in tqdm(val_loader, desc=\"Validation\", leave=False):\n",
        "            prem, hyp, lbl = prem.to(DEVICE), hyp.to(DEVICE), lbl.to(DEVICE)\n",
        "            logits = model2(prem, hyp)\n",
        "            loss = criterion(logits, lbl)\n",
        "            preds = torch.argmax(logits, dim=1)\n",
        "            vloss += loss.item()\n",
        "            vcorrect += (preds == lbl).sum().item()\n",
        "            vtotal += lbl.size(0)\n",
        "    val_loss, val_acc = vloss/len(val_loader), vcorrect/vtotal\n",
        "    val_losses.append(val_loss); val_accs.append(val_acc)\n",
        "    print(f\"Train Loss={train_loss:.4f} Acc={train_acc:.3f} | Val Loss={val_loss:.4f} Acc={val_acc:.3f}\")\n",
        "\n",
        "    if val_acc > best_val_acc:\n",
        "        best_val_acc = val_acc\n",
        "        torch.save(model2.state_dict(), \"models/bilstm_globalattn_best.pt\")\n",
        "        print(f\"💾 New best model saved (Val Acc = {val_acc:.3f})\")\n",
        "\n",
        "torch.save(model2.state_dict(), \"models/bilstm_globalattn_last.pt\")\n",
        "print(f\"\\n✅ Training done. Best Val Acc = {best_val_acc:.3f}\")\n",
        "\n",
        "# =========================================================\n",
        "# 6️⃣ Plots — Loss & Accuracy\n",
        "# =========================================================\n",
        "plt.figure(figsize=(8,4))\n",
        "plt.plot(train_losses, label=\"Train Loss\", marker=\"o\")\n",
        "plt.plot(val_losses, label=\"Val Loss\", marker=\"o\")\n",
        "plt.legend(); plt.title(\"BiLSTM + Global Attention: Loss Curves\")\n",
        "plt.xlabel(\"Epoch\"); plt.ylabel(\"Loss\"); plt.grid(True); plt.show()\n",
        "\n",
        "plt.figure(figsize=(8,4))\n",
        "plt.plot(train_accs, label=\"Train Acc\", marker=\"o\")\n",
        "plt.plot(val_accs, label=\"Val Acc\", marker=\"o\")\n",
        "plt.legend(); plt.title(\"BiLSTM + Global Attention: Accuracy Curves\")\n",
        "plt.xlabel(\"Epoch\"); plt.ylabel(\"Accuracy\"); plt.grid(True); plt.show()\n",
        "\n",
        "# =========================================================\n",
        "# 7️⃣ Evaluation + Visuals\n",
        "# =========================================================\n",
        "def evaluate_model(model, loader):\n",
        "    model.eval(); preds, labels_all, probs = [], [], []\n",
        "    with torch.no_grad():\n",
        "        for prem, hyp, lbl in loader:\n",
        "            prem, hyp, lbl = prem.to(DEVICE), hyp.to(DEVICE), lbl.to(DEVICE)\n",
        "            logits = model(prem, hyp)\n",
        "            prob = F.softmax(logits, dim=1)\n",
        "            preds.extend(torch.argmax(prob, dim=1).cpu().numpy())\n",
        "            labels_all.extend(lbl.cpu().numpy())\n",
        "            probs.extend(prob.max(dim=1)[0].cpu().numpy())\n",
        "    return preds, labels_all, probs\n",
        "\n",
        "val_preds, val_labels, val_probs = evaluate_model(model2, val_loader)\n",
        "test_preds, test_labels, test_probs = evaluate_model(model2, test_loader)\n",
        "\n",
        "print(\"\\nValidation Report:\")\n",
        "print(classification_report(val_labels, val_preds, target_names=[\"neutral\",\"entails\"]))\n",
        "print(\"\\nTest Report:\")\n",
        "print(classification_report(test_labels, test_preds, target_names=[\"neutral\",\"entails\"]))\n",
        "\n",
        "for split, labels, preds in [(\"Validation\", val_labels, val_preds), (\"Test\", test_labels, test_preds)]:\n",
        "    cm = confusion_matrix(labels, preds)\n",
        "    disp = ConfusionMatrixDisplay(confusion_matrix=cm, display_labels=[\"neutral\",\"entails\"])\n",
        "    disp.plot(cmap=\"PuBu\", values_format=\"d\")\n",
        "    plt.title(f\"Confusion Matrix – {split} (BiLSTM + Global Attention)\")\n",
        "    plt.show()\n",
        "\n",
        "# --- Confidence Histogram ---\n",
        "plt.figure(figsize=(6,4))\n",
        "sns.histplot(test_probs, bins=20, kde=True, color=\"teal\")\n",
        "plt.title(\"Model Confidence Distribution (BiLSTM + Global Attention)\")\n",
        "plt.xlabel(\"Max Softmax Probability\"); plt.ylabel(\"Frequency\")\n",
        "plt.show()\n",
        "\n",
        "# --- Optional Attention Heatmap ---\n",
        "def visualize_attention(model, sentence, vocab, title=\"Attention Heatmap\"):\n",
        "    model.eval()\n",
        "    tokens = re.sub(r\"[^a-z0-9\\s]\", \"\", sentence.lower()).split()\n",
        "    ids = torch.tensor([[vocab.get(tok, vocab[\"<unk>\"]) for tok in tokens]]).to(DEVICE)\n",
        "    with torch.no_grad():\n",
        "        H, _ = model.bilstm(model.embedding(ids))\n",
        "        _, weights = model.attn(H)\n",
        "    plt.figure(figsize=(8,4))\n",
        "    sns.barplot(x=tokens, y=weights.squeeze(0).cpu().numpy(), color=\"skyblue\")\n",
        "    plt.title(title); plt.ylabel(\"Attention weight\"); plt.xticks(rotation=30)\n",
        "    plt.tight_layout(); plt.show()\n",
        "\n",
        "visualize_attention(model2, \"the blood sample was analyzed for glucose\", vocab,\n",
        "                    \"Premise Attention (BiLSTM + Global Query Attention)\")\n",
        "visualize_attention(model2, \"the sample was tested for sugar\", vocab,\n",
        "                    \"Hypothesis Attention (BiLSTM + Global Query Attention)\")\n",
        "\n",
        "# =========================================================\n",
        "# 8️⃣ Save + Zip for Download\n",
        "# =========================================================\n",
        "best_path = \"models/bilstm_globalattn_best.pt\"\n",
        "zip_path  = \"models/bilstm_globalattn_best.zip\"\n",
        "with zipfile.ZipFile(zip_path, \"w\", zipfile.ZIP_DEFLATED) as zipf:\n",
        "    zipf.write(best_path, arcname=os.path.basename(best_path))\n",
        "print(f\"✅ Best model zipped and ready for download → {zip_path}\")\n",
        "from google.colab import files\n",
        "files.download(zip_path)\n",
        "\n"
      ],
      "metadata": {
        "colab": {
          "base_uri": "https://localhost:8080/",
          "height": 812
        },
        "id": "yF1CQxT63jEU",
        "outputId": "16ad21dc-80d2-4cdf-fe0a-755078fc2abf"
      },
      "execution_count": null,
      "outputs": [
        {
          "output_type": "stream",
          "name": "stderr",
          "text": [
            "/tmp/ipython-input-1473725000.py:83: FutureWarning: `torch.cuda.amp.GradScaler(args...)` is deprecated. Please use `torch.amp.GradScaler('cuda', args...)` instead.\n",
            "  scaler = torch.cuda.amp.GradScaler()\n"
          ]
        },
        {
          "output_type": "stream",
          "name": "stdout",
          "text": [
            "BiLSTMGlobalAttn(\n",
            "  (embedding): Embedding(20118, 100, padding_idx=0)\n",
            "  (bilstm): LSTM(100, 128, batch_first=True, bidirectional=True)\n",
            "  (attn): GlobalQueryAttention(\n",
            "    (q_proj): Linear(in_features=256, out_features=64, bias=False)\n",
            "    (k_proj): Linear(in_features=256, out_features=64, bias=False)\n",
            "    (v_proj): Linear(in_features=256, out_features=64, bias=False)\n",
            "    (dropout): Dropout(p=0.1, inplace=False)\n",
            "  )\n",
            "  (fc): Sequential(\n",
            "    (0): Dropout(p=0.3, inplace=False)\n",
            "    (1): Linear(in_features=192, out_features=128, bias=True)\n",
            "    (2): ReLU()\n",
            "    (3): Linear(in_features=128, out_features=2, bias=True)\n",
            "  )\n",
            ")\n",
            "\n",
            "===== Epoch 1/5 =====\n"
          ]
        },
        {
          "output_type": "stream",
          "name": "stderr",
          "text": [
            "\rTraining:   0%|          | 0/721 [00:00<?, ?it/s]/tmp/ipython-input-1473725000.py:100: FutureWarning: `torch.cuda.amp.autocast(args...)` is deprecated. Please use `torch.amp.autocast('cuda', args...)` instead.\n",
            "  with torch.cuda.amp.autocast():\n"
          ]
        },
        {
          "output_type": "error",
          "ename": "OutOfMemoryError",
          "evalue": "CUDA out of memory. Tried to allocate 826.00 MiB. GPU 0 has a total capacity of 14.74 GiB of which 202.12 MiB is free. Process 13087 has 14.54 GiB memory in use. Of the allocated memory 14.18 GiB is allocated by PyTorch, and 231.47 MiB is reserved by PyTorch but unallocated. If reserved but unallocated memory is large try setting PYTORCH_CUDA_ALLOC_CONF=expandable_segments:True to avoid fragmentation.  See documentation for Memory Management  (https://pytorch.org/docs/stable/notes/cuda.html#environment-variables)",
          "traceback": [
            "\u001b[0;31m---------------------------------------------------------------------------\u001b[0m",
            "\u001b[0;31mOutOfMemoryError\u001b[0m                          Traceback (most recent call last)",
            "\u001b[0;32m/tmp/ipython-input-1473725000.py\u001b[0m in \u001b[0;36m<cell line: 0>\u001b[0;34m()\u001b[0m\n\u001b[1;32m     99\u001b[0m         \u001b[0moptimizer\u001b[0m\u001b[0;34m.\u001b[0m\u001b[0mzero_grad\u001b[0m\u001b[0;34m(\u001b[0m\u001b[0mset_to_none\u001b[0m\u001b[0;34m=\u001b[0m\u001b[0;32mTrue\u001b[0m\u001b[0;34m)\u001b[0m\u001b[0;34m\u001b[0m\u001b[0;34m\u001b[0m\u001b[0m\n\u001b[1;32m    100\u001b[0m         \u001b[0;32mwith\u001b[0m \u001b[0mtorch\u001b[0m\u001b[0;34m.\u001b[0m\u001b[0mcuda\u001b[0m\u001b[0;34m.\u001b[0m\u001b[0mamp\u001b[0m\u001b[0;34m.\u001b[0m\u001b[0mautocast\u001b[0m\u001b[0;34m(\u001b[0m\u001b[0;34m)\u001b[0m\u001b[0;34m:\u001b[0m\u001b[0;34m\u001b[0m\u001b[0;34m\u001b[0m\u001b[0m\n\u001b[0;32m--> 101\u001b[0;31m             \u001b[0mlogits\u001b[0m \u001b[0;34m=\u001b[0m \u001b[0mmodel2\u001b[0m\u001b[0;34m(\u001b[0m\u001b[0mprem\u001b[0m\u001b[0;34m,\u001b[0m \u001b[0mhyp\u001b[0m\u001b[0;34m)\u001b[0m\u001b[0;34m\u001b[0m\u001b[0;34m\u001b[0m\u001b[0m\n\u001b[0m\u001b[1;32m    102\u001b[0m             \u001b[0mloss\u001b[0m \u001b[0;34m=\u001b[0m \u001b[0mcriterion\u001b[0m\u001b[0;34m(\u001b[0m\u001b[0mlogits\u001b[0m\u001b[0;34m,\u001b[0m \u001b[0mlbl\u001b[0m\u001b[0;34m)\u001b[0m\u001b[0;34m\u001b[0m\u001b[0;34m\u001b[0m\u001b[0m\n\u001b[1;32m    103\u001b[0m         \u001b[0mscaler\u001b[0m\u001b[0;34m.\u001b[0m\u001b[0mscale\u001b[0m\u001b[0;34m(\u001b[0m\u001b[0mloss\u001b[0m\u001b[0;34m)\u001b[0m\u001b[0;34m.\u001b[0m\u001b[0mbackward\u001b[0m\u001b[0;34m(\u001b[0m\u001b[0;34m)\u001b[0m\u001b[0;34m\u001b[0m\u001b[0;34m\u001b[0m\u001b[0m\n",
            "\u001b[0;32m/usr/local/lib/python3.12/dist-packages/torch/nn/modules/module.py\u001b[0m in \u001b[0;36m_wrapped_call_impl\u001b[0;34m(self, *args, **kwargs)\u001b[0m\n\u001b[1;32m   1771\u001b[0m             \u001b[0;32mreturn\u001b[0m \u001b[0mself\u001b[0m\u001b[0;34m.\u001b[0m\u001b[0m_compiled_call_impl\u001b[0m\u001b[0;34m(\u001b[0m\u001b[0;34m*\u001b[0m\u001b[0margs\u001b[0m\u001b[0;34m,\u001b[0m \u001b[0;34m**\u001b[0m\u001b[0mkwargs\u001b[0m\u001b[0;34m)\u001b[0m  \u001b[0;31m# type: ignore[misc]\u001b[0m\u001b[0;34m\u001b[0m\u001b[0;34m\u001b[0m\u001b[0m\n\u001b[1;32m   1772\u001b[0m         \u001b[0;32melse\u001b[0m\u001b[0;34m:\u001b[0m\u001b[0;34m\u001b[0m\u001b[0;34m\u001b[0m\u001b[0m\n\u001b[0;32m-> 1773\u001b[0;31m             \u001b[0;32mreturn\u001b[0m \u001b[0mself\u001b[0m\u001b[0;34m.\u001b[0m\u001b[0m_call_impl\u001b[0m\u001b[0;34m(\u001b[0m\u001b[0;34m*\u001b[0m\u001b[0margs\u001b[0m\u001b[0;34m,\u001b[0m \u001b[0;34m**\u001b[0m\u001b[0mkwargs\u001b[0m\u001b[0;34m)\u001b[0m\u001b[0;34m\u001b[0m\u001b[0;34m\u001b[0m\u001b[0m\n\u001b[0m\u001b[1;32m   1774\u001b[0m \u001b[0;34m\u001b[0m\u001b[0m\n\u001b[1;32m   1775\u001b[0m     \u001b[0;31m# torchrec tests the code consistency with the following code\u001b[0m\u001b[0;34m\u001b[0m\u001b[0;34m\u001b[0m\u001b[0m\n",
            "\u001b[0;32m/usr/local/lib/python3.12/dist-packages/torch/nn/modules/module.py\u001b[0m in \u001b[0;36m_call_impl\u001b[0;34m(self, *args, **kwargs)\u001b[0m\n\u001b[1;32m   1782\u001b[0m                 \u001b[0;32mor\u001b[0m \u001b[0m_global_backward_pre_hooks\u001b[0m \u001b[0;32mor\u001b[0m \u001b[0m_global_backward_hooks\u001b[0m\u001b[0;34m\u001b[0m\u001b[0;34m\u001b[0m\u001b[0m\n\u001b[1;32m   1783\u001b[0m                 or _global_forward_hooks or _global_forward_pre_hooks):\n\u001b[0;32m-> 1784\u001b[0;31m             \u001b[0;32mreturn\u001b[0m \u001b[0mforward_call\u001b[0m\u001b[0;34m(\u001b[0m\u001b[0;34m*\u001b[0m\u001b[0margs\u001b[0m\u001b[0;34m,\u001b[0m \u001b[0;34m**\u001b[0m\u001b[0mkwargs\u001b[0m\u001b[0;34m)\u001b[0m\u001b[0;34m\u001b[0m\u001b[0;34m\u001b[0m\u001b[0m\n\u001b[0m\u001b[1;32m   1785\u001b[0m \u001b[0;34m\u001b[0m\u001b[0m\n\u001b[1;32m   1786\u001b[0m         \u001b[0mresult\u001b[0m \u001b[0;34m=\u001b[0m \u001b[0;32mNone\u001b[0m\u001b[0;34m\u001b[0m\u001b[0;34m\u001b[0m\u001b[0m\n",
            "\u001b[0;32m/tmp/ipython-input-1473725000.py\u001b[0m in \u001b[0;36mforward\u001b[0;34m(self, premise, hypothesis)\u001b[0m\n\u001b[1;32m     69\u001b[0m \u001b[0;34m\u001b[0m\u001b[0m\n\u001b[1;32m     70\u001b[0m     \u001b[0;32mdef\u001b[0m \u001b[0mforward\u001b[0m\u001b[0;34m(\u001b[0m\u001b[0mself\u001b[0m\u001b[0;34m,\u001b[0m \u001b[0mpremise\u001b[0m\u001b[0;34m,\u001b[0m \u001b[0mhypothesis\u001b[0m\u001b[0;34m)\u001b[0m\u001b[0;34m:\u001b[0m\u001b[0;34m\u001b[0m\u001b[0;34m\u001b[0m\u001b[0m\n\u001b[0;32m---> 71\u001b[0;31m         \u001b[0mp_vec\u001b[0m \u001b[0;34m=\u001b[0m \u001b[0mself\u001b[0m\u001b[0;34m.\u001b[0m\u001b[0mencode\u001b[0m\u001b[0;34m(\u001b[0m\u001b[0mpremise\u001b[0m\u001b[0;34m)\u001b[0m\u001b[0;34m\u001b[0m\u001b[0;34m\u001b[0m\u001b[0m\n\u001b[0m\u001b[1;32m     72\u001b[0m         \u001b[0mh_vec\u001b[0m \u001b[0;34m=\u001b[0m \u001b[0mself\u001b[0m\u001b[0;34m.\u001b[0m\u001b[0mencode\u001b[0m\u001b[0;34m(\u001b[0m\u001b[0mhypothesis\u001b[0m\u001b[0;34m)\u001b[0m\u001b[0;34m\u001b[0m\u001b[0;34m\u001b[0m\u001b[0m\n\u001b[1;32m     73\u001b[0m         \u001b[0mcombined\u001b[0m \u001b[0;34m=\u001b[0m \u001b[0mtorch\u001b[0m\u001b[0;34m.\u001b[0m\u001b[0mcat\u001b[0m\u001b[0;34m(\u001b[0m\u001b[0;34m[\u001b[0m\u001b[0mp_vec\u001b[0m\u001b[0;34m,\u001b[0m \u001b[0mh_vec\u001b[0m\u001b[0;34m,\u001b[0m \u001b[0mtorch\u001b[0m\u001b[0;34m.\u001b[0m\u001b[0mabs\u001b[0m\u001b[0;34m(\u001b[0m\u001b[0mp_vec\u001b[0m \u001b[0;34m-\u001b[0m \u001b[0mh_vec\u001b[0m\u001b[0;34m)\u001b[0m\u001b[0;34m]\u001b[0m\u001b[0;34m,\u001b[0m \u001b[0mdim\u001b[0m\u001b[0;34m=\u001b[0m\u001b[0;36m1\u001b[0m\u001b[0;34m)\u001b[0m\u001b[0;34m\u001b[0m\u001b[0;34m\u001b[0m\u001b[0m\n",
            "\u001b[0;32m/tmp/ipython-input-1473725000.py\u001b[0m in \u001b[0;36mencode\u001b[0;34m(self, x)\u001b[0m\n\u001b[1;32m     64\u001b[0m \u001b[0;34m\u001b[0m\u001b[0m\n\u001b[1;32m     65\u001b[0m     \u001b[0;32mdef\u001b[0m \u001b[0mencode\u001b[0m\u001b[0;34m(\u001b[0m\u001b[0mself\u001b[0m\u001b[0;34m,\u001b[0m \u001b[0mx\u001b[0m\u001b[0;34m)\u001b[0m\u001b[0;34m:\u001b[0m\u001b[0;34m\u001b[0m\u001b[0;34m\u001b[0m\u001b[0m\n\u001b[0;32m---> 66\u001b[0;31m         \u001b[0mH\u001b[0m\u001b[0;34m,\u001b[0m \u001b[0m_\u001b[0m \u001b[0;34m=\u001b[0m \u001b[0mself\u001b[0m\u001b[0;34m.\u001b[0m\u001b[0mbilstm\u001b[0m\u001b[0;34m(\u001b[0m\u001b[0mself\u001b[0m\u001b[0;34m.\u001b[0m\u001b[0membedding\u001b[0m\u001b[0;34m(\u001b[0m\u001b[0mx\u001b[0m\u001b[0;34m)\u001b[0m\u001b[0;34m)\u001b[0m\u001b[0;34m\u001b[0m\u001b[0;34m\u001b[0m\u001b[0m\n\u001b[0m\u001b[1;32m     67\u001b[0m         \u001b[0mctx\u001b[0m\u001b[0;34m,\u001b[0m \u001b[0m_\u001b[0m \u001b[0;34m=\u001b[0m \u001b[0mself\u001b[0m\u001b[0;34m.\u001b[0m\u001b[0mattn\u001b[0m\u001b[0;34m(\u001b[0m\u001b[0mH\u001b[0m\u001b[0;34m)\u001b[0m\u001b[0;34m\u001b[0m\u001b[0;34m\u001b[0m\u001b[0m\n\u001b[1;32m     68\u001b[0m         \u001b[0;32mreturn\u001b[0m \u001b[0mctx\u001b[0m\u001b[0;34m\u001b[0m\u001b[0;34m\u001b[0m\u001b[0m\n",
            "\u001b[0;32m/usr/local/lib/python3.12/dist-packages/torch/nn/modules/module.py\u001b[0m in \u001b[0;36m_wrapped_call_impl\u001b[0;34m(self, *args, **kwargs)\u001b[0m\n\u001b[1;32m   1771\u001b[0m             \u001b[0;32mreturn\u001b[0m \u001b[0mself\u001b[0m\u001b[0;34m.\u001b[0m\u001b[0m_compiled_call_impl\u001b[0m\u001b[0;34m(\u001b[0m\u001b[0;34m*\u001b[0m\u001b[0margs\u001b[0m\u001b[0;34m,\u001b[0m \u001b[0;34m**\u001b[0m\u001b[0mkwargs\u001b[0m\u001b[0;34m)\u001b[0m  \u001b[0;31m# type: ignore[misc]\u001b[0m\u001b[0;34m\u001b[0m\u001b[0;34m\u001b[0m\u001b[0m\n\u001b[1;32m   1772\u001b[0m         \u001b[0;32melse\u001b[0m\u001b[0;34m:\u001b[0m\u001b[0;34m\u001b[0m\u001b[0;34m\u001b[0m\u001b[0m\n\u001b[0;32m-> 1773\u001b[0;31m             \u001b[0;32mreturn\u001b[0m \u001b[0mself\u001b[0m\u001b[0;34m.\u001b[0m\u001b[0m_call_impl\u001b[0m\u001b[0;34m(\u001b[0m\u001b[0;34m*\u001b[0m\u001b[0margs\u001b[0m\u001b[0;34m,\u001b[0m \u001b[0;34m**\u001b[0m\u001b[0mkwargs\u001b[0m\u001b[0;34m)\u001b[0m\u001b[0;34m\u001b[0m\u001b[0;34m\u001b[0m\u001b[0m\n\u001b[0m\u001b[1;32m   1774\u001b[0m \u001b[0;34m\u001b[0m\u001b[0m\n\u001b[1;32m   1775\u001b[0m     \u001b[0;31m# torchrec tests the code consistency with the following code\u001b[0m\u001b[0;34m\u001b[0m\u001b[0;34m\u001b[0m\u001b[0m\n",
            "\u001b[0;32m/usr/local/lib/python3.12/dist-packages/torch/nn/modules/module.py\u001b[0m in \u001b[0;36m_call_impl\u001b[0;34m(self, *args, **kwargs)\u001b[0m\n\u001b[1;32m   1782\u001b[0m                 \u001b[0;32mor\u001b[0m \u001b[0m_global_backward_pre_hooks\u001b[0m \u001b[0;32mor\u001b[0m \u001b[0m_global_backward_hooks\u001b[0m\u001b[0;34m\u001b[0m\u001b[0;34m\u001b[0m\u001b[0m\n\u001b[1;32m   1783\u001b[0m                 or _global_forward_hooks or _global_forward_pre_hooks):\n\u001b[0;32m-> 1784\u001b[0;31m             \u001b[0;32mreturn\u001b[0m \u001b[0mforward_call\u001b[0m\u001b[0;34m(\u001b[0m\u001b[0;34m*\u001b[0m\u001b[0margs\u001b[0m\u001b[0;34m,\u001b[0m \u001b[0;34m**\u001b[0m\u001b[0mkwargs\u001b[0m\u001b[0;34m)\u001b[0m\u001b[0;34m\u001b[0m\u001b[0;34m\u001b[0m\u001b[0m\n\u001b[0m\u001b[1;32m   1785\u001b[0m \u001b[0;34m\u001b[0m\u001b[0m\n\u001b[1;32m   1786\u001b[0m         \u001b[0mresult\u001b[0m \u001b[0;34m=\u001b[0m \u001b[0;32mNone\u001b[0m\u001b[0;34m\u001b[0m\u001b[0;34m\u001b[0m\u001b[0m\n",
            "\u001b[0;32m/usr/local/lib/python3.12/dist-packages/torch/nn/modules/rnn.py\u001b[0m in \u001b[0;36mforward\u001b[0;34m(self, input, hx)\u001b[0m\n\u001b[1;32m   1122\u001b[0m \u001b[0;34m\u001b[0m\u001b[0m\n\u001b[1;32m   1123\u001b[0m         \u001b[0;32mif\u001b[0m \u001b[0mbatch_sizes\u001b[0m \u001b[0;32mis\u001b[0m \u001b[0;32mNone\u001b[0m\u001b[0;34m:\u001b[0m\u001b[0;34m\u001b[0m\u001b[0;34m\u001b[0m\u001b[0m\n\u001b[0;32m-> 1124\u001b[0;31m             result = _VF.lstm(\n\u001b[0m\u001b[1;32m   1125\u001b[0m                 \u001b[0minput\u001b[0m\u001b[0;34m,\u001b[0m\u001b[0;34m\u001b[0m\u001b[0;34m\u001b[0m\u001b[0m\n\u001b[1;32m   1126\u001b[0m                 \u001b[0mhx\u001b[0m\u001b[0;34m,\u001b[0m\u001b[0;34m\u001b[0m\u001b[0;34m\u001b[0m\u001b[0m\n",
            "\u001b[0;31mOutOfMemoryError\u001b[0m: CUDA out of memory. Tried to allocate 826.00 MiB. GPU 0 has a total capacity of 14.74 GiB of which 202.12 MiB is free. Process 13087 has 14.54 GiB memory in use. Of the allocated memory 14.18 GiB is allocated by PyTorch, and 231.47 MiB is reserved by PyTorch but unallocated. If reserved but unallocated memory is large try setting PYTORCH_CUDA_ALLOC_CONF=expandable_segments:True to avoid fragmentation.  See documentation for Memory Management  (https://pytorch.org/docs/stable/notes/cuda.html#environment-variables)"
          ]
        }
      ]
    }
  ]
}