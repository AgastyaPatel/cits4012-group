{
  "nbformat": 4,
  "nbformat_minor": 0,
  "metadata": {
    "colab": {
      "provenance": [],
      "gpuType": "T4"
    },
    "kernelspec": {
      "name": "python3",
      "display_name": "Python 3"
    },
    "language_info": {
      "name": "python"
    },
    "accelerator": "GPU"
  },
  "cells": [
    {
      "cell_type": "code",
      "source": [
        "from google.colab import drive\n",
        "drive.mount('/content/drive')"
      ],
      "metadata": {
        "colab": {
          "base_uri": "https://localhost:8080/"
        },
        "id": "LEeFJjebhl7P",
        "outputId": "7be65e32-7ae8-4a67-87de-c9f7e4ded95c"
      },
      "execution_count": 1,
      "outputs": [
        {
          "output_type": "stream",
          "name": "stdout",
          "text": [
            "Drive already mounted at /content/drive; to attempt to forcibly remount, call drive.mount(\"/content/drive\", force_remount=True).\n"
          ]
        }
      ]
    },
    {
      "cell_type": "code",
      "source": [
        "%cd /content/drive/MyDrive/UNI PROJECTS/CITS4012_Project/"
      ],
      "metadata": {
        "colab": {
          "base_uri": "https://localhost:8080/"
        },
        "id": "lngxrBM_mx94",
        "outputId": "e87f402e-498a-499c-e95c-756d20b5d8cd"
      },
      "execution_count": 2,
      "outputs": [
        {
          "output_type": "stream",
          "name": "stdout",
          "text": [
            "/content/drive/MyDrive/UNI PROJECTS/CITS4012_Project\n"
          ]
        }
      ]
    },
    {
      "cell_type": "code",
      "source": [
        "!mkdir -p data models results utils"
      ],
      "metadata": {
        "id": "xC5BgUx_q2oB"
      },
      "execution_count": 3,
      "outputs": []
    },
    {
      "cell_type": "code",
      "execution_count": 4,
      "metadata": {
        "colab": {
          "base_uri": "https://localhost:8080/"
        },
        "id": "oizMRXSz1mAy",
        "outputId": "087ebe55-4d6d-4e79-d280-ce0641f70360"
      },
      "outputs": [
        {
          "output_type": "stream",
          "name": "stderr",
          "text": [
            "[nltk_data] Downloading package punkt to /root/nltk_data...\n",
            "[nltk_data]   Package punkt is already up-to-date!\n",
            "[nltk_data] Downloading package wordnet to /root/nltk_data...\n",
            "[nltk_data]   Package wordnet is already up-to-date!\n",
            "[nltk_data] Downloading collection 'all'\n",
            "[nltk_data]    | \n",
            "[nltk_data]    | Downloading package abc to /root/nltk_data...\n",
            "[nltk_data]    |   Package abc is already up-to-date!\n",
            "[nltk_data]    | Downloading package alpino to /root/nltk_data...\n",
            "[nltk_data]    |   Package alpino is already up-to-date!\n",
            "[nltk_data]    | Downloading package averaged_perceptron_tagger to\n",
            "[nltk_data]    |     /root/nltk_data...\n",
            "[nltk_data]    |   Package averaged_perceptron_tagger is already up-\n",
            "[nltk_data]    |       to-date!\n",
            "[nltk_data]    | Downloading package averaged_perceptron_tagger_eng to\n",
            "[nltk_data]    |     /root/nltk_data...\n",
            "[nltk_data]    |   Package averaged_perceptron_tagger_eng is already\n",
            "[nltk_data]    |       up-to-date!\n",
            "[nltk_data]    | Downloading package averaged_perceptron_tagger_ru to\n",
            "[nltk_data]    |     /root/nltk_data...\n",
            "[nltk_data]    |   Package averaged_perceptron_tagger_ru is already\n",
            "[nltk_data]    |       up-to-date!\n",
            "[nltk_data]    | Downloading package averaged_perceptron_tagger_rus to\n",
            "[nltk_data]    |     /root/nltk_data...\n",
            "[nltk_data]    |   Package averaged_perceptron_tagger_rus is already\n",
            "[nltk_data]    |       up-to-date!\n",
            "[nltk_data]    | Downloading package basque_grammars to\n",
            "[nltk_data]    |     /root/nltk_data...\n",
            "[nltk_data]    |   Package basque_grammars is already up-to-date!\n",
            "[nltk_data]    | Downloading package bcp47 to /root/nltk_data...\n",
            "[nltk_data]    |   Package bcp47 is already up-to-date!\n",
            "[nltk_data]    | Downloading package biocreative_ppi to\n",
            "[nltk_data]    |     /root/nltk_data...\n",
            "[nltk_data]    |   Package biocreative_ppi is already up-to-date!\n",
            "[nltk_data]    | Downloading package bllip_wsj_no_aux to\n",
            "[nltk_data]    |     /root/nltk_data...\n",
            "[nltk_data]    |   Package bllip_wsj_no_aux is already up-to-date!\n",
            "[nltk_data]    | Downloading package book_grammars to\n",
            "[nltk_data]    |     /root/nltk_data...\n",
            "[nltk_data]    |   Package book_grammars is already up-to-date!\n",
            "[nltk_data]    | Downloading package brown to /root/nltk_data...\n",
            "[nltk_data]    |   Package brown is already up-to-date!\n",
            "[nltk_data]    | Downloading package brown_tei to /root/nltk_data...\n",
            "[nltk_data]    |   Package brown_tei is already up-to-date!\n",
            "[nltk_data]    | Downloading package cess_cat to /root/nltk_data...\n",
            "[nltk_data]    |   Package cess_cat is already up-to-date!\n",
            "[nltk_data]    | Downloading package cess_esp to /root/nltk_data...\n",
            "[nltk_data]    |   Package cess_esp is already up-to-date!\n",
            "[nltk_data]    | Downloading package chat80 to /root/nltk_data...\n",
            "[nltk_data]    |   Package chat80 is already up-to-date!\n",
            "[nltk_data]    | Downloading package city_database to\n",
            "[nltk_data]    |     /root/nltk_data...\n",
            "[nltk_data]    |   Package city_database is already up-to-date!\n",
            "[nltk_data]    | Downloading package cmudict to /root/nltk_data...\n",
            "[nltk_data]    |   Package cmudict is already up-to-date!\n",
            "[nltk_data]    | Downloading package comparative_sentences to\n",
            "[nltk_data]    |     /root/nltk_data...\n",
            "[nltk_data]    |   Package comparative_sentences is already up-to-\n",
            "[nltk_data]    |       date!\n",
            "[nltk_data]    | Downloading package comtrans to /root/nltk_data...\n",
            "[nltk_data]    |   Package comtrans is already up-to-date!\n",
            "[nltk_data]    | Downloading package conll2000 to /root/nltk_data...\n",
            "[nltk_data]    |   Package conll2000 is already up-to-date!\n",
            "[nltk_data]    | Downloading package conll2002 to /root/nltk_data...\n",
            "[nltk_data]    |   Package conll2002 is already up-to-date!\n",
            "[nltk_data]    | Downloading package conll2007 to /root/nltk_data...\n",
            "[nltk_data]    |   Package conll2007 is already up-to-date!\n",
            "[nltk_data]    | Downloading package crubadan to /root/nltk_data...\n",
            "[nltk_data]    |   Package crubadan is already up-to-date!\n",
            "[nltk_data]    | Downloading package dependency_treebank to\n",
            "[nltk_data]    |     /root/nltk_data...\n",
            "[nltk_data]    |   Package dependency_treebank is already up-to-date!\n",
            "[nltk_data]    | Downloading package dolch to /root/nltk_data...\n",
            "[nltk_data]    |   Package dolch is already up-to-date!\n",
            "[nltk_data]    | Downloading package english_wordnet to\n",
            "[nltk_data]    |     /root/nltk_data...\n",
            "[nltk_data]    |   Package english_wordnet is already up-to-date!\n",
            "[nltk_data]    | Downloading package europarl_raw to\n",
            "[nltk_data]    |     /root/nltk_data...\n",
            "[nltk_data]    |   Package europarl_raw is already up-to-date!\n",
            "[nltk_data]    | Downloading package extended_omw to\n",
            "[nltk_data]    |     /root/nltk_data...\n",
            "[nltk_data]    |   Package extended_omw is already up-to-date!\n",
            "[nltk_data]    | Downloading package floresta to /root/nltk_data...\n",
            "[nltk_data]    |   Package floresta is already up-to-date!\n",
            "[nltk_data]    | Downloading package framenet_v15 to\n",
            "[nltk_data]    |     /root/nltk_data...\n",
            "[nltk_data]    |   Package framenet_v15 is already up-to-date!\n",
            "[nltk_data]    | Downloading package framenet_v17 to\n",
            "[nltk_data]    |     /root/nltk_data...\n",
            "[nltk_data]    |   Package framenet_v17 is already up-to-date!\n",
            "[nltk_data]    | Downloading package gazetteers to /root/nltk_data...\n",
            "[nltk_data]    |   Package gazetteers is already up-to-date!\n",
            "[nltk_data]    | Downloading package genesis to /root/nltk_data...\n",
            "[nltk_data]    |   Package genesis is already up-to-date!\n",
            "[nltk_data]    | Downloading package gutenberg to /root/nltk_data...\n",
            "[nltk_data]    |   Package gutenberg is already up-to-date!\n",
            "[nltk_data]    | Downloading package ieer to /root/nltk_data...\n",
            "[nltk_data]    |   Package ieer is already up-to-date!\n",
            "[nltk_data]    | Downloading package inaugural to /root/nltk_data...\n",
            "[nltk_data]    |   Package inaugural is already up-to-date!\n",
            "[nltk_data]    | Downloading package indian to /root/nltk_data...\n",
            "[nltk_data]    |   Package indian is already up-to-date!\n",
            "[nltk_data]    | Downloading package jeita to /root/nltk_data...\n",
            "[nltk_data]    |   Package jeita is already up-to-date!\n",
            "[nltk_data]    | Downloading package kimmo to /root/nltk_data...\n",
            "[nltk_data]    |   Package kimmo is already up-to-date!\n",
            "[nltk_data]    | Downloading package knbc to /root/nltk_data...\n",
            "[nltk_data]    |   Package knbc is already up-to-date!\n",
            "[nltk_data]    | Downloading package large_grammars to\n",
            "[nltk_data]    |     /root/nltk_data...\n",
            "[nltk_data]    |   Package large_grammars is already up-to-date!\n",
            "[nltk_data]    | Downloading package lin_thesaurus to\n",
            "[nltk_data]    |     /root/nltk_data...\n",
            "[nltk_data]    |   Unzipping corpora/lin_thesaurus.zip.\n",
            "[nltk_data]    | Downloading package mac_morpho to /root/nltk_data...\n",
            "[nltk_data]    |   Unzipping corpora/mac_morpho.zip.\n",
            "[nltk_data]    | Downloading package machado to /root/nltk_data...\n",
            "[nltk_data]    | Downloading package masc_tagged to /root/nltk_data...\n",
            "[nltk_data]    | Downloading package maxent_ne_chunker to\n",
            "[nltk_data]    |     /root/nltk_data...\n",
            "[nltk_data]    |   Unzipping chunkers/maxent_ne_chunker.zip.\n",
            "[nltk_data]    | Downloading package maxent_ne_chunker_tab to\n",
            "[nltk_data]    |     /root/nltk_data...\n",
            "[nltk_data]    |   Unzipping chunkers/maxent_ne_chunker_tab.zip.\n",
            "[nltk_data]    | Downloading package maxent_treebank_pos_tagger to\n",
            "[nltk_data]    |     /root/nltk_data...\n",
            "[nltk_data]    |   Unzipping taggers/maxent_treebank_pos_tagger.zip.\n",
            "[nltk_data]    | Downloading package maxent_treebank_pos_tagger_tab to\n",
            "[nltk_data]    |     /root/nltk_data...\n",
            "[nltk_data]    |   Unzipping\n",
            "[nltk_data]    |       taggers/maxent_treebank_pos_tagger_tab.zip.\n",
            "[nltk_data]    | Downloading package mock_corpus to /root/nltk_data...\n",
            "[nltk_data]    |   Unzipping corpora/mock_corpus.zip.\n",
            "[nltk_data]    | Downloading package moses_sample to\n",
            "[nltk_data]    |     /root/nltk_data...\n",
            "[nltk_data]    |   Unzipping models/moses_sample.zip.\n",
            "[nltk_data]    | Downloading package movie_reviews to\n",
            "[nltk_data]    |     /root/nltk_data...\n",
            "[nltk_data]    |   Unzipping corpora/movie_reviews.zip.\n",
            "[nltk_data]    | Downloading package mte_teip5 to /root/nltk_data...\n",
            "[nltk_data]    |   Unzipping corpora/mte_teip5.zip.\n",
            "[nltk_data]    | Downloading package mwa_ppdb to /root/nltk_data...\n",
            "[nltk_data]    |   Unzipping misc/mwa_ppdb.zip.\n",
            "[nltk_data]    | Downloading package names to /root/nltk_data...\n",
            "[nltk_data]    |   Unzipping corpora/names.zip.\n",
            "[nltk_data]    | Downloading package nombank.1.0 to /root/nltk_data...\n",
            "[nltk_data]    | Downloading package nonbreaking_prefixes to\n",
            "[nltk_data]    |     /root/nltk_data...\n",
            "[nltk_data]    |   Unzipping corpora/nonbreaking_prefixes.zip.\n",
            "[nltk_data]    | Downloading package nps_chat to /root/nltk_data...\n",
            "[nltk_data]    |   Unzipping corpora/nps_chat.zip.\n",
            "[nltk_data]    | Downloading package omw to /root/nltk_data...\n",
            "[nltk_data]    | Downloading package omw-1.4 to /root/nltk_data...\n",
            "[nltk_data]    | Downloading package opinion_lexicon to\n",
            "[nltk_data]    |     /root/nltk_data...\n",
            "[nltk_data]    |   Unzipping corpora/opinion_lexicon.zip.\n",
            "[nltk_data]    | Downloading package panlex_swadesh to\n",
            "[nltk_data]    |     /root/nltk_data...\n",
            "[nltk_data]    | Downloading package paradigms to /root/nltk_data...\n",
            "[nltk_data]    |   Unzipping corpora/paradigms.zip.\n",
            "[nltk_data]    | Downloading package pe08 to /root/nltk_data...\n",
            "[nltk_data]    |   Unzipping corpora/pe08.zip.\n",
            "[nltk_data]    | Downloading package perluniprops to\n",
            "[nltk_data]    |     /root/nltk_data...\n",
            "[nltk_data]    |   Unzipping misc/perluniprops.zip.\n",
            "[nltk_data]    | Downloading package pil to /root/nltk_data...\n",
            "[nltk_data]    |   Unzipping corpora/pil.zip.\n",
            "[nltk_data]    | Downloading package pl196x to /root/nltk_data...\n",
            "[nltk_data]    |   Unzipping corpora/pl196x.zip.\n",
            "[nltk_data]    | Downloading package porter_test to /root/nltk_data...\n",
            "[nltk_data]    |   Unzipping stemmers/porter_test.zip.\n",
            "[nltk_data]    | Downloading package ppattach to /root/nltk_data...\n",
            "[nltk_data]    |   Unzipping corpora/ppattach.zip.\n",
            "[nltk_data]    | Downloading package problem_reports to\n",
            "[nltk_data]    |     /root/nltk_data...\n",
            "[nltk_data]    |   Unzipping corpora/problem_reports.zip.\n",
            "[nltk_data]    | Downloading package product_reviews_1 to\n",
            "[nltk_data]    |     /root/nltk_data...\n",
            "[nltk_data]    |   Unzipping corpora/product_reviews_1.zip.\n",
            "[nltk_data]    | Downloading package product_reviews_2 to\n",
            "[nltk_data]    |     /root/nltk_data...\n",
            "[nltk_data]    |   Unzipping corpora/product_reviews_2.zip.\n",
            "[nltk_data]    | Downloading package propbank to /root/nltk_data...\n",
            "[nltk_data]    | Downloading package pros_cons to /root/nltk_data...\n",
            "[nltk_data]    |   Unzipping corpora/pros_cons.zip.\n",
            "[nltk_data]    | Downloading package ptb to /root/nltk_data...\n",
            "[nltk_data]    |   Unzipping corpora/ptb.zip.\n",
            "[nltk_data]    | Downloading package punkt to /root/nltk_data...\n",
            "[nltk_data]    |   Package punkt is already up-to-date!\n",
            "[nltk_data]    | Downloading package punkt_tab to /root/nltk_data...\n",
            "[nltk_data]    |   Unzipping tokenizers/punkt_tab.zip.\n",
            "[nltk_data]    | Downloading package qc to /root/nltk_data...\n",
            "[nltk_data]    |   Unzipping corpora/qc.zip.\n",
            "[nltk_data]    | Downloading package reuters to /root/nltk_data...\n",
            "[nltk_data]    | Downloading package rslp to /root/nltk_data...\n",
            "[nltk_data]    |   Unzipping stemmers/rslp.zip.\n",
            "[nltk_data]    | Downloading package rte to /root/nltk_data...\n",
            "[nltk_data]    |   Unzipping corpora/rte.zip.\n",
            "[nltk_data]    | Downloading package sample_grammars to\n",
            "[nltk_data]    |     /root/nltk_data...\n",
            "[nltk_data]    |   Unzipping grammars/sample_grammars.zip.\n",
            "[nltk_data]    | Downloading package semcor to /root/nltk_data...\n",
            "[nltk_data]    | Downloading package senseval to /root/nltk_data...\n",
            "[nltk_data]    |   Unzipping corpora/senseval.zip.\n",
            "[nltk_data]    | Downloading package sentence_polarity to\n",
            "[nltk_data]    |     /root/nltk_data...\n",
            "[nltk_data]    |   Unzipping corpora/sentence_polarity.zip.\n",
            "[nltk_data]    | Downloading package sentiwordnet to\n",
            "[nltk_data]    |     /root/nltk_data...\n",
            "[nltk_data]    |   Unzipping corpora/sentiwordnet.zip.\n",
            "[nltk_data]    | Downloading package shakespeare to /root/nltk_data...\n",
            "[nltk_data]    |   Unzipping corpora/shakespeare.zip.\n",
            "[nltk_data]    | Downloading package sinica_treebank to\n",
            "[nltk_data]    |     /root/nltk_data...\n",
            "[nltk_data]    |   Unzipping corpora/sinica_treebank.zip.\n",
            "[nltk_data]    | Downloading package smultron to /root/nltk_data...\n",
            "[nltk_data]    |   Unzipping corpora/smultron.zip.\n",
            "[nltk_data]    | Downloading package snowball_data to\n",
            "[nltk_data]    |     /root/nltk_data...\n",
            "[nltk_data]    | Downloading package spanish_grammars to\n",
            "[nltk_data]    |     /root/nltk_data...\n",
            "[nltk_data]    |   Unzipping grammars/spanish_grammars.zip.\n",
            "[nltk_data]    | Downloading package state_union to /root/nltk_data...\n",
            "[nltk_data]    |   Unzipping corpora/state_union.zip.\n",
            "[nltk_data]    | Downloading package stopwords to /root/nltk_data...\n",
            "[nltk_data]    |   Unzipping corpora/stopwords.zip.\n",
            "[nltk_data]    | Downloading package subjectivity to\n",
            "[nltk_data]    |     /root/nltk_data...\n",
            "[nltk_data]    |   Unzipping corpora/subjectivity.zip.\n",
            "[nltk_data]    | Downloading package swadesh to /root/nltk_data...\n",
            "[nltk_data]    |   Unzipping corpora/swadesh.zip.\n",
            "[nltk_data]    | Downloading package switchboard to /root/nltk_data...\n",
            "[nltk_data]    |   Unzipping corpora/switchboard.zip.\n",
            "[nltk_data]    | Downloading package tagsets to /root/nltk_data...\n",
            "[nltk_data]    |   Unzipping help/tagsets.zip.\n",
            "[nltk_data]    | Downloading package tagsets_json to\n",
            "[nltk_data]    |     /root/nltk_data...\n",
            "[nltk_data]    |   Unzipping help/tagsets_json.zip.\n",
            "[nltk_data]    | Downloading package timit to /root/nltk_data...\n",
            "[nltk_data]    |   Unzipping corpora/timit.zip.\n",
            "[nltk_data]    | Downloading package toolbox to /root/nltk_data...\n",
            "[nltk_data]    |   Unzipping corpora/toolbox.zip.\n",
            "[nltk_data]    | Downloading package treebank to /root/nltk_data...\n",
            "[nltk_data]    |   Unzipping corpora/treebank.zip.\n",
            "[nltk_data]    | Downloading package twitter_samples to\n",
            "[nltk_data]    |     /root/nltk_data...\n",
            "[nltk_data]    |   Unzipping corpora/twitter_samples.zip.\n",
            "[nltk_data]    | Downloading package udhr to /root/nltk_data...\n",
            "[nltk_data]    |   Unzipping corpora/udhr.zip.\n",
            "[nltk_data]    | Downloading package udhr2 to /root/nltk_data...\n",
            "[nltk_data]    |   Unzipping corpora/udhr2.zip.\n",
            "[nltk_data]    | Downloading package unicode_samples to\n",
            "[nltk_data]    |     /root/nltk_data...\n",
            "[nltk_data]    |   Unzipping corpora/unicode_samples.zip.\n",
            "[nltk_data]    | Downloading package universal_tagset to\n",
            "[nltk_data]    |     /root/nltk_data...\n",
            "[nltk_data]    |   Unzipping taggers/universal_tagset.zip.\n",
            "[nltk_data]    | Downloading package universal_treebanks_v20 to\n",
            "[nltk_data]    |     /root/nltk_data...\n",
            "[nltk_data]    | Downloading package vader_lexicon to\n",
            "[nltk_data]    |     /root/nltk_data...\n",
            "[nltk_data]    | Downloading package verbnet to /root/nltk_data...\n",
            "[nltk_data]    |   Unzipping corpora/verbnet.zip.\n",
            "[nltk_data]    | Downloading package verbnet3 to /root/nltk_data...\n",
            "[nltk_data]    |   Unzipping corpora/verbnet3.zip.\n",
            "[nltk_data]    | Downloading package webtext to /root/nltk_data...\n",
            "[nltk_data]    |   Unzipping corpora/webtext.zip.\n",
            "[nltk_data]    | Downloading package wmt15_eval to /root/nltk_data...\n",
            "[nltk_data]    |   Unzipping models/wmt15_eval.zip.\n",
            "[nltk_data]    | Downloading package word2vec_sample to\n",
            "[nltk_data]    |     /root/nltk_data...\n",
            "[nltk_data]    |   Unzipping models/word2vec_sample.zip.\n",
            "[nltk_data]    | Downloading package wordnet to /root/nltk_data...\n",
            "[nltk_data]    |   Package wordnet is already up-to-date!\n",
            "[nltk_data]    | Downloading package wordnet2021 to /root/nltk_data...\n",
            "[nltk_data]    | Downloading package wordnet2022 to /root/nltk_data...\n",
            "[nltk_data]    |   Unzipping corpora/wordnet2022.zip.\n",
            "[nltk_data]    | Downloading package wordnet31 to /root/nltk_data...\n",
            "[nltk_data]    | Downloading package wordnet_ic to /root/nltk_data...\n",
            "[nltk_data]    |   Unzipping corpora/wordnet_ic.zip.\n",
            "[nltk_data]    | Downloading package words to /root/nltk_data...\n",
            "[nltk_data]    |   Unzipping corpora/words.zip.\n",
            "[nltk_data]    | Downloading package ycoe to /root/nltk_data...\n",
            "[nltk_data]    |   Unzipping corpora/ycoe.zip.\n",
            "[nltk_data]    | \n",
            "[nltk_data]  Done downloading collection all\n"
          ]
        }
      ],
      "source": [
        "import json\n",
        "import pandas as pd\n",
        "import re\n",
        "import nltk\n",
        "import matplotlib.pyplot as plt\n",
        "from collections import Counter\n",
        "\n",
        "\n",
        "nltk.download(\"punkt\")\n",
        "nltk.download(\"wordnet\")\n",
        "nltk.download(\"all\")\n",
        "from nltk.tokenize import word_tokenize\n",
        "from nltk.stem import WordNetLemmatizer"
      ]
    },
    {
      "cell_type": "code",
      "source": [
        "# --- Step 1: Load dataset ---\n",
        "with open(\"data/train_formatted.json\", \"r\") as f:\n",
        "    data = json.load(f)\n",
        "\n",
        "# If it's a list of dicts with premise/hypothesis/label\n",
        "df = pd.DataFrame(data)\n",
        "\n",
        "print(\"Sample rows:\")\n",
        "print(df.head())\n",
        "\n",
        "# --- Step 2: Handle missing data ---\n",
        "print(\"\\nMissing values:\")\n",
        "print(df.isnull().sum())\n",
        "df = df.dropna()\n",
        "\n",
        "# --- Step 3: Remove duplicates ---\n",
        "before = len(df)\n",
        "df = df.drop_duplicates()\n",
        "after = len(df)\n",
        "print(f\"\\nRemoved {before - after} duplicate rows.\")\n",
        "\n",
        "# --- Step 4: Normalisation ---\n",
        "def normalize_text(text):\n",
        "    text = text.lower()\n",
        "    text = re.sub(r\"[^a-z0-9\\s]\", \"\", text)  # remove punctuation\n",
        "    text = re.sub(r\"\\s+\", \" \", text).strip()\n",
        "    return text\n",
        "\n",
        "df[\"premise\"] = df[\"premise\"].apply(normalize_text)\n",
        "df[\"hypothesis\"] = df[\"hypothesis\"].apply(normalize_text)\n",
        "\n",
        "# --- Step 5: Tokenisation + Lemmatization ---\n",
        "lemmatizer = WordNetLemmatizer()\n",
        "\n",
        "def tokenize_and_lemmatize(text):\n",
        "    tokens = word_tokenize(text, language='english') # Added language='english'\n",
        "    lemmas = [lemmatizer.lemmatize(tok) for tok in tokens]\n",
        "    return lemmas\n",
        "\n",
        "df[\"premise_tokens\"] = df[\"premise\"].apply(tokenize_and_lemmatize)\n",
        "df[\"hypothesis_tokens\"] = df[\"hypothesis\"].apply(tokenize_and_lemmatize)\n",
        "\n",
        "print(\"\\nTokenised example:\")\n",
        "print(df[[\"premise_tokens\", \"hypothesis_tokens\"]].head(1))\n",
        "\n",
        "# --- Step 6: Class balance ---\n",
        "label_counts = df[\"label\"].value_counts()\n",
        "print(\"\\nClass distribution:\")\n",
        "print(label_counts)\n",
        "\n",
        "label_counts.plot(kind=\"bar\", title=\"Class Balance\")\n",
        "plt.show()\n",
        "\n",
        "# --- Step 7: Sentence length distribution ---\n",
        "premise_lens = df[\"premise_tokens\"].apply(len)\n",
        "hypothesis_lens = df[\"hypothesis_tokens\"].apply(len)\n",
        "\n",
        "plt.hist(premise_lens, bins=50, alpha=0.7, label=\"Premise\")\n",
        "plt.hist(hypothesis_lens, bins=50, alpha=0.7, label=\"Hypothesis\")\n",
        "plt.legend()\n",
        "plt.title(\"Sentence Length Distribution\")\n",
        "plt.xlabel(\"Token count\")\n",
        "plt.ylabel(\"Frequency\")\n",
        "plt.show()"
      ],
      "metadata": {
        "colab": {
          "base_uri": "https://localhost:8080/",
          "height": 1000
        },
        "id": "lH668zHr2cOe",
        "outputId": "7586415d-8f3f-49d7-e626-cd31ad4efaf9"
      },
      "execution_count": 5,
      "outputs": [
        {
          "output_type": "stream",
          "name": "stdout",
          "text": [
            "Sample rows:\n",
            "                                             premise  \\\n",
            "0  Pluto rotates once on its axis every 6.39 Eart...   \n",
            "1  ---Glenn =====================================...   \n",
            "2  geysers - periodic gush of hot water at the su...   \n",
            "3  Facts: Liquid water droplets can be changed in...   \n",
            "4  By comparison, the earth rotates on its axis o...   \n",
            "\n",
            "                                          hypothesis    label  \n",
            "0   Earth rotates on its axis once times in one day.  neutral  \n",
            "1   Earth rotates on its axis once times in one day.  entails  \n",
            "2  The surface of the sun is much hotter than alm...  neutral  \n",
            "3  Evaporation is responsible for changing liquid...  entails  \n",
            "4   Earth rotates on its axis once times in one day.  entails  \n",
            "\n",
            "Missing values:\n",
            "premise       0\n",
            "hypothesis    0\n",
            "label         0\n",
            "dtype: int64\n",
            "\n",
            "Removed 20 duplicate rows.\n",
            "\n",
            "Tokenised example:\n",
            "                                      premise_tokens  \\\n",
            "0  [pluto, rotates, once, on, it, axis, every, 63...   \n",
            "\n",
            "                                   hypothesis_tokens  \n",
            "0  [earth, rotates, on, it, axis, once, time, in,...  \n",
            "\n",
            "Class distribution:\n",
            "label\n",
            "neutral    14600\n",
            "entails     8468\n",
            "Name: count, dtype: int64\n"
          ]
        },
        {
          "output_type": "display_data",
          "data": {
            "text/plain": [
              "<Figure size 640x480 with 1 Axes>"
            ],
            "image/png": "[encoded data removed]"
          },
          "metadata": {}
        },
        {
          "output_type": "display_data",
          "data": {
            "text/plain": [
              "<Figure size 640x480 with 1 Axes>"
            ],
            "image/png": "[encoded data removed]"
          },
          "metadata": {}
        }
      ]
    },
    {
      "cell_type": "markdown",
      "source": [
        "Step 1 – Build Vocabulary"
      ],
      "metadata": {
        "id": "YejgGfrVyRwp"
      }
    },
    {
      "cell_type": "code",
      "source": [
        "from collections import defaultdict\n",
        "import torch\n",
        "from torch.utils.data import Dataset, DataLoader\n",
        "from torch.nn.utils.rnn import pad_sequence\n",
        "\n",
        "# Combine all tokens from both premise and hypothesis\n",
        "all_tokens = [tok for toks in df[\"premise_tokens\"] for tok in toks] + \\\n",
        "             [tok for toks in df[\"hypothesis_tokens\"] for tok in toks]\n",
        "\n",
        "# Create word → index mapping\n",
        "vocab = {\"<pad>\": 0, \"<unk>\": 1}\n",
        "for tok in all_tokens:\n",
        "    if tok not in vocab:\n",
        "        vocab[tok] = len(vocab)\n",
        "\n",
        "print(f\"Vocab size: {len(vocab)}\")\n",
        "\n",
        "# Reverse mapping for readability (optional)\n",
        "inv_vocab = {i: w for w, i in vocab.items()}\n"
      ],
      "metadata": {
        "id": "PB4RjgF9hitA",
        "colab": {
          "base_uri": "https://localhost:8080/"
        },
        "outputId": "dc7dc45c-55b7-4f92-d509-66e8dd239bcb"
      },
      "execution_count": 6,
      "outputs": [
        {
          "output_type": "stream",
          "name": "stdout",
          "text": [
            "Vocab size: 20118\n"
          ]
        }
      ]
    },
    {
      "cell_type": "markdown",
      "source": [
        "Step 2 – Encode Texts Numerically"
      ],
      "metadata": {
        "id": "KOqfE5vwyT2j"
      }
    },
    {
      "cell_type": "code",
      "source": [
        "def encode_tokens(tokens, vocab):\n",
        "    return [vocab.get(tok, vocab[\"<unk>\"]) for tok in tokens]\n",
        "\n",
        "df[\"premise_ids\"] = df[\"premise_tokens\"].apply(lambda t: encode_tokens(t, vocab))\n",
        "df[\"hypothesis_ids\"] = df[\"hypothesis_tokens\"].apply(lambda t: encode_tokens(t, vocab))\n",
        "\n",
        "label2id = {\"entails\": 0, \"neutral\": 1}\n",
        "df[\"label_id\"] = df[\"label\"].map(label2id)\n"
      ],
      "metadata": {
        "id": "ioLuH7q1yV9Y"
      },
      "execution_count": 7,
      "outputs": []
    },
    {
      "cell_type": "markdown",
      "source": [
        "Step 3 – Create Dataset + DataLoader"
      ],
      "metadata": {
        "id": "PLk26pdzyhZw"
      }
    },
    {
      "cell_type": "code",
      "source": [
        "class NLIDataset(Dataset):\n",
        "    def __init__(self, df):\n",
        "        self.premises = df[\"premise_ids\"].tolist()\n",
        "        self.hypotheses = df[\"hypothesis_ids\"].tolist()\n",
        "        self.labels = df[\"label_id\"].tolist()\n",
        "\n",
        "    def __len__(self):\n",
        "        return len(self.labels)\n",
        "\n",
        "    def __getitem__(self, idx):\n",
        "        return torch.tensor(self.premises[idx]), torch.tensor(self.hypotheses[idx]), torch.tensor(self.labels[idx])\n",
        "\n",
        "def collate_fn(batch):\n",
        "    premises, hypotheses, labels = zip(*batch)\n",
        "    premises = pad_sequence(premises, batch_first=True, padding_value=vocab[\"<pad>\"])\n",
        "    hypotheses = pad_sequence(hypotheses, batch_first=True, padding_value=vocab[\"<pad>\"])\n",
        "    labels = torch.tensor(labels)\n",
        "    return premises, hypotheses, labels\n",
        "\n",
        "dataset = NLIDataset(df)\n",
        "dataloader = DataLoader(dataset, batch_size=32, shuffle=True, collate_fn=collate_fn)\n",
        "\n",
        "for p, h, l in dataloader:\n",
        "    print(\"Premise batch shape:\", p.shape)\n",
        "    print(\"Hypothesis batch shape:\", h.shape)\n",
        "    print(\"Label batch shape:\", l.shape)\n",
        "    break\n"
      ],
      "metadata": {
        "colab": {
          "base_uri": "https://localhost:8080/"
        },
        "id": "YG805Uxqyjpv",
        "outputId": "314b8a4d-dde7-4345-926b-4e0558fe74d4"
      },
      "execution_count": 8,
      "outputs": [
        {
          "output_type": "stream",
          "name": "stdout",
          "text": [
            "Premise batch shape: torch.Size([32, 38])\n",
            "Hypothesis batch shape: torch.Size([32, 33])\n",
            "Label batch shape: torch.Size([32])\n"
          ]
        }
      ]
    },
    {
      "cell_type": "markdown",
      "source": [
        "# **MODELS**"
      ],
      "metadata": {
        "id": "3Cgk74-4Brhj"
      }
    },
    {
      "cell_type": "markdown",
      "source": [
        "**1. Baseline BiLSTM Model + Training Loop**\n",
        "\n"
      ],
      "metadata": {
        "id": "0PYo46Wgz200"
      }
    },
    {
      "cell_type": "code",
      "source": [
        "# --- Step 1: Imports ---\n",
        "import torch\n",
        "import torch.nn as nn\n",
        "from torch.utils.data import DataLoader\n",
        "from torch.optim import Adam\n",
        "from tqdm import tqdm\n",
        "\n",
        "device = torch.device(\"cuda\" if torch.cuda.is_available() else \"cpu\")\n",
        "print(\"Running on:\", device)\n",
        "\n",
        "# --- Step 2: Model Definition ---\n",
        "class BiLSTMBase(nn.Module):\n",
        "    def __init__(self, vocab_size, embed_dim, hidden_dim, num_classes, pad_idx):\n",
        "        super().__init__()\n",
        "        self.embedding = nn.Embedding(vocab_size, embed_dim, padding_idx=pad_idx)\n",
        "        self.bilstm = nn.LSTM(embed_dim, hidden_dim,\n",
        "                              batch_first=True, bidirectional=True)\n",
        "        self.pool = nn.AdaptiveMaxPool1d(1)   # converts variable-length seq → fixed-size\n",
        "        self.fc = nn.Sequential(\n",
        "            nn.Linear(hidden_dim * 2 * 3, hidden_dim),\n",
        "            nn.ReLU(),\n",
        "            nn.Linear(hidden_dim, num_classes)\n",
        "        )\n",
        "\n",
        "    def encode(self, x):\n",
        "        emb = self.embedding(x)               # (B, L, E)\n",
        "        out, _ = self.bilstm(emb)             # (B, L, 2H)\n",
        "        out = out.permute(0, 2, 1)            # (B, 2H, L)\n",
        "        pooled = self.pool(out).squeeze(-1)   # (B, 2H)\n",
        "        return pooled\n",
        "\n",
        "    def forward(self, premise, hypothesis):\n",
        "        p_vec = self.encode(premise)\n",
        "        h_vec = self.encode(hypothesis)\n",
        "        combined = torch.cat([p_vec, h_vec, torch.abs(p_vec - h_vec)], dim=1)\n",
        "        logits = self.fc(combined)\n",
        "        return logits\n",
        "\n",
        "# --- Step 3: Initialise Model ---\n",
        "vocab_size = len(vocab)\n",
        "embed_dim = 100\n",
        "hidden_dim = 128\n",
        "num_classes = 2\n",
        "pad_idx = vocab[\"<pad>\"]\n",
        "\n",
        "model = BiLSTMBase(vocab_size, embed_dim, hidden_dim, num_classes, pad_idx).to(device)\n",
        "\n",
        "# --- Step 4: Training Setup ---\n",
        "criterion = nn.CrossEntropyLoss()\n",
        "optimizer = Adam(model.parameters(), lr=1e-3)\n",
        "\n",
        "epochs = 5\n",
        "for epoch in range(epochs):\n",
        "    model.train()\n",
        "    total_loss, total_correct, total_samples = 0, 0, 0\n",
        "    loop = tqdm(dataloader, desc=f\"Epoch {epoch+1}/{epochs}\")\n",
        "\n",
        "    for premises, hypotheses, labels in loop:\n",
        "        premises, hypotheses, labels = premises.to(device), hypotheses.to(device), labels.to(device)\n",
        "\n",
        "        optimizer.zero_grad()\n",
        "        logits = model(premises, hypotheses)\n",
        "        loss = criterion(logits, labels)\n",
        "        loss.backward()\n",
        "        optimizer.step()\n",
        "\n",
        "        preds = torch.argmax(logits, dim=1)\n",
        "        total_loss += loss.item() * labels.size(0)\n",
        "        total_correct += (preds == labels).sum().item()\n",
        "        total_samples += labels.size(0)\n",
        "\n",
        "        loop.set_postfix(loss=total_loss/total_samples, acc=total_correct/total_samples)\n",
        "\n",
        "    print(f\"Epoch {epoch+1}: Loss={total_loss/total_samples:.4f}, Acc={total_correct/total_samples:.4f}\")\n",
        "\n",
        "torch.save(model.state_dict(), \"models/bilstm_baseline.pt\")\n",
        "print(\"Training complete and model saved to models/bilstm_baseline.pt\")\n"
      ],
      "metadata": {
        "colab": {
          "base_uri": "https://localhost:8080/"
        },
        "id": "1TdtvVvdz58d",
        "outputId": "c48d1021-efdf-4a8c-812e-42791f958d68"
      },
      "execution_count": 12,
      "outputs": [
        {
          "output_type": "stream",
          "name": "stdout",
          "text": [
            "Running on: cuda\n"
          ]
        },
        {
          "output_type": "stream",
          "name": "stderr",
          "text": [
            "Epoch 1/5: 100%|██████████| 721/721 [00:06<00:00, 112.40it/s, acc=0.799, loss=0.429]\n"
          ]
        },
        {
          "output_type": "stream",
          "name": "stdout",
          "text": [
            "Epoch 1: Loss=0.4293, Acc=0.7992\n"
          ]
        },
        {
          "output_type": "stream",
          "name": "stderr",
          "text": [
            "Epoch 2/5: 100%|██████████| 721/721 [00:07<00:00, 99.91it/s, acc=0.907, loss=0.235] \n"
          ]
        },
        {
          "output_type": "stream",
          "name": "stdout",
          "text": [
            "Epoch 2: Loss=0.2352, Acc=0.9069\n"
          ]
        },
        {
          "output_type": "stream",
          "name": "stderr",
          "text": [
            "Epoch 3/5: 100%|██████████| 721/721 [00:06<00:00, 112.32it/s, acc=0.955, loss=0.125]\n"
          ]
        },
        {
          "output_type": "stream",
          "name": "stdout",
          "text": [
            "Epoch 3: Loss=0.1249, Acc=0.9546\n"
          ]
        },
        {
          "output_type": "stream",
          "name": "stderr",
          "text": [
            "Epoch 4/5: 100%|██████████| 721/721 [00:07<00:00, 100.09it/s, acc=0.978, loss=0.0641]\n"
          ]
        },
        {
          "output_type": "stream",
          "name": "stdout",
          "text": [
            "Epoch 4: Loss=0.0641, Acc=0.9783\n"
          ]
        },
        {
          "output_type": "stream",
          "name": "stderr",
          "text": [
            "Epoch 5/5: 100%|██████████| 721/721 [00:06<00:00, 113.15it/s, acc=0.985, loss=0.0436]\n"
          ]
        },
        {
          "output_type": "stream",
          "name": "stdout",
          "text": [
            "Epoch 5: Loss=0.0436, Acc=0.9853\n",
            "Training complete and model saved to models/bilstm_baseline.pt\n"
          ]
        }
      ]
    },
    {
      "cell_type": "markdown",
      "source": [
        "SANITY CHECKS BY CHAT"
      ],
      "metadata": {
        "id": "ec1mcwdz_MON"
      }
    },
    {
      "cell_type": "code",
      "source": [
        "# ============================================================\n",
        "#   Baseline BiLSTM Validation & Compliance Check\n",
        "#   (CITS4012 Model 1 Sanity Tests)\n",
        "# ============================================================\n",
        "\n",
        "import torch\n",
        "import torch.nn as nn\n",
        "from tqdm import tqdm\n",
        "\n",
        "device = torch.device(\"cuda\" if torch.cuda.is_available() else \"cpu\")\n",
        "model.eval()  # evaluation mode\n",
        "\n",
        "print(\"--------------------------------------------------\")\n",
        "print(\"🔍 Checking Model Compliance for CITS4012 Baseline BiLSTM\")\n",
        "print(\"--------------------------------------------------\")\n",
        "\n",
        "# ✅ 1. Architecture compliance\n",
        "expected_classes = 2\n",
        "out_features = model.fc[-1].out_features\n",
        "print(f\"Output layer classes: {out_features}  |  Expected: {expected_classes}\")\n",
        "assert out_features == expected_classes, \"❌ Output dimension mismatch!\"\n",
        "\n",
        "print(\"Bidirectionality:\", model.bilstm.bidirectional)\n",
        "print(\"Pooling layer:\", model.pool)\n",
        "print(\"Embedding dim:\", model.embedding.embedding_dim)\n",
        "print(\"Hidden dim:\", model.bilstm.hidden_size)\n",
        "print(\"Architecture compliance ✅\")\n",
        "\n",
        "# ✅ 2. Forward pass sanity\n",
        "prem, hyp, lbl = next(iter(dataloader))\n",
        "prem, hyp = prem.to(device), hyp.to(device)\n",
        "logits = model(prem[:2], hyp[:2])\n",
        "print(\"\\nForward pass output shape:\", logits.shape)\n",
        "assert logits.shape == (2, 2), \"❌ Forward output shape mismatch!\"\n",
        "print(\"Forward pass ✅\")\n",
        "\n",
        "# ✅ 3. Parameter count sanity\n",
        "param_count = sum(p.numel() for p in model.parameters())\n",
        "print(f\"\\nModel parameter count: {param_count:,}\")\n",
        "if param_count < 50_000:\n",
        "    print(\"⚠️ Unusually small model — check hidden/embedding dims.\")\n",
        "elif param_count > 50_000_000:\n",
        "    print(\"⚠️ Unusually large model — check embedding vocab or layers.\")\n",
        "else:\n",
        "    print(\"Parameter count ✅ within expected range (1M–3M typical).\")\n",
        "\n",
        "# ✅ 4. Loss trend sanity (mini-test for 1 epoch)\n",
        "criterion = nn.CrossEntropyLoss()\n",
        "optimizer = torch.optim.Adam(model.parameters(), lr=1e-3)\n",
        "\n",
        "model.train()\n",
        "init_loss = None\n",
        "total_loss, total_correct, total_samples = 0, 0, 0\n",
        "\n",
        "for batch_idx, (prem, hyp, lbl) in enumerate(tqdm(dataloader, total=5, desc=\"Mini-Epoch\")):\n",
        "    if batch_idx >= 5:  # small subset\n",
        "        break\n",
        "    prem, hyp, lbl = prem.to(device), hyp.to(device), lbl.to(device)\n",
        "    optimizer.zero_grad()\n",
        "    logits = model(prem, hyp)\n",
        "    loss = criterion(logits, lbl)\n",
        "    if init_loss is None:\n",
        "        init_loss = loss.item()\n",
        "    loss.backward()\n",
        "    optimizer.step()\n",
        "    total_loss += loss.item()\n",
        "    preds = torch.argmax(logits, dim=1)\n",
        "    total_correct += (preds == lbl).sum().item()\n",
        "    total_samples += lbl.size(0)\n",
        "\n",
        "avg_loss = total_loss / 5\n",
        "acc = total_correct / total_samples\n",
        "print(f\"\\nInitial loss: {init_loss:.4f} → Avg mini-epoch loss: {avg_loss:.4f}\")\n",
        "print(f\"Mini-epoch accuracy: {acc:.3f}\")\n",
        "if avg_loss < init_loss:\n",
        "    print(\"Loss trend ✅ decreasing (training behaves correctly).\")\n",
        "else:\n",
        "    print(\"⚠️ Loss not decreasing — check learning rate or label encoding.\")\n",
        "\n",
        "# ✅ 5. Logical inference test\n",
        "def quick_encode(sentence, vocab):\n",
        "    text = re.sub(r\"[^a-z0-9\\s]\", \"\", sentence.lower()).split()\n",
        "    return torch.tensor([[vocab.get(tok, vocab[\"<unk>\"]) for tok in text]])\n",
        "\n",
        "test_prem = \"the blood sample was analyzed for glucose\"\n",
        "test_hyp = \"the sample was tested for sugar\"\n",
        "prem_ids = quick_encode(test_prem, vocab).to(device)\n",
        "hyp_ids  = quick_encode(test_hyp, vocab).to(device)\n",
        "with torch.no_grad():\n",
        "    logits = model(prem_ids, hyp_ids)\n",
        "    pred = torch.argmax(logits, dim=1).item()\n",
        "label_pred = \"entails\" if pred == 0 else \"neutral\"\n",
        "print(f\"\\nInference test: '{test_prem}' ⟹ '{test_hyp}' → Prediction: {label_pred}\")\n",
        "\n",
        "print(\"\\n✅ All compliance checks completed.\")\n",
        "print(\"If all ✅ marks are present, your baseline BiLSTM implementation conforms to CITS4012 specifications.\")\n"
      ],
      "metadata": {
        "colab": {
          "base_uri": "https://localhost:8080/"
        },
        "id": "1x9jg4Cc_PAf",
        "outputId": "801dc6a4-62af-4a85-b29c-5a8e6730caf4"
      },
      "execution_count": 14,
      "outputs": [
        {
          "output_type": "stream",
          "name": "stdout",
          "text": [
            "--------------------------------------------------\n",
            "🔍 Checking Model Compliance for CITS4012 Baseline BiLSTM\n",
            "--------------------------------------------------\n",
            "Output layer classes: 2  |  Expected: 2\n",
            "Bidirectionality: True\n",
            "Pooling layer: AdaptiveMaxPool1d(output_size=1)\n",
            "Embedding dim: 100\n",
            "Hidden dim: 128\n",
            "Architecture compliance ✅\n",
            "\n",
            "Forward pass output shape: torch.Size([2, 2])\n",
            "Forward pass ✅\n",
            "\n",
            "Model parameter count: 2,346,010\n",
            "Parameter count ✅ within expected range (1M–3M typical).\n"
          ]
        },
        {
          "output_type": "stream",
          "name": "stderr",
          "text": [
            "Mini-Epoch: 100%|██████████| 5/5 [00:00<00:00, 72.04it/s]"
          ]
        },
        {
          "output_type": "stream",
          "name": "stdout",
          "text": [
            "\n",
            "Initial loss: 0.0285 → Avg mini-epoch loss: 0.0208\n",
            "Mini-epoch accuracy: 0.994\n",
            "Loss trend ✅ decreasing (training behaves correctly).\n",
            "\n",
            "Inference test: 'the blood sample was analyzed for glucose' ⟹ 'the sample was tested for sugar' → Prediction: neutral\n",
            "\n",
            "✅ All compliance checks completed.\n",
            "If all ✅ marks are present, your baseline BiLSTM implementation conforms to CITS4012 specifications.\n"
          ]
        },
        {
          "output_type": "stream",
          "name": "stderr",
          "text": [
            "\n"
          ]
        }
      ]
    },
    {
      "cell_type": "markdown",
      "source": [
        "**2. BiLSTM with Attention**"
      ],
      "metadata": {
        "id": "yctxgB1sBlYd"
      }
    },
    {
      "cell_type": "code",
      "source": [
        "import torch\n",
        "import torch.nn as nn\n",
        "import torch.nn.functional as F\n",
        "import math\n",
        "\n",
        "# --- Lightweight Attention Module (adapted from agastya's transformer code) ---\n",
        "class LSTMAttention(nn.Module):\n",
        "    \"\"\"\n",
        "    Scaled Dot-Product Attention over BiLSTM outputs.\n",
        "    \"\"\"\n",
        "    def __init__(self, d_model, d_k, dropout=0.1):\n",
        "        super().__init__()\n",
        "        self.d_k = d_k\n",
        "        self.q = nn.Linear(d_model, d_k, bias=False)\n",
        "        self.k = nn.Linear(d_model, d_k, bias=False)\n",
        "        self.v = nn.Linear(d_model, d_k, bias=False)\n",
        "        self.dropout = nn.Dropout(dropout)\n",
        "\n",
        "    def forward(self, x):\n",
        "        # x: (batch, seq_len, hidden_dim)\n",
        "        q = self.q(x)\n",
        "        k = self.k(x)\n",
        "        v = self.v(x)\n",
        "        scale = 1.0 / math.sqrt(self.d_k)\n",
        "\n",
        "        attn = torch.matmul(q, k.transpose(-2, -1)) * scale   # (B, T, T)\n",
        "        weights = F.softmax(attn, dim=-1)\n",
        "        weights = self.dropout(weights)\n",
        "\n",
        "        context = torch.matmul(weights, v)                    # (B, T, d_k)\n",
        "        # weighted sum to get single vector per sequence\n",
        "        context = torch.sum(context, dim=1)                   # (B, d_k)\n",
        "        return context, weights\n",
        "\n",
        "\n",
        "# --- BiLSTM + Attention Model ---\n",
        "class BiLSTMAttentionModel(nn.Module):\n",
        "    def __init__(self, vocab_size, embed_dim=100, hidden_dim=128, d_k=64, num_classes=2):\n",
        "        super().__init__()\n",
        "        self.embedding = nn.Embedding(vocab_size, embed_dim, padding_idx=0)\n",
        "        self.bilstm = nn.LSTM(embed_dim, hidden_dim, batch_first=True, bidirectional=True)\n",
        "        self.attn = LSTMAttention(d_model=hidden_dim*2, d_k=d_k)\n",
        "        self.fc = nn.Sequential(\n",
        "            nn.Linear(d_k*3, 128),\n",
        "            nn.ReLU(),\n",
        "            nn.Linear(128, num_classes)\n",
        "        )\n",
        "\n",
        "    def encode(self, x):\n",
        "        x = self.embedding(x)\n",
        "        h, _ = self.bilstm(x)\n",
        "        ctx, _ = self.attn(h)\n",
        "        return ctx\n",
        "\n",
        "    def forward(self, premise, hypothesis):\n",
        "        p_vec = self.encode(premise)\n",
        "        h_vec = self.encode(hypothesis)\n",
        "        combined = torch.cat([p_vec, h_vec, torch.abs(p_vec - h_vec)], dim=1)\n",
        "        out = self.fc(combined)\n",
        "        return out\n",
        "\n",
        "\n",
        "# --- Model Setup Example ---\n",
        "vocab_size = len(vocab)\n",
        "model2 = BiLSTMAttentionModel(vocab_size=vocab_size).to(device)\n",
        "criterion = nn.CrossEntropyLoss()\n",
        "optimizer = torch.optim.Adam(model2.parameters(), lr=1e-3)\n",
        "print(model2)\n"
      ],
      "metadata": {
        "colab": {
          "base_uri": "https://localhost:8080/"
        },
        "id": "GPzXcycxBg02",
        "outputId": "ad6fa1db-34e0-4c2b-f39e-e13cc80db35c"
      },
      "execution_count": 23,
      "outputs": [
        {
          "output_type": "stream",
          "name": "stdout",
          "text": [
            "BiLSTMAttentionModel(\n",
            "  (embedding): Embedding(20118, 100, padding_idx=0)\n",
            "  (bilstm): LSTM(100, 128, batch_first=True, bidirectional=True)\n",
            "  (attn): LSTMAttention(\n",
            "    (q): Linear(in_features=256, out_features=64, bias=False)\n",
            "    (k): Linear(in_features=256, out_features=64, bias=False)\n",
            "    (v): Linear(in_features=256, out_features=64, bias=False)\n",
            "    (dropout): Dropout(p=0.1, inplace=False)\n",
            "  )\n",
            "  (fc): Sequential(\n",
            "    (0): Linear(in_features=192, out_features=128, bias=True)\n",
            "    (1): ReLU()\n",
            "    (2): Linear(in_features=128, out_features=2, bias=True)\n",
            "  )\n",
            ")\n"
          ]
        }
      ]
    },
    {
      "cell_type": "markdown",
      "source": [
        "VISUALISING WEIGHTS BY CHAT"
      ],
      "metadata": {
        "id": "2b_oAIjOCXNs"
      }
    },
    {
      "cell_type": "code",
      "source": [
        "# ============================================================\n",
        "#   Visualising Attention Weights (CITS4012 - Model 2)\n",
        "# ============================================================\n",
        "\n",
        "import matplotlib.pyplot as plt\n",
        "import seaborn as sns\n",
        "import numpy as np\n",
        "import torch.nn.functional as F\n",
        "\n",
        "def visualize_attention(model, sentence, vocab, title=\"Attention Heatmap\"):\n",
        "    model.eval()\n",
        "    tokens = re.sub(r\"[^a-z0-9\\s]\", \"\", sentence.lower()).split()\n",
        "    ids = torch.tensor([[vocab.get(tok, vocab[\"<unk>\"]) for tok in tokens]]).to(device)\n",
        "\n",
        "    # get embeddings and BiLSTM hidden states\n",
        "    with torch.no_grad():\n",
        "        emb = model.embedding(ids)\n",
        "        h, _ = model.bilstm(emb)\n",
        "        _, attn_weights = model.attn(h)   # (1, T, T) attention weights\n",
        "\n",
        "    attn = attn_weights.squeeze(0).cpu().numpy()\n",
        "    if attn.ndim == 1:  # safety if collapsed\n",
        "        attn = attn[np.newaxis, :]\n",
        "\n",
        "    plt.figure(figsize=(8, 4))\n",
        "    sns.heatmap(attn, cmap=\"viridis\", xticklabels=tokens, yticklabels=[\"Attention\"])\n",
        "    plt.title(title)\n",
        "    plt.xlabel(\"Tokens\")\n",
        "    plt.ylabel(\"Attention weight\")\n",
        "    plt.tight_layout()\n",
        "    plt.show()\n",
        "\n",
        "\n",
        "# Example visualisation\n",
        "sample_prem = \"the blood sample was analyzed for glucose\"\n",
        "sample_hyp  = \"the sample was tested for sugar\"\n",
        "\n",
        "print(\"\\nPremise attention:\")\n",
        "visualize_attention(model2, sample_prem, vocab, \"Premise Attention Weights\")\n",
        "\n",
        "print(\"\\nHypothesis attention:\")\n",
        "visualize_attention(model2, sample_hyp, vocab, \"Hypothesis Attention Weights\")\n"
      ],
      "metadata": {
        "colab": {
          "base_uri": "https://localhost:8080/",
          "height": 868
        },
        "id": "XCfDzxbrCa2l",
        "outputId": "94c578b6-af43-4936-c660-f69b9e8ee0b6"
      },
      "execution_count": 24,
      "outputs": [
        {
          "output_type": "stream",
          "name": "stdout",
          "text": [
            "\n",
            "Premise attention:\n"
          ]
        },
        {
          "output_type": "display_data",
          "data": {
            "text/plain": [
              "<Figure size 800x400 with 2 Axes>"
            ],
            "image/png": "[encoded data removed]"
          },
          "metadata": {}
        },
        {
          "output_type": "stream",
          "name": "stdout",
          "text": [
            "\n",
            "Hypothesis attention:\n"
          ]
        },
        {
          "output_type": "display_data",
          "data": {
            "text/plain": [
              "<Figure size 800x400 with 2 Axes>"
            ],
            "image/png": "[encoded data removed]"
          },
          "metadata": {}
        }
      ]
    },
    {
      "cell_type": "markdown",
      "source": [
        "TRAINING AND SAVING MODEL"
      ],
      "metadata": {
        "id": "7PHT2qkGFaIv"
      }
    },
    {
      "cell_type": "code",
      "source": [
        "import torch\n",
        "from torch.utils.data import random_split, DataLoader\n",
        "from tqdm import tqdm\n",
        "import matplotlib.pyplot as plt\n",
        "\n",
        "device = torch.device(\"cuda\" if torch.cuda.is_available() else \"cpu\")\n",
        "torch.manual_seed(42)\n",
        "\n",
        "# ---------- Split existing dataset ----------\n",
        "train_size = int(0.8 * len(dataset))\n",
        "val_size   = len(dataset) - train_size\n",
        "train_dataset, val_dataset = random_split(dataset, [train_size, val_size])\n",
        "\n",
        "# Reduce batch size to mitigate CUDA out of memory error\n",
        "batch_size = 2\n",
        "\n",
        "train_dataloader = DataLoader(train_dataset, batch_size=batch_size, shuffle=True,  collate_fn=collate_fn)\n",
        "val_dataloader   = DataLoader(val_dataset,   batch_size=batch_size, shuffle=False, collate_fn=collate_fn)\n",
        "\n",
        "print(f\"Train samples: {len(train_dataset)} | Validation samples: {len(val_dataset)}\")\n",
        "print(f\"Using batch size: {batch_size}\")\n",
        "\n",
        "# ---------- Setup ----------\n",
        "num_epochs = 5\n",
        "best_val_acc = 0.0\n",
        "train_losses, val_losses, train_accs, val_accs = [], [], [], []\n",
        "\n",
        "for epoch in range(num_epochs):\n",
        "    print(f\"\\n===== Epoch {epoch+1}/{num_epochs} =====\")\n",
        "\n",
        "    # -------------------- TRAIN --------------------\n",
        "    model2.train()\n",
        "    running_loss, correct, total = 0.0, 0, 0\n",
        "    for prem, hyp, lbl in tqdm(train_dataloader, desc=\"Training\", leave=False):\n",
        "        prem, hyp, lbl = prem.to(device), hyp.to(device), lbl.to(device)\n",
        "        optimizer.zero_grad()\n",
        "\n",
        "        logits = model2(prem, hyp)\n",
        "        loss = criterion(logits, lbl)\n",
        "        loss.backward()\n",
        "        optimizer.step()\n",
        "\n",
        "        running_loss += loss.item()\n",
        "        preds = torch.argmax(logits, dim=1)\n",
        "        correct += (preds == lbl).sum().item()\n",
        "        total += lbl.size(0)\n",
        "\n",
        "    train_loss = running_loss / len(train_dataloader)\n",
        "    train_acc = correct / total\n",
        "    train_losses.append(train_loss)\n",
        "    train_accs.append(train_acc)\n",
        "\n",
        "    # -------------------- VALIDATION --------------------\n",
        "    model2.eval()\n",
        "    val_loss, val_correct, val_total = 0.0, 0, 0\n",
        "    with torch.no_grad():\n",
        "        for prem, hyp, lbl in tqdm(val_dataloader, desc=\"Validation\", leave=False):\n",
        "            prem, hyp, lbl = prem.to(device), hyp.to(device), lbl.to(device)\n",
        "            logits = model2(prem, hyp)\n",
        "            loss = criterion(logits, lbl)\n",
        "\n",
        "            val_loss += loss.item()\n",
        "            preds = torch.argmax(logits, dim=1)\n",
        "            val_correct += (preds == lbl).sum().item()\n",
        "            val_total += lbl.size(0)\n",
        "\n",
        "    val_loss /= len(val_dataloader)\n",
        "    val_acc = val_correct / val_total\n",
        "    val_losses.append(val_loss)\n",
        "    val_accs.append(val_acc)\n",
        "\n",
        "    print(f\"Train Loss: {train_loss:.4f} | Train Acc: {train_acc:.3f}\")\n",
        "    print(f\"Val   Loss: {val_loss:.4f} | Val   Acc: {val_acc:.3f}\")\n",
        "\n",
        "    # -------------------- SAVE BEST MODEL --------------------\n",
        "    if val_acc > best_val_acc:\n",
        "        best_val_acc = val_acc\n",
        "        torch.save(model2.state_dict(), \"models/bilstm_attention_best.pt\")\n",
        "        print(f\"New best model saved (Val Acc = {val_acc:.3f})\")\n",
        "\n",
        "# -------------------- SAVE FINAL MODEL --------------------\n",
        "torch.save(model2.state_dict(), \"models/bilstm_attention_last.pt\")\n",
        "print(\"\\nTraining complete.\")\n",
        "print(f\"Best validation accuracy: {best_val_acc:.3f}\")\n",
        "print(\"Models saved as:\")\n",
        "print(\"  models/bilstm_attention_best.pt   (best by validation)\")\n",
        "print(\"  models/bilstm_attention_last.pt   (final epoch)\")"
      ],
      "metadata": {
        "colab": {
          "base_uri": "https://localhost:8080/"
        },
        "id": "XaHOyDdAFZ1s",
        "outputId": "7ab7b909-852d-45a6-ca83-9a5567311b75"
      },
      "execution_count": 29,
      "outputs": [
        {
          "output_type": "stream",
          "name": "stdout",
          "text": [
            "Train samples: 18454 | Validation samples: 4614\n",
            "Using batch size: 2\n",
            "\n",
            "===== Epoch 1/5 =====\n"
          ]
        },
        {
          "output_type": "stream",
          "name": "stderr",
          "text": []
        },
        {
          "output_type": "stream",
          "name": "stdout",
          "text": [
            "Train Loss: 0.4600 | Train Acc: 0.822\n",
            "Val   Loss: 0.4259 | Val   Acc: 0.824\n",
            "New best model saved (Val Acc = 0.824)\n",
            "\n",
            "===== Epoch 2/5 =====\n"
          ]
        },
        {
          "output_type": "stream",
          "name": "stderr",
          "text": []
        },
        {
          "output_type": "stream",
          "name": "stdout",
          "text": [
            "Train Loss: 0.4164 | Train Acc: 0.841\n",
            "Val   Loss: 0.4304 | Val   Acc: 0.828\n",
            "New best model saved (Val Acc = 0.828)\n",
            "\n",
            "===== Epoch 3/5 =====\n"
          ]
        },
        {
          "output_type": "stream",
          "name": "stderr",
          "text": []
        },
        {
          "output_type": "stream",
          "name": "stdout",
          "text": [
            "Train Loss: 0.2847 | Train Acc: 0.895\n",
            "Val   Loss: 0.4423 | Val   Acc: 0.837\n",
            "New best model saved (Val Acc = 0.837)\n",
            "\n",
            "===== Epoch 4/5 =====\n"
          ]
        },
        {
          "output_type": "stream",
          "name": "stderr",
          "text": []
        },
        {
          "output_type": "stream",
          "name": "stdout",
          "text": [
            "Train Loss: 0.1968 | Train Acc: 0.930\n",
            "Val   Loss: 0.4515 | Val   Acc: 0.835\n",
            "\n",
            "===== Epoch 5/5 =====\n"
          ]
        },
        {
          "output_type": "stream",
          "name": "stderr",
          "text": [
            "                                                                "
          ]
        },
        {
          "output_type": "stream",
          "name": "stdout",
          "text": [
            "Train Loss: 0.1373 | Train Acc: 0.953\n",
            "Val   Loss: 0.5108 | Val   Acc: 0.842\n",
            "New best model saved (Val Acc = 0.842)\n",
            "\n",
            "Training complete.\n",
            "Best validation accuracy: 0.842\n",
            "Models saved as:\n",
            "  • /content/model2_best.pt   (best by validation)\n",
            "  • /content/model2_last.pt   (final epoch)\n"
          ]
        },
        {
          "output_type": "stream",
          "name": "stderr",
          "text": [
            "\r"
          ]
        }
      ]
    },
    {
      "cell_type": "markdown",
      "source": [
        "VISUALISATION BY CHAT"
      ],
      "metadata": {
        "id": "YsAk2sWWJVYq"
      }
    },
    {
      "cell_type": "code",
      "source": [
        "# ============================================================\n",
        "#   OPTIONAL: Plot Accuracy and Loss Curves\n",
        "# ============================================================\n",
        "\n",
        "plt.figure(figsize=(8,4))\n",
        "plt.plot(train_accs, label=\"Train Accuracy\")\n",
        "plt.plot(val_accs, label=\"Validation Accuracy\")\n",
        "plt.title(\"Model 2 — Accuracy per Epoch\")\n",
        "plt.xlabel(\"Epoch\")\n",
        "plt.ylabel(\"Accuracy\")\n",
        "plt.legend()\n",
        "plt.show()\n",
        "\n",
        "plt.figure(figsize=(8,4))\n",
        "plt.plot(train_losses, label=\"Train Loss\")\n",
        "plt.plot(val_losses, label=\"Validation Loss\")\n",
        "plt.title(\"Model 2 — Loss per Epoch\")\n",
        "plt.xlabel(\"Epoch\")\n",
        "plt.ylabel(\"Loss\")\n",
        "plt.legend()\n",
        "plt.show()"
      ],
      "metadata": {
        "colab": {
          "base_uri": "https://localhost:8080/",
          "height": 803
        },
        "id": "f2OmWzJmJZU0",
        "outputId": "21c0927b-2bfc-409b-d178-b40739ba7d16"
      },
      "execution_count": 31,
      "outputs": [
        {
          "output_type": "display_data",
          "data": {
            "text/plain": [
              "<Figure size 800x400 with 1 Axes>"
            ],
            "image/png": "[encoded data removed]"
          },
          "metadata": {}
        },
        {
          "output_type": "display_data",
          "data": {
            "text/plain": [
              "<Figure size 800x400 with 1 Axes>"
            ],
            "image/png": "[encoded data removed]"
          },
          "metadata": {}
        }
      ]
    }
  ]
}